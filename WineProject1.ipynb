{
 "cells": [
  {
   "cell_type": "code",
   "execution_count": 1,
   "metadata": {},
   "outputs": [],
   "source": [
    "import numpy as np \n",
    "import pandas as pd\n",
    "import seaborn as sns\n",
    "\n",
    "import matplotlib \n",
    "from matplotlib import pyplot as plt\n",
    "from matplotlib import style\n",
    "\n",
    "# Algorithms\n",
    "from sklearn import linear_model\n",
    "from sklearn.linear_model import LogisticRegression\n",
    "from sklearn.ensemble import RandomForestClassifier\n",
    "from sklearn.linear_model import Perceptron\n",
    "from sklearn.linear_model import SGDClassifier\n",
    "from sklearn.tree import DecisionTreeClassifier\n",
    "from sklearn.neighbors import KNeighborsClassifier\n",
    "from sklearn.svm import SVC, LinearSVC\n",
    "from sklearn.naive_bayes import GaussianNB"
   ]
  },
  {
   "cell_type": "code",
   "execution_count": 2,
   "metadata": {},
   "outputs": [
    {
     "data": {
      "text/html": [
       "<div>\n",
       "<style scoped>\n",
       "    .dataframe tbody tr th:only-of-type {\n",
       "        vertical-align: middle;\n",
       "    }\n",
       "\n",
       "    .dataframe tbody tr th {\n",
       "        vertical-align: top;\n",
       "    }\n",
       "\n",
       "    .dataframe thead th {\n",
       "        text-align: right;\n",
       "    }\n",
       "</style>\n",
       "<table border=\"1\" class=\"dataframe\">\n",
       "  <thead>\n",
       "    <tr style=\"text-align: right;\">\n",
       "      <th></th>\n",
       "      <th>Class</th>\n",
       "      <th>Alcohol</th>\n",
       "      <th>Malic acid</th>\n",
       "      <th>Ash</th>\n",
       "      <th>Alcalinity of ash</th>\n",
       "      <th>Magnesium</th>\n",
       "      <th>Total phenols</th>\n",
       "      <th>Flavanoids</th>\n",
       "      <th>Nonflavanoid phenols</th>\n",
       "      <th>Proanthocyanins</th>\n",
       "      <th>Color intensity</th>\n",
       "      <th>Hue</th>\n",
       "      <th>diluted wines</th>\n",
       "      <th>Proline</th>\n",
       "    </tr>\n",
       "  </thead>\n",
       "  <tbody>\n",
       "    <tr>\n",
       "      <th>0</th>\n",
       "      <td>1</td>\n",
       "      <td>14.23</td>\n",
       "      <td>1.71</td>\n",
       "      <td>2.43</td>\n",
       "      <td>15.6</td>\n",
       "      <td>127</td>\n",
       "      <td>2.80</td>\n",
       "      <td>3.06</td>\n",
       "      <td>0.28</td>\n",
       "      <td>2.29</td>\n",
       "      <td>5.64</td>\n",
       "      <td>1.04</td>\n",
       "      <td>3.92</td>\n",
       "      <td>1065</td>\n",
       "    </tr>\n",
       "    <tr>\n",
       "      <th>1</th>\n",
       "      <td>1</td>\n",
       "      <td>13.20</td>\n",
       "      <td>1.78</td>\n",
       "      <td>2.14</td>\n",
       "      <td>11.2</td>\n",
       "      <td>100</td>\n",
       "      <td>2.65</td>\n",
       "      <td>2.76</td>\n",
       "      <td>0.26</td>\n",
       "      <td>1.28</td>\n",
       "      <td>4.38</td>\n",
       "      <td>1.05</td>\n",
       "      <td>3.40</td>\n",
       "      <td>1050</td>\n",
       "    </tr>\n",
       "    <tr>\n",
       "      <th>2</th>\n",
       "      <td>1</td>\n",
       "      <td>13.16</td>\n",
       "      <td>2.36</td>\n",
       "      <td>2.67</td>\n",
       "      <td>18.6</td>\n",
       "      <td>101</td>\n",
       "      <td>2.80</td>\n",
       "      <td>3.24</td>\n",
       "      <td>0.30</td>\n",
       "      <td>2.81</td>\n",
       "      <td>5.68</td>\n",
       "      <td>1.03</td>\n",
       "      <td>3.17</td>\n",
       "      <td>1185</td>\n",
       "    </tr>\n",
       "    <tr>\n",
       "      <th>3</th>\n",
       "      <td>1</td>\n",
       "      <td>14.37</td>\n",
       "      <td>1.95</td>\n",
       "      <td>2.50</td>\n",
       "      <td>16.8</td>\n",
       "      <td>113</td>\n",
       "      <td>3.85</td>\n",
       "      <td>3.49</td>\n",
       "      <td>0.24</td>\n",
       "      <td>2.18</td>\n",
       "      <td>7.80</td>\n",
       "      <td>0.86</td>\n",
       "      <td>3.45</td>\n",
       "      <td>1480</td>\n",
       "    </tr>\n",
       "    <tr>\n",
       "      <th>4</th>\n",
       "      <td>1</td>\n",
       "      <td>13.24</td>\n",
       "      <td>2.59</td>\n",
       "      <td>2.87</td>\n",
       "      <td>21.0</td>\n",
       "      <td>118</td>\n",
       "      <td>2.80</td>\n",
       "      <td>2.69</td>\n",
       "      <td>0.39</td>\n",
       "      <td>1.82</td>\n",
       "      <td>4.32</td>\n",
       "      <td>1.04</td>\n",
       "      <td>2.93</td>\n",
       "      <td>735</td>\n",
       "    </tr>\n",
       "  </tbody>\n",
       "</table>\n",
       "</div>"
      ],
      "text/plain": [
       "   Class  Alcohol  Malic acid   Ash  Alcalinity of ash  Magnesium  \\\n",
       "0      1    14.23        1.71  2.43               15.6        127   \n",
       "1      1    13.20        1.78  2.14               11.2        100   \n",
       "2      1    13.16        2.36  2.67               18.6        101   \n",
       "3      1    14.37        1.95  2.50               16.8        113   \n",
       "4      1    13.24        2.59  2.87               21.0        118   \n",
       "\n",
       "   Total phenols  Flavanoids  Nonflavanoid phenols  Proanthocyanins  \\\n",
       "0           2.80        3.06                  0.28             2.29   \n",
       "1           2.65        2.76                  0.26             1.28   \n",
       "2           2.80        3.24                  0.30             2.81   \n",
       "3           3.85        3.49                  0.24             2.18   \n",
       "4           2.80        2.69                  0.39             1.82   \n",
       "\n",
       "   Color intensity   Hue  diluted wines  Proline      \n",
       "0             5.64  1.04           3.92         1065  \n",
       "1             4.38  1.05           3.40         1050  \n",
       "2             5.68  1.03           3.17         1185  \n",
       "3             7.80  0.86           3.45         1480  \n",
       "4             4.32  1.04           2.93          735  "
      ]
     },
     "execution_count": 2,
     "metadata": {},
     "output_type": "execute_result"
    }
   ],
   "source": [
    "df=pd.read_csv(\"wine.csv\")\n",
    "df.head()"
   ]
  },
  {
   "cell_type": "markdown",
   "metadata": {},
   "source": [
    "#Looking at the dataset we can consider \"Class\" as the Target variable \n",
    "#As there are NoNull values we should fix the distortions in the data if any and start applying our mobel \n"
   ]
  },
  {
   "cell_type": "code",
   "execution_count": 3,
   "metadata": {},
   "outputs": [
    {
     "data": {
      "text/plain": [
       "Class                   0\n",
       "Alcohol                 0\n",
       "Malic acid              0\n",
       "Ash                     0\n",
       "Alcalinity of ash       0\n",
       "Magnesium               0\n",
       "Total phenols           0\n",
       "Flavanoids              0\n",
       "Nonflavanoid phenols    0\n",
       "Proanthocyanins         0\n",
       "Color intensity         0\n",
       "Hue                     0\n",
       "diluted wines           0\n",
       "Proline                 0\n",
       "dtype: int64"
      ]
     },
     "execution_count": 3,
     "metadata": {},
     "output_type": "execute_result"
    }
   ],
   "source": [
    "df.isnull().sum()\n",
    "#There are No Null valuses"
   ]
  },
  {
   "cell_type": "code",
   "execution_count": 4,
   "metadata": {},
   "outputs": [
    {
     "data": {
      "text/html": [
       "<div>\n",
       "<style scoped>\n",
       "    .dataframe tbody tr th:only-of-type {\n",
       "        vertical-align: middle;\n",
       "    }\n",
       "\n",
       "    .dataframe tbody tr th {\n",
       "        vertical-align: top;\n",
       "    }\n",
       "\n",
       "    .dataframe thead th {\n",
       "        text-align: right;\n",
       "    }\n",
       "</style>\n",
       "<table border=\"1\" class=\"dataframe\">\n",
       "  <thead>\n",
       "    <tr style=\"text-align: right;\">\n",
       "      <th></th>\n",
       "      <th>Class</th>\n",
       "      <th>Alcohol</th>\n",
       "      <th>Malic acid</th>\n",
       "      <th>Ash</th>\n",
       "      <th>Alcalinity of ash</th>\n",
       "      <th>Magnesium</th>\n",
       "      <th>Total phenols</th>\n",
       "      <th>Flavanoids</th>\n",
       "      <th>Nonflavanoid phenols</th>\n",
       "      <th>Proanthocyanins</th>\n",
       "      <th>Color intensity</th>\n",
       "      <th>Hue</th>\n",
       "      <th>diluted wines</th>\n",
       "      <th>Proline</th>\n",
       "    </tr>\n",
       "  </thead>\n",
       "  <tbody>\n",
       "    <tr>\n",
       "      <th>count</th>\n",
       "      <td>178.000000</td>\n",
       "      <td>178.000000</td>\n",
       "      <td>178.000000</td>\n",
       "      <td>178.000000</td>\n",
       "      <td>178.000000</td>\n",
       "      <td>178.000000</td>\n",
       "      <td>178.000000</td>\n",
       "      <td>178.000000</td>\n",
       "      <td>178.000000</td>\n",
       "      <td>178.000000</td>\n",
       "      <td>178.000000</td>\n",
       "      <td>178.000000</td>\n",
       "      <td>178.000000</td>\n",
       "      <td>178.000000</td>\n",
       "    </tr>\n",
       "    <tr>\n",
       "      <th>mean</th>\n",
       "      <td>1.938202</td>\n",
       "      <td>13.000618</td>\n",
       "      <td>2.336348</td>\n",
       "      <td>2.366517</td>\n",
       "      <td>19.494944</td>\n",
       "      <td>99.741573</td>\n",
       "      <td>2.295112</td>\n",
       "      <td>2.029270</td>\n",
       "      <td>0.361854</td>\n",
       "      <td>1.590899</td>\n",
       "      <td>5.058090</td>\n",
       "      <td>0.957449</td>\n",
       "      <td>2.611685</td>\n",
       "      <td>746.893258</td>\n",
       "    </tr>\n",
       "    <tr>\n",
       "      <th>std</th>\n",
       "      <td>0.775035</td>\n",
       "      <td>0.811827</td>\n",
       "      <td>1.117146</td>\n",
       "      <td>0.274344</td>\n",
       "      <td>3.339564</td>\n",
       "      <td>14.282484</td>\n",
       "      <td>0.625851</td>\n",
       "      <td>0.998859</td>\n",
       "      <td>0.124453</td>\n",
       "      <td>0.572359</td>\n",
       "      <td>2.318286</td>\n",
       "      <td>0.228572</td>\n",
       "      <td>0.709990</td>\n",
       "      <td>314.907474</td>\n",
       "    </tr>\n",
       "    <tr>\n",
       "      <th>min</th>\n",
       "      <td>1.000000</td>\n",
       "      <td>11.030000</td>\n",
       "      <td>0.740000</td>\n",
       "      <td>1.360000</td>\n",
       "      <td>10.600000</td>\n",
       "      <td>70.000000</td>\n",
       "      <td>0.980000</td>\n",
       "      <td>0.340000</td>\n",
       "      <td>0.130000</td>\n",
       "      <td>0.410000</td>\n",
       "      <td>1.280000</td>\n",
       "      <td>0.480000</td>\n",
       "      <td>1.270000</td>\n",
       "      <td>278.000000</td>\n",
       "    </tr>\n",
       "    <tr>\n",
       "      <th>25%</th>\n",
       "      <td>1.000000</td>\n",
       "      <td>12.362500</td>\n",
       "      <td>1.602500</td>\n",
       "      <td>2.210000</td>\n",
       "      <td>17.200000</td>\n",
       "      <td>88.000000</td>\n",
       "      <td>1.742500</td>\n",
       "      <td>1.205000</td>\n",
       "      <td>0.270000</td>\n",
       "      <td>1.250000</td>\n",
       "      <td>3.220000</td>\n",
       "      <td>0.782500</td>\n",
       "      <td>1.937500</td>\n",
       "      <td>500.500000</td>\n",
       "    </tr>\n",
       "    <tr>\n",
       "      <th>50%</th>\n",
       "      <td>2.000000</td>\n",
       "      <td>13.050000</td>\n",
       "      <td>1.865000</td>\n",
       "      <td>2.360000</td>\n",
       "      <td>19.500000</td>\n",
       "      <td>98.000000</td>\n",
       "      <td>2.355000</td>\n",
       "      <td>2.135000</td>\n",
       "      <td>0.340000</td>\n",
       "      <td>1.555000</td>\n",
       "      <td>4.690000</td>\n",
       "      <td>0.965000</td>\n",
       "      <td>2.780000</td>\n",
       "      <td>673.500000</td>\n",
       "    </tr>\n",
       "    <tr>\n",
       "      <th>75%</th>\n",
       "      <td>3.000000</td>\n",
       "      <td>13.677500</td>\n",
       "      <td>3.082500</td>\n",
       "      <td>2.557500</td>\n",
       "      <td>21.500000</td>\n",
       "      <td>107.000000</td>\n",
       "      <td>2.800000</td>\n",
       "      <td>2.875000</td>\n",
       "      <td>0.437500</td>\n",
       "      <td>1.950000</td>\n",
       "      <td>6.200000</td>\n",
       "      <td>1.120000</td>\n",
       "      <td>3.170000</td>\n",
       "      <td>985.000000</td>\n",
       "    </tr>\n",
       "    <tr>\n",
       "      <th>max</th>\n",
       "      <td>3.000000</td>\n",
       "      <td>14.830000</td>\n",
       "      <td>5.800000</td>\n",
       "      <td>3.230000</td>\n",
       "      <td>30.000000</td>\n",
       "      <td>162.000000</td>\n",
       "      <td>3.880000</td>\n",
       "      <td>5.080000</td>\n",
       "      <td>0.660000</td>\n",
       "      <td>3.580000</td>\n",
       "      <td>13.000000</td>\n",
       "      <td>1.710000</td>\n",
       "      <td>4.000000</td>\n",
       "      <td>1680.000000</td>\n",
       "    </tr>\n",
       "  </tbody>\n",
       "</table>\n",
       "</div>"
      ],
      "text/plain": [
       "            Class     Alcohol  Malic acid         Ash  Alcalinity of ash  \\\n",
       "count  178.000000  178.000000  178.000000  178.000000         178.000000   \n",
       "mean     1.938202   13.000618    2.336348    2.366517          19.494944   \n",
       "std      0.775035    0.811827    1.117146    0.274344           3.339564   \n",
       "min      1.000000   11.030000    0.740000    1.360000          10.600000   \n",
       "25%      1.000000   12.362500    1.602500    2.210000          17.200000   \n",
       "50%      2.000000   13.050000    1.865000    2.360000          19.500000   \n",
       "75%      3.000000   13.677500    3.082500    2.557500          21.500000   \n",
       "max      3.000000   14.830000    5.800000    3.230000          30.000000   \n",
       "\n",
       "        Magnesium  Total phenols  Flavanoids  Nonflavanoid phenols  \\\n",
       "count  178.000000     178.000000  178.000000            178.000000   \n",
       "mean    99.741573       2.295112    2.029270              0.361854   \n",
       "std     14.282484       0.625851    0.998859              0.124453   \n",
       "min     70.000000       0.980000    0.340000              0.130000   \n",
       "25%     88.000000       1.742500    1.205000              0.270000   \n",
       "50%     98.000000       2.355000    2.135000              0.340000   \n",
       "75%    107.000000       2.800000    2.875000              0.437500   \n",
       "max    162.000000       3.880000    5.080000              0.660000   \n",
       "\n",
       "       Proanthocyanins  Color intensity         Hue  diluted wines  \\\n",
       "count       178.000000       178.000000  178.000000     178.000000   \n",
       "mean          1.590899         5.058090    0.957449       2.611685   \n",
       "std           0.572359         2.318286    0.228572       0.709990   \n",
       "min           0.410000         1.280000    0.480000       1.270000   \n",
       "25%           1.250000         3.220000    0.782500       1.937500   \n",
       "50%           1.555000         4.690000    0.965000       2.780000   \n",
       "75%           1.950000         6.200000    1.120000       3.170000   \n",
       "max           3.580000        13.000000    1.710000       4.000000   \n",
       "\n",
       "       Proline      \n",
       "count   178.000000  \n",
       "mean    746.893258  \n",
       "std     314.907474  \n",
       "min     278.000000  \n",
       "25%     500.500000  \n",
       "50%     673.500000  \n",
       "75%     985.000000  \n",
       "max    1680.000000  "
      ]
     },
     "execution_count": 4,
     "metadata": {},
     "output_type": "execute_result"
    }
   ],
   "source": [
    "df.describe()"
   ]
  },
  {
   "cell_type": "markdown",
   "metadata": {},
   "source": [
    "Totaly there are \n",
    "178 - Rows \n",
    "14 - Columns incluning the Target variable \n",
    "\n",
    "Alcohol\n",
    "Mean-13.0\n",
    "Std- 0.81\n",
    "Min(Least Value)-11.03\n",
    "Median(50th Percentile)-13.05\n",
    "Max(Highest Value)-14.83\n",
    "\n",
    "Malic acid\n",
    "Mean-2.33\n",
    "Std- 1.12\n",
    "Min(Least Value)-0.74\n",
    "Median(50th Percentile)-1.86\n",
    "Max(Highest Value)-5.80\n",
    "\n",
    "Ash\n",
    "Mean-2.36\n",
    "Std- 0.27\n",
    "Min(Least Value)-1.36\n",
    "Median(50th Percentile)-2.36\n",
    "Max(Highest Value)-3.23\n",
    "\n",
    "Alcalinity of ash\n",
    "Mean-19.5\n",
    "Std- 3.33\n",
    "Min(Least Value)-10.6\n",
    "Median(50th Percentile)-19.5\n",
    "Max(Highest Value)-30\n",
    "\n",
    "Magnesium\n",
    "Mean-99.74\n",
    "Std- 14.28\n",
    "Min(Least Value)-70\n",
    "Median(50th Percentile)-98.3\n",
    "Max(Highest Value)-162\n",
    "\n",
    "Total phenols\n",
    "Mean-99.74\n",
    "Std- 14.28\n",
    "Min(Least Value)-70\n",
    "Median(50th Percentile)-98.3\n",
    "Max(Highest Value)-162"
   ]
  },
  {
   "cell_type": "code",
   "execution_count": 6,
   "metadata": {},
   "outputs": [
    {
     "data": {
      "text/plain": [
       "<matplotlib.axes._subplots.AxesSubplot at 0x18ae8476400>"
      ]
     },
     "execution_count": 6,
     "metadata": {},
     "output_type": "execute_result"
    },
    {
     "data": {
      "image/png": "[encoded data removed]",
      "text/plain": [
       "<Figure size 432x288 with 1 Axes>"
      ]
     },
     "metadata": {
      "needs_background": "light"
     },
     "output_type": "display_data"
    }
   ],
   "source": [
    "df[\"Class\"].plot.hist()"
   ]
  },
  {
   "cell_type": "markdown",
   "metadata": {},
   "source": [
    "There are three Catagorical variables in the data defing the class of the wine \n",
    "1,2,3"
   ]
  },
  {
   "cell_type": "code",
   "execution_count": 5,
   "metadata": {},
   "outputs": [
    {
     "data": {
      "image/png": "[encoded data removed]",
      "text/plain": [
       "<Figure size 576x504 with 2 Axes>"
      ]
     },
     "metadata": {
      "needs_background": "light"
     },
     "output_type": "display_data"
    }
   ],
   "source": [
    "corr_hmap= df.corr()\n",
    "plt.figure(figsize=(8,7))\n",
    "sns.heatmap(corr_hmap,annot=True)\n",
    "plt.show()\n",
    "#we can observe that the \"Alcalinity of ash\" has a very low corelation with the class so we can drop the column if need be "
   ]
  },
  {
   "cell_type": "code",
   "execution_count": 6,
   "metadata": {},
   "outputs": [
    {
     "data": {
      "text/plain": [
       "array([[<matplotlib.axes._subplots.AxesSubplot object at 0x000001F89FD1A4C0>,\n",
       "        <matplotlib.axes._subplots.AxesSubplot object at 0x000001F89FD3A970>,\n",
       "        <matplotlib.axes._subplots.AxesSubplot object at 0x000001F89FD5FDF0>,\n",
       "        <matplotlib.axes._subplots.AxesSubplot object at 0x000001F89FD90280>],\n",
       "       [<matplotlib.axes._subplots.AxesSubplot object at 0x000001F89FDBC6D0>,\n",
       "        <matplotlib.axes._subplots.AxesSubplot object at 0x000001F89FDE8A60>,\n",
       "        <matplotlib.axes._subplots.AxesSubplot object at 0x000001F89FDE8B50>,\n",
       "        <matplotlib.axes._subplots.AxesSubplot object at 0x000001F89FE22040>],\n",
       "       [<matplotlib.axes._subplots.AxesSubplot object at 0x000001F89FE7C8B0>,\n",
       "        <matplotlib.axes._subplots.AxesSubplot object at 0x000001F89FEA9D30>,\n",
       "        <matplotlib.axes._subplots.AxesSubplot object at 0x000001F89FEE41C0>,\n",
       "        <matplotlib.axes._subplots.AxesSubplot object at 0x000001F89FF10610>],\n",
       "       [<matplotlib.axes._subplots.AxesSubplot object at 0x000001F89FF3CA90>,\n",
       "        <matplotlib.axes._subplots.AxesSubplot object at 0x000001F89FF6AF10>,\n",
       "        <matplotlib.axes._subplots.AxesSubplot object at 0x000001F89FFA12E0>,\n",
       "        <matplotlib.axes._subplots.AxesSubplot object at 0x000001F89FFC28E0>]],\n",
       "      dtype=object)"
      ]
     },
     "execution_count": 6,
     "metadata": {},
     "output_type": "execute_result"
    },
    {
     "data": {
      "image/png": "[encoded data removed]",
      "text/plain": [
       "<Figure size 1440x1440 with 16 Axes>"
      ]
     },
     "metadata": {
      "needs_background": "light"
     },
     "output_type": "display_data"
    }
   ],
   "source": [
    "df.hist(figsize=(20,20))\n",
    "#we can observe that the features are not normally distributed, So the Skewness of the data must be removed "
   ]
  },
  {
   "cell_type": "code",
   "execution_count": 7,
   "metadata": {},
   "outputs": [
    {
     "data": {
      "image/png": "[encoded data removed]",
      "text/plain": [
       "<Figure size 720x504 with 1 Axes>"
      ]
     },
     "metadata": {
      "needs_background": "light"
     },
     "output_type": "display_data"
    },
    {
     "data": {
      "text/plain": [
       "Alcalinity of ash       0.517859\n",
       "Nonflavanoid phenols    0.489109\n",
       "Malic acid              0.437776\n",
       "Color intensity         0.265668\n",
       "Ash                    -0.049643\n",
       "Magnesium              -0.209179\n",
       "Alcohol                -0.328222\n",
       "Proanthocyanins        -0.499130\n",
       "Hue                    -0.617369\n",
       "Proline                -0.633717\n",
       "Total phenols          -0.719163\n",
       "diluted wines          -0.788230\n",
       "Flavanoids             -0.847498\n",
       "Name: Class, dtype: float64"
      ]
     },
     "execution_count": 7,
     "metadata": {},
     "output_type": "execute_result"
    }
   ],
   "source": [
    "plt.figure(figsize=(10,7))\n",
    "df.corr()[\"Class\"].sort_values(ascending=False).drop([\"Class\"])\n",
    "plt.xlabel(\"Features\")\n",
    "plt.ylabel(\"Corelation with target Variable\")\n",
    "plt.show()\n",
    "df.corr()[\"Class\"].sort_values(ascending=False).drop([\"Class\"])\n"
   ]
  },
  {
   "cell_type": "code",
   "execution_count": 18,
   "metadata": {},
   "outputs": [
    {
     "data": {
      "text/plain": [
       "Class                      AxesSubplot(0.125,0.536818;0.0945122x0.343182)\n",
       "Alcohol                 AxesSubplot(0.238415,0.536818;0.0945122x0.343182)\n",
       "Malic acid              AxesSubplot(0.351829,0.536818;0.0945122x0.343182)\n",
       "Ash                     AxesSubplot(0.465244,0.536818;0.0945122x0.343182)\n",
       "Alcalinity of ash       AxesSubplot(0.578659,0.536818;0.0945122x0.343182)\n",
       "Magnesium               AxesSubplot(0.692073,0.536818;0.0945122x0.343182)\n",
       "Total phenols           AxesSubplot(0.805488,0.536818;0.0945122x0.343182)\n",
       "Flavanoids                    AxesSubplot(0.125,0.125;0.0945122x0.343182)\n",
       "Nonflavanoid phenols       AxesSubplot(0.238415,0.125;0.0945122x0.343182)\n",
       "Proanthocyanins            AxesSubplot(0.351829,0.125;0.0945122x0.343182)\n",
       "Color intensity            AxesSubplot(0.465244,0.125;0.0945122x0.343182)\n",
       "Hue                        AxesSubplot(0.578659,0.125;0.0945122x0.343182)\n",
       "diluted wines              AxesSubplot(0.692073,0.125;0.0945122x0.343182)\n",
       "Proline                    AxesSubplot(0.805488,0.125;0.0945122x0.343182)\n",
       "dtype: object"
      ]
     },
     "execution_count": 18,
     "metadata": {},
     "output_type": "execute_result"
    },
    {
     "data": {
      "image/png": "[encoded data removed]",
      "text/plain": [
       "<Figure size 432x288 with 14 Axes>"
      ]
     },
     "metadata": {
      "needs_background": "light"
     },
     "output_type": "display_data"
    }
   ],
   "source": [
    "df.plot(kind=\"box\",subplots=True,layout=(2,7))\n",
    "#As we observe there are few outliers in the data "
   ]
  },
  {
   "cell_type": "code",
   "execution_count": 19,
   "metadata": {},
   "outputs": [
    {
     "data": {
      "text/plain": [
       "Class                   0.107431\n",
       "Alcohol                -0.051482\n",
       "Malic acid              1.039651\n",
       "Ash                    -0.176699\n",
       "Alcalinity of ash       0.213047\n",
       "Magnesium               1.098191\n",
       "Total phenols           0.086639\n",
       "Flavanoids              0.025344\n",
       "Nonflavanoid phenols    0.450151\n",
       "Proanthocyanins         0.517137\n",
       "Color intensity         0.868585\n",
       "Hue                     0.021091\n",
       "diluted wines          -0.307285\n",
       "Proline                 0.767822\n",
       "dtype: float64"
      ]
     },
     "execution_count": 19,
     "metadata": {},
     "output_type": "execute_result"
    }
   ],
   "source": [
    "df.skew()\n",
    "#we can say that \"Malic acid\" and \"Magnesium\" have high Skewness \n",
    "# So the skewness should be treated"
   ]
  },
  {
   "cell_type": "code",
   "execution_count": 20,
   "metadata": {},
   "outputs": [
    {
     "data": {
      "text/plain": [
       "array([[1.21394365, 1.51861254, 0.5622498 , ..., 0.36217728, 1.84791957,\n",
       "        1.01300893],\n",
       "       [1.21394365, 0.24628963, 0.49941338, ..., 0.40605066, 1.1134493 ,\n",
       "        0.96524152],\n",
       "       [1.21394365, 0.19687903, 0.02123125, ..., 0.31830389, 0.78858745,\n",
       "        1.39514818],\n",
       "       ...,\n",
       "       [1.37386437, 0.33275817, 1.74474449, ..., 1.61212515, 1.48544548,\n",
       "        0.28057537],\n",
       "       [1.37386437, 0.20923168, 0.22769377, ..., 1.56825176, 1.40069891,\n",
       "        0.29649784],\n",
       "       [1.37386437, 1.39508604, 1.58316512, ..., 1.52437837, 1.42894777,\n",
       "        0.59516041]])"
      ]
     },
     "execution_count": 20,
     "metadata": {},
     "output_type": "execute_result"
    }
   ],
   "source": [
    "from scipy.stats import zscore\n",
    "z=np.abs(zscore(df))\n",
    "z"
   ]
  },
  {
   "cell_type": "code",
   "execution_count": 21,
   "metadata": {},
   "outputs": [
    {
     "name": "stdout",
     "output_type": "stream",
     "text": [
      "(array([ 25,  59,  69,  73,  95, 110, 115, 121, 121, 123, 158], dtype=int64), array([ 3,  3,  5,  4,  5,  9, 11,  3,  7,  2, 10], dtype=int64))\n"
     ]
    }
   ],
   "source": [
    "threshold=3\n",
    "print(np.where(z>3))\n",
    "df_new=df[(z<3).all(axis=1)]"
   ]
  },
  {
   "cell_type": "markdown",
   "metadata": {},
   "source": [
    "# Percentage loss in data after removal of Skewness\n"
   ]
  },
  {
   "cell_type": "code",
   "execution_count": 22,
   "metadata": {},
   "outputs": [
    {
     "name": "stdout",
     "output_type": "stream",
     "text": [
      "Original Shape (178, 14) New Shape (168, 14)\n",
      "5.617977528089887\n"
     ]
    }
   ],
   "source": [
    "print(\"Original Shape\",df.shape,\"New Shape\",df_new.shape)\n",
    "Percntage_loss=(10/178)*100\n",
    "print(Percntage_loss)"
   ]
  },
  {
   "cell_type": "markdown",
   "metadata": {},
   "source": [
    "As we can see there is loss of 5.6% data from the dataset we are going a head with outliers removed "
   ]
  },
  {
   "cell_type": "code",
   "execution_count": 23,
   "metadata": {},
   "outputs": [
    {
     "name": "stdout",
     "output_type": "stream",
     "text": [
      "Class                     2.0000\n",
      "Alcohol                   1.3150\n",
      "Malic acid                1.4800\n",
      "Ash                       0.3475\n",
      "Alcalinity of ash         4.3000\n",
      "Magnesium                19.0000\n",
      "Total phenols             1.0575\n",
      "Flavanoids                1.6700\n",
      "Nonflavanoid phenols      0.1675\n",
      "Proanthocyanins           0.7000\n",
      "Color intensity           2.9800\n",
      "Hue                       0.3375\n",
      "diluted wines             1.2325\n",
      "Proline                 484.5000\n",
      "dtype: float64\n"
     ]
    }
   ],
   "source": [
    "Q1=df.quantile(0.25)\n",
    "Q3=df.quantile(0.75)\n",
    "IQR=Q3-Q1\n",
    "print(IQR)"
   ]
  },
  {
   "cell_type": "code",
   "execution_count": 25,
   "metadata": {},
   "outputs": [
    {
     "data": {
      "text/plain": [
       "(161, 14)"
      ]
     },
     "execution_count": 25,
     "metadata": {},
     "output_type": "execute_result"
    }
   ],
   "source": [
    "df.new1=df[~((df<(Q1-1.5*IQR))|(df>(Q3+1.5*IQR))).any(axis=1)]\n",
    "df.new1.shape"
   ]
  },
  {
   "cell_type": "code",
   "execution_count": 26,
   "metadata": {},
   "outputs": [
    {
     "name": "stdout",
     "output_type": "stream",
     "text": [
      "9.550561797752808\n"
     ]
    }
   ],
   "source": [
    "Percntage_loss=(17/178)*100\n",
    "print(Percntage_loss)"
   ]
  },
  {
   "cell_type": "markdown",
   "metadata": {},
   "source": [
    "As the percentage loss using zscore is less we will go ahead with df_new \n"
   ]
  },
  {
   "cell_type": "code",
   "execution_count": 27,
   "metadata": {},
   "outputs": [],
   "source": [
    "y=df_new.iloc[:,:1]\n",
    "x=df_new.iloc[:,1:]"
   ]
  },
  {
   "cell_type": "code",
   "execution_count": 46,
   "metadata": {},
   "outputs": [],
   "source": [
    "from sklearn.preprocessing import StandardScaler\n",
    "sc=StandardScaler()\n",
    "x_t=sc.fit_transform(x)\n",
    "from sklearn.model_selection import train_test_split\n",
    "from sklearn.model_selection import KFold, cross_val_score, GridSearchCV\n",
    "lr=LogisticRegression()\n",
    "from sklearn.metrics import accuracy_score,confusion_matrix,classification_report\n",
    "import warnings\n",
    "warnings.filterwarnings(\"ignore\")"
   ]
  },
  {
   "cell_type": "code",
   "execution_count": 31,
   "metadata": {},
   "outputs": [],
   "source": [
    "max_scr=0\n",
    "for i in range(0,10):\n",
    "    x_train,x_test,y_train,y_test=train_test_split(x,y,test_size=.20,random_state=i)\n",
    "    lr.fit(x_train,y_train)\n",
    "    pred_train=lr.predict(x_train)\n",
    "    pred_test=lr.predict(x_test)\n",
    "    if round(accuracy_score(y_train,pred_train)*100,2)==round(accuracy_score(y_test,pred_test)*100,2):\n",
    "        print(\"At random state\",i,\"The model Perfomes very well\")\n",
    "        print(\"Training accuracy_score is:\",accuracy_score(y_train,pred_train)*100)\n",
    "        print(\"Testing accuracy_score is:\",accuracy_score(y_test,pred_test)*100)"
   ]
  },
  {
   "cell_type": "markdown",
   "metadata": {},
   "source": [
    "As we can see the model perfomes well in many cases, so Let us consdider randomstate=36"
   ]
  },
  {
   "cell_type": "code",
   "execution_count": 38,
   "metadata": {},
   "outputs": [],
   "source": [
    "for i in range(0,100):\n",
    "    x_train,x_test,y_train,y_test=train_test_split(x,y,test_size=.20,random_state=20) \n",
    "    num_folds = 10\n",
    "    seed = 7\n",
    "    scoring = 'accuracy'\n",
    "    "
   ]
  },
  {
   "cell_type": "code",
   "execution_count": 39,
   "metadata": {},
   "outputs": [
    {
     "data": {
      "text/plain": [
       "array([2, 3, 2, 3, 2, 3, 3, 3, 2, 3, 2, 2, 2, 3, 2, 2, 2, 2, 1, 1, 1, 1,\n",
       "       1, 2, 2, 3, 1, 1, 1, 2, 2, 1, 1, 2], dtype=int64)"
      ]
     },
     "execution_count": 39,
     "metadata": {},
     "output_type": "execute_result"
    }
   ],
   "source": [
    "pred=lr.predict(x_test)\n",
    "pred"
   ]
  },
  {
   "cell_type": "code",
   "execution_count": 40,
   "metadata": {},
   "outputs": [
    {
     "name": "stdout",
     "output_type": "stream",
     "text": [
      "accuracy score: 0.9705882352941176\n",
      "[[10  0  0]\n",
      " [ 0 15  0]\n",
      " [ 0  1  8]]\n",
      "              precision    recall  f1-score   support\n",
      "\n",
      "           1       1.00      1.00      1.00        10\n",
      "           2       0.94      1.00      0.97        15\n",
      "           3       1.00      0.89      0.94         9\n",
      "\n",
      "    accuracy                           0.97        34\n",
      "   macro avg       0.98      0.96      0.97        34\n",
      "weighted avg       0.97      0.97      0.97        34\n",
      "\n"
     ]
    }
   ],
   "source": [
    "#Logistic Regression\n",
    "lr.fit(x_train,y_train)\n",
    "print(\"accuracy score:\",accuracy_score(y_test,pred))\n",
    "print(confusion_matrix(y_test,pred))\n",
    "print(classification_report(y_test,pred))"
   ]
  },
  {
   "cell_type": "code",
   "execution_count": 41,
   "metadata": {},
   "outputs": [
    {
     "name": "stdout",
     "output_type": "stream",
     "text": [
      "accuracy score: 0.7058823529411765\n",
      "[[ 8  0  2]\n",
      " [ 0 12  3]\n",
      " [ 0  5  4]]\n",
      "              precision    recall  f1-score   support\n",
      "\n",
      "           1       1.00      0.80      0.89        10\n",
      "           2       0.71      0.80      0.75        15\n",
      "           3       0.44      0.44      0.44         9\n",
      "\n",
      "    accuracy                           0.71        34\n",
      "   macro avg       0.72      0.68      0.69        34\n",
      "weighted avg       0.72      0.71      0.71        34\n",
      "\n"
     ]
    }
   ],
   "source": [
    "#SVC\n",
    "svc=SVC(kernel='rbf')\n",
    "svc.fit(x_train,y_train)\n",
    "#svc.score(x_trian,y_tarin)\n",
    "predsvc=svc.predict(x_test)\n",
    "print(\"accuracy score:\",accuracy_score(y_test,predsvc))\n",
    "print(confusion_matrix(y_test,predsvc))\n",
    "print(classification_report(y_test,predsvc))"
   ]
  },
  {
   "cell_type": "code",
   "execution_count": 42,
   "metadata": {},
   "outputs": [
    {
     "name": "stdout",
     "output_type": "stream",
     "text": [
      "accuracy score: 0.7058823529411765\n",
      "[[ 8  0  2]\n",
      " [ 0 12  3]\n",
      " [ 0  5  4]]\n",
      "              precision    recall  f1-score   support\n",
      "\n",
      "           1       1.00      0.80      0.89        10\n",
      "           2       0.71      0.80      0.75        15\n",
      "           3       0.44      0.44      0.44         9\n",
      "\n",
      "    accuracy                           0.71        34\n",
      "   macro avg       0.72      0.68      0.69        34\n",
      "weighted avg       0.72      0.71      0.71        34\n",
      "\n"
     ]
    }
   ],
   "source": [
    "#DecisionTreeClassifier\n",
    "dtc=DecisionTreeClassifier(criterion='gini')\n",
    "svc.fit(x_train,y_train)\n",
    "#svc.score(x_trian,y_tarin)\n",
    "predsvc=svc.predict(x_test)\n",
    "print(\"accuracy score:\",accuracy_score(y_test,predsvc))\n",
    "print(confusion_matrix(y_test,predsvc))\n",
    "print(classification_report(y_test,predsvc))"
   ]
  },
  {
   "cell_type": "code",
   "execution_count": 52,
   "metadata": {},
   "outputs": [],
   "source": [
    "models= [\n",
    "    (\"SVC\",SVC()),\n",
    "    (\"Logistic Regression\",LogisticRegression()),\n",
    "    (\"Decision Tree\", DecisionTreeClassifier()),\n",
    "    (\"Naive Bayes\",GaussianNB()),\n",
    "    (\"KNearest Neighbors\",KNeighborsClassifier(1)),\n",
    "    ]"
   ]
  },
  {
   "cell_type": "code",
   "execution_count": 53,
   "metadata": {},
   "outputs": [
    {
     "name": "stdout",
     "output_type": "stream",
     "text": [
      "SVC: 0.691758 (0.120415)\n",
      "Logistic Regression: 0.954945 (0.061026)\n",
      "Decision Tree: 0.902198 (0.076954)\n",
      "Naive Bayes: 0.984615 (0.030769)\n",
      "KNearest Neighbors: 0.714835 (0.079374)\n"
     ]
    }
   ],
   "source": [
    "results = []\n",
    "names = []\n",
    "for name, model in models:\n",
    "    kfold = KFold(n_splits=num_folds, random_state=seed)\n",
    "    cv_results = cross_val_score(model, x_train, y_train, cv=kfold, scoring=scoring)\n",
    "    results.append(cv_results)\n",
    "    names.append(name)\n",
    "    msg = \"%s: %f (%f)\" % (name, cv_results.mean(), cv_results.std())\n",
    "    print(msg)\n"
   ]
  },
  {
   "cell_type": "markdown",
   "metadata": {},
   "source": [
    "We can observe that \"LogisticRegression\" and Naive Bayes Mobels are perfoming the best \n",
    "so we can try to imporove the score further by scaling the mobels and variables "
   ]
  },
  {
   "cell_type": "code",
   "execution_count": 48,
   "metadata": {},
   "outputs": [],
   "source": [
    "#Scaling Naive Bayes\n",
    "\n",
    "scaler = StandardScaler().fit(x_train)\n",
    "scaledx = scaler.transform(x_train)\n",
    "param_grid = {'var_smoothing': np.logspace(0,-9, num=100)}\n",
    "model = GaussianNB()\n",
    "kfold = KFold(n_splits=num_folds, random_state=7)\n",
    "grid = GridSearchCV(estimator=model, param_grid=param_grid, scoring=scoring, cv=kfold)\n",
    "grid_result = grid.fit(scaledx, y_train)"
   ]
  },
  {
   "cell_type": "code",
   "execution_count": 49,
   "metadata": {},
   "outputs": [
    {
     "name": "stdout",
     "output_type": "stream",
     "text": [
      "Best: 0.984615 using {'var_smoothing': 0.1873817422860384}\n",
      "#98 0.970330 (0.059392) with: {'var_smoothing': 1.0}\n",
      "#98 0.970330 (0.059392) with: {'var_smoothing': 0.8111308307896871}\n",
      "#93 0.978022 (0.046363) with: {'var_smoothing': 0.657933224657568}\n",
      "#93 0.978022 (0.046363) with: {'var_smoothing': 0.533669923120631}\n",
      "#93 0.978022 (0.046363) with: {'var_smoothing': 0.43287612810830584}\n",
      "#93 0.978022 (0.046363) with: {'var_smoothing': 0.3511191734215131}\n",
      "#93 0.978022 (0.046363) with: {'var_smoothing': 0.2848035868435802}\n",
      "#98 0.970330 (0.048414) with: {'var_smoothing': 0.23101297000831597}\n",
      "#1 0.984615 (0.030769) with: {'var_smoothing': 0.1873817422860384}\n",
      "#1 0.984615 (0.030769) with: {'var_smoothing': 0.15199110829529336}\n",
      "#1 0.984615 (0.030769) with: {'var_smoothing': 0.12328467394420659}\n",
      "#1 0.984615 (0.030769) with: {'var_smoothing': 0.1}\n",
      "#1 0.984615 (0.030769) with: {'var_smoothing': 0.08111308307896872}\n",
      "#1 0.984615 (0.030769) with: {'var_smoothing': 0.0657933224657568}\n",
      "#1 0.984615 (0.030769) with: {'var_smoothing': 0.0533669923120631}\n",
      "#1 0.984615 (0.030769) with: {'var_smoothing': 0.04328761281083057}\n",
      "#1 0.984615 (0.030769) with: {'var_smoothing': 0.03511191734215131}\n",
      "#1 0.984615 (0.030769) with: {'var_smoothing': 0.02848035868435802}\n",
      "#1 0.984615 (0.030769) with: {'var_smoothing': 0.02310129700083159}\n",
      "#1 0.984615 (0.030769) with: {'var_smoothing': 0.01873817422860384}\n",
      "#1 0.984615 (0.030769) with: {'var_smoothing': 0.01519911082952933}\n",
      "#1 0.984615 (0.030769) with: {'var_smoothing': 0.012328467394420659}\n",
      "#1 0.984615 (0.030769) with: {'var_smoothing': 0.01}\n",
      "#1 0.984615 (0.030769) with: {'var_smoothing': 0.008111308307896872}\n",
      "#1 0.984615 (0.030769) with: {'var_smoothing': 0.006579332246575682}\n",
      "#1 0.984615 (0.030769) with: {'var_smoothing': 0.005336699231206307}\n",
      "#1 0.984615 (0.030769) with: {'var_smoothing': 0.004328761281083057}\n",
      "#1 0.984615 (0.030769) with: {'var_smoothing': 0.003511191734215131}\n",
      "#1 0.984615 (0.030769) with: {'var_smoothing': 0.002848035868435802}\n",
      "#1 0.984615 (0.030769) with: {'var_smoothing': 0.0023101297000831605}\n",
      "#1 0.984615 (0.030769) with: {'var_smoothing': 0.001873817422860383}\n",
      "#1 0.984615 (0.030769) with: {'var_smoothing': 0.0015199110829529332}\n",
      "#1 0.984615 (0.030769) with: {'var_smoothing': 0.0012328467394420659}\n",
      "#1 0.984615 (0.030769) with: {'var_smoothing': 0.001}\n",
      "#1 0.984615 (0.030769) with: {'var_smoothing': 0.0008111308307896872}\n",
      "#1 0.984615 (0.030769) with: {'var_smoothing': 0.0006579332246575676}\n",
      "#1 0.984615 (0.030769) with: {'var_smoothing': 0.0005336699231206307}\n",
      "#1 0.984615 (0.030769) with: {'var_smoothing': 0.0004328761281083057}\n",
      "#1 0.984615 (0.030769) with: {'var_smoothing': 0.0003511191734215131}\n",
      "#1 0.984615 (0.030769) with: {'var_smoothing': 0.0002848035868435802}\n",
      "#1 0.984615 (0.030769) with: {'var_smoothing': 0.0002310129700083158}\n",
      "#1 0.984615 (0.030769) with: {'var_smoothing': 0.0001873817422860383}\n",
      "#1 0.984615 (0.030769) with: {'var_smoothing': 0.0001519911082952933}\n",
      "#1 0.984615 (0.030769) with: {'var_smoothing': 0.0001232846739442066}\n",
      "#1 0.984615 (0.030769) with: {'var_smoothing': 0.0001}\n",
      "#1 0.984615 (0.030769) with: {'var_smoothing': 8.111308307896872e-05}\n",
      "#1 0.984615 (0.030769) with: {'var_smoothing': 6.579332246575683e-05}\n",
      "#1 0.984615 (0.030769) with: {'var_smoothing': 5.3366992312063123e-05}\n",
      "#1 0.984615 (0.030769) with: {'var_smoothing': 4.328761281083062e-05}\n",
      "#1 0.984615 (0.030769) with: {'var_smoothing': 3.511191734215127e-05}\n",
      "#1 0.984615 (0.030769) with: {'var_smoothing': 2.848035868435799e-05}\n",
      "#1 0.984615 (0.030769) with: {'var_smoothing': 2.310129700083158e-05}\n",
      "#1 0.984615 (0.030769) with: {'var_smoothing': 1.873817422860383e-05}\n",
      "#1 0.984615 (0.030769) with: {'var_smoothing': 1.5199110829529332e-05}\n",
      "#1 0.984615 (0.030769) with: {'var_smoothing': 1.2328467394420658e-05}\n",
      "#1 0.984615 (0.030769) with: {'var_smoothing': 1e-05}\n",
      "#1 0.984615 (0.030769) with: {'var_smoothing': 8.111308307896873e-06}\n",
      "#1 0.984615 (0.030769) with: {'var_smoothing': 6.579332246575683e-06}\n",
      "#1 0.984615 (0.030769) with: {'var_smoothing': 5.336699231206313e-06}\n",
      "#1 0.984615 (0.030769) with: {'var_smoothing': 4.328761281083053e-06}\n",
      "#1 0.984615 (0.030769) with: {'var_smoothing': 3.5111917342151275e-06}\n",
      "#1 0.984615 (0.030769) with: {'var_smoothing': 2.848035868435799e-06}\n",
      "#1 0.984615 (0.030769) with: {'var_smoothing': 2.310129700083158e-06}\n",
      "#1 0.984615 (0.030769) with: {'var_smoothing': 1.873817422860383e-06}\n",
      "#1 0.984615 (0.030769) with: {'var_smoothing': 1.519911082952933e-06}\n",
      "#1 0.984615 (0.030769) with: {'var_smoothing': 1.232846739442066e-06}\n",
      "#1 0.984615 (0.030769) with: {'var_smoothing': 1e-06}\n",
      "#1 0.984615 (0.030769) with: {'var_smoothing': 8.111308307896872e-07}\n",
      "#1 0.984615 (0.030769) with: {'var_smoothing': 6.579332246575682e-07}\n",
      "#1 0.984615 (0.030769) with: {'var_smoothing': 5.336699231206313e-07}\n",
      "#1 0.984615 (0.030769) with: {'var_smoothing': 4.3287612810830526e-07}\n",
      "#1 0.984615 (0.030769) with: {'var_smoothing': 3.5111917342151277e-07}\n",
      "#1 0.984615 (0.030769) with: {'var_smoothing': 2.848035868435799e-07}\n",
      "#1 0.984615 (0.030769) with: {'var_smoothing': 2.310129700083158e-07}\n",
      "#1 0.984615 (0.030769) with: {'var_smoothing': 1.873817422860383e-07}\n",
      "#1 0.984615 (0.030769) with: {'var_smoothing': 1.519911082952933e-07}\n",
      "#1 0.984615 (0.030769) with: {'var_smoothing': 1.232846739442066e-07}\n",
      "#1 0.984615 (0.030769) with: {'var_smoothing': 1e-07}\n",
      "#1 0.984615 (0.030769) with: {'var_smoothing': 8.111308307896873e-08}\n",
      "#1 0.984615 (0.030769) with: {'var_smoothing': 6.579332246575682e-08}\n",
      "#1 0.984615 (0.030769) with: {'var_smoothing': 5.336699231206302e-08}\n",
      "#1 0.984615 (0.030769) with: {'var_smoothing': 4.3287612810830526e-08}\n",
      "#1 0.984615 (0.030769) with: {'var_smoothing': 3.5111917342151277e-08}\n",
      "#1 0.984615 (0.030769) with: {'var_smoothing': 2.848035868435799e-08}\n",
      "#1 0.984615 (0.030769) with: {'var_smoothing': 2.310129700083158e-08}\n",
      "#1 0.984615 (0.030769) with: {'var_smoothing': 1.873817422860383e-08}\n",
      "#1 0.984615 (0.030769) with: {'var_smoothing': 1.519911082952933e-08}\n",
      "#1 0.984615 (0.030769) with: {'var_smoothing': 1.232846739442066e-08}\n",
      "#1 0.984615 (0.030769) with: {'var_smoothing': 1e-08}\n",
      "#1 0.984615 (0.030769) with: {'var_smoothing': 8.111308307896856e-09}\n",
      "#1 0.984615 (0.030769) with: {'var_smoothing': 6.579332246575682e-09}\n",
      "#1 0.984615 (0.030769) with: {'var_smoothing': 5.336699231206302e-09}\n",
      "#1 0.984615 (0.030769) with: {'var_smoothing': 4.328761281083061e-09}\n",
      "#1 0.984615 (0.030769) with: {'var_smoothing': 3.5111917342151273e-09}\n",
      "#1 0.984615 (0.030769) with: {'var_smoothing': 2.848035868435805e-09}\n",
      "#1 0.984615 (0.030769) with: {'var_smoothing': 2.310129700083158e-09}\n",
      "#1 0.984615 (0.030769) with: {'var_smoothing': 1.873817422860387e-09}\n",
      "#1 0.984615 (0.030769) with: {'var_smoothing': 1.519911082952933e-09}\n",
      "#1 0.984615 (0.030769) with: {'var_smoothing': 1.2328467394420635e-09}\n",
      "#1 0.984615 (0.030769) with: {'var_smoothing': 1e-09}\n"
     ]
    }
   ],
   "source": [
    "print(\"Best: %f using %s\" % (grid_result.best_score_, grid_result.best_params_))\n",
    "means = grid_result.cv_results_['mean_test_score']\n",
    "stds = grid_result.cv_results_['std_test_score']\n",
    "params = grid_result.cv_results_['params']\n",
    "ranks = grid_result.cv_results_['rank_test_score']\n",
    "for mean, stdev, param, rank in zip(means, stds, params, ranks):\n",
    "    print(\"#%d %f (%f) with: %r\" % (rank, mean, stdev, param))"
   ]
  },
  {
   "cell_type": "markdown",
   "metadata": {},
   "source": [
    "As we Where not able to imporve the model perfomance. now we can check for  LogisticRegression "
   ]
  },
  {
   "cell_type": "code",
   "execution_count": 50,
   "metadata": {},
   "outputs": [],
   "source": [
    "#define models and parameters\n",
    "scaler = StandardScaler().fit(x_train)\n",
    "scaledx = scaler.transform(x_train)\n",
    "solvers = ['newton-cg', 'lbfgs', 'liblinear']\n",
    "penalty = ['l2']\n",
    "c_values = [100, 10, 1.0, 0.1, 0.01]\n",
    "param_grid = dict(solver=solvers,penalty=penalty,C=c_values)\n",
    "model = LogisticRegression()\n",
    "kfold = KFold(n_splits=num_folds, random_state=7)\n",
    "grid = GridSearchCV(estimator=model, param_grid=param_grid, scoring=scoring, cv=kfold)\n",
    "grid_result = grid.fit(scaledx, y_train)"
   ]
  },
  {
   "cell_type": "code",
   "execution_count": 51,
   "metadata": {},
   "outputs": [
    {
     "name": "stdout",
     "output_type": "stream",
     "text": [
      "Best: 0.985165 using {'C': 1.0, 'penalty': 'l2', 'solver': 'liblinear'}\n",
      "#5 0.978022 (0.046363) with: {'C': 100, 'penalty': 'l2', 'solver': 'newton-cg'}\n",
      "#5 0.978022 (0.046363) with: {'C': 100, 'penalty': 'l2', 'solver': 'lbfgs'}\n",
      "#5 0.978022 (0.046363) with: {'C': 100, 'penalty': 'l2', 'solver': 'liblinear'}\n",
      "#5 0.978022 (0.046363) with: {'C': 10, 'penalty': 'l2', 'solver': 'newton-cg'}\n",
      "#5 0.978022 (0.046363) with: {'C': 10, 'penalty': 'l2', 'solver': 'lbfgs'}\n",
      "#5 0.978022 (0.046363) with: {'C': 10, 'penalty': 'l2', 'solver': 'liblinear'}\n",
      "#5 0.978022 (0.046363) with: {'C': 1.0, 'penalty': 'l2', 'solver': 'newton-cg'}\n",
      "#5 0.978022 (0.046363) with: {'C': 1.0, 'penalty': 'l2', 'solver': 'lbfgs'}\n",
      "#1 0.985165 (0.029696) with: {'C': 1.0, 'penalty': 'l2', 'solver': 'liblinear'}\n",
      "#1 0.985165 (0.029696) with: {'C': 0.1, 'penalty': 'l2', 'solver': 'newton-cg'}\n",
      "#1 0.985165 (0.029696) with: {'C': 0.1, 'penalty': 'l2', 'solver': 'lbfgs'}\n",
      "#1 0.985165 (0.029696) with: {'C': 0.1, 'penalty': 'l2', 'solver': 'liblinear'}\n",
      "#5 0.978022 (0.033602) with: {'C': 0.01, 'penalty': 'l2', 'solver': 'newton-cg'}\n",
      "#5 0.978022 (0.033602) with: {'C': 0.01, 'penalty': 'l2', 'solver': 'lbfgs'}\n",
      "#15 0.970879 (0.047903) with: {'C': 0.01, 'penalty': 'l2', 'solver': 'liblinear'}\n"
     ]
    }
   ],
   "source": [
    "print(\"Best: %f using %s\" % (grid_result.best_score_, grid_result.best_params_))\n",
    "means = grid_result.cv_results_['mean_test_score']\n",
    "stds = grid_result.cv_results_['std_test_score']\n",
    "params = grid_result.cv_results_['params']\n",
    "ranks = grid_result.cv_results_['rank_test_score']\n",
    "for mean, stdev, param, rank in zip(means, stds, params, ranks):\n",
    "    print(\"#%d %f (%f) with: %r\" % (rank, mean, stdev, param))"
   ]
  },
  {
   "cell_type": "markdown",
   "metadata": {},
   "source": [
    "LogisticRegression() has perfomed best among the the models we choose with 98.5% accuracy compare to 98.4% by GaussianNB()\n",
    "Best Perfoming with 98.51% using {'C': 1.0, 'penalty': 'l2', 'solver': 'liblinear'} parameters\n"
   ]
  },
  {
   "cell_type": "code",
   "execution_count": 56,
   "metadata": {},
   "outputs": [
    {
     "data": {
      "text/plain": [
       "LogisticRegression(solver='liblinear')"
      ]
     },
     "execution_count": 56,
     "metadata": {},
     "output_type": "execute_result"
    }
   ],
   "source": [
    "scaler = StandardScaler().fit(x_train)\n",
    "scaledx = scaler.transform(x_train)\n",
    "model = LogisticRegression(C= 1.0, penalty='l2', solver= 'liblinear')\n",
    "model.fit(scaledx, y_train)"
   ]
  },
  {
   "cell_type": "code",
   "execution_count": 57,
   "metadata": {},
   "outputs": [
    {
     "name": "stdout",
     "output_type": "stream",
     "text": [
      "1.0\n",
      "[[10  0  0]\n",
      " [ 0 15  0]\n",
      " [ 0  0  9]]\n",
      "              precision    recall  f1-score   support\n",
      "\n",
      "           1       1.00      1.00      1.00        10\n",
      "           2       1.00      1.00      1.00        15\n",
      "           3       1.00      1.00      1.00         9\n",
      "\n",
      "    accuracy                           1.00        34\n",
      "   macro avg       1.00      1.00      1.00        34\n",
      "weighted avg       1.00      1.00      1.00        34\n",
      "\n"
     ]
    }
   ],
   "source": [
    "scaledtestx = scaler.transform(x_test)\n",
    "predictions = model.predict(scaledtestx)\n",
    "print(accuracy_score(y_test, predictions))\n",
    "print(confusion_matrix(y_test, predictions))\n",
    "print(classification_report(y_test, predictions))"
   ]
  },
  {
   "cell_type": "markdown",
   "metadata": {},
   "source": [
    "Model has perfomed better than expected with a 100% Accuracy \n"
   ]
  },
  {
   "cell_type": "code",
   "execution_count": 58,
   "metadata": {},
   "outputs": [
    {
     "data": {
      "text/plain": [
       "['wineproject.pkl']"
      ]
     },
     "execution_count": 58,
     "metadata": {},
     "output_type": "execute_result"
    }
   ],
   "source": [
    "import joblib\n",
    "joblib.dump(model,\"wineproject.pkl\")"
   ]
  },
  {
   "cell_type": "code",
   "execution_count": null,
   "metadata": {},
   "outputs": [],
   "source": []
  },
  {
   "cell_type": "code",
   "execution_count": null,
   "metadata": {},
   "outputs": [],
   "source": []
  }
 ],
 "metadata": {
  "kernelspec": {
   "display_name": "Python 3",
   "language": "python",
   "name": "python3"
  },
  "language_info": {
   "codemirror_mode": {
    "name": "ipython",
    "version": 3
   },
   "file_extension": ".py",
   "mimetype": "text/x-python",
   "name": "python",
   "nbconvert_exporter": "python",
   "pygments_lexer": "ipython3",
   "version": "3.8.3"
  }
 },
 "nbformat": 4,
 "nbformat_minor": 4
}
