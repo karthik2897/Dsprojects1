{
 "cells": [
  {
   "cell_type": "code",
   "execution_count": 1,
   "metadata": {},
   "outputs": [],
   "source": [
    "import numpy as np \n",
    "import pandas as pd\n",
    "import seaborn as sns\n",
    "from pandas_profiling import ProfileReport\n",
    "\n",
    "import matplotlib \n",
    "from matplotlib import pyplot as plt\n",
    "from matplotlib import style\n",
    "\n",
    "# Algorithms\n",
    "from sklearn import linear_model\n",
    "from sklearn.linear_model import LogisticRegression\n",
    "from sklearn.ensemble import RandomForestClassifier\n",
    "from sklearn.linear_model import Perceptron\n",
    "from sklearn.linear_model import SGDClassifier\n",
    "from sklearn.tree import DecisionTreeClassifier\n",
    "from sklearn.neighbors import KNeighborsClassifier\n",
    "from sklearn.svm import SVC, LinearSVC\n",
    "from sklearn.naive_bayes import GaussianNB\n",
    "\n",
    "from sklearn.linear_model import Ridge\n",
    "from sklearn.linear_model import Lasso\n",
    "from sklearn.naive_bayes import GaussianNB\n",
    "from sklearn.ensemble import AdaBoostClassifier,GradientBoostingClassifier,BaggingClassifier,ExtraTreesClassifier\n"
   ]
  },
  {
   "cell_type": "code",
   "execution_count": 42,
   "metadata": {},
   "outputs": [
    {
     "data": {
      "text/html": [
       "<div>\n",
       "<style scoped>\n",
       "    .dataframe tbody tr th:only-of-type {\n",
       "        vertical-align: middle;\n",
       "    }\n",
       "\n",
       "    .dataframe tbody tr th {\n",
       "        vertical-align: top;\n",
       "    }\n",
       "\n",
       "    .dataframe thead th {\n",
       "        text-align: right;\n",
       "    }\n",
       "</style>\n",
       "<table border=\"1\" class=\"dataframe\">\n",
       "  <thead>\n",
       "    <tr style=\"text-align: right;\">\n",
       "      <th></th>\n",
       "      <th>age</th>\n",
       "      <th>sex</th>\n",
       "      <th>cp</th>\n",
       "      <th>trestbps</th>\n",
       "      <th>chol</th>\n",
       "      <th>fbs</th>\n",
       "      <th>restecg</th>\n",
       "      <th>thalach</th>\n",
       "      <th>exang</th>\n",
       "      <th>oldpeak</th>\n",
       "      <th>slope</th>\n",
       "      <th>ca</th>\n",
       "      <th>thal</th>\n",
       "      <th>num</th>\n",
       "    </tr>\n",
       "  </thead>\n",
       "  <tbody>\n",
       "    <tr>\n",
       "      <th>0</th>\n",
       "      <td>63</td>\n",
       "      <td>1</td>\n",
       "      <td>4</td>\n",
       "      <td>140</td>\n",
       "      <td>260</td>\n",
       "      <td>0</td>\n",
       "      <td>1</td>\n",
       "      <td>112</td>\n",
       "      <td>1</td>\n",
       "      <td>3</td>\n",
       "      <td>2</td>\n",
       "      <td>?</td>\n",
       "      <td>?</td>\n",
       "      <td>2</td>\n",
       "    </tr>\n",
       "    <tr>\n",
       "      <th>1</th>\n",
       "      <td>44</td>\n",
       "      <td>1</td>\n",
       "      <td>4</td>\n",
       "      <td>130</td>\n",
       "      <td>209</td>\n",
       "      <td>0</td>\n",
       "      <td>1</td>\n",
       "      <td>127</td>\n",
       "      <td>0</td>\n",
       "      <td>0</td>\n",
       "      <td>?</td>\n",
       "      <td>?</td>\n",
       "      <td>?</td>\n",
       "      <td>0</td>\n",
       "    </tr>\n",
       "    <tr>\n",
       "      <th>2</th>\n",
       "      <td>60</td>\n",
       "      <td>1</td>\n",
       "      <td>4</td>\n",
       "      <td>132</td>\n",
       "      <td>218</td>\n",
       "      <td>0</td>\n",
       "      <td>1</td>\n",
       "      <td>140</td>\n",
       "      <td>1</td>\n",
       "      <td>1.5</td>\n",
       "      <td>3</td>\n",
       "      <td>?</td>\n",
       "      <td>?</td>\n",
       "      <td>2</td>\n",
       "    </tr>\n",
       "    <tr>\n",
       "      <th>3</th>\n",
       "      <td>55</td>\n",
       "      <td>1</td>\n",
       "      <td>4</td>\n",
       "      <td>142</td>\n",
       "      <td>228</td>\n",
       "      <td>0</td>\n",
       "      <td>1</td>\n",
       "      <td>149</td>\n",
       "      <td>1</td>\n",
       "      <td>2.5</td>\n",
       "      <td>1</td>\n",
       "      <td>?</td>\n",
       "      <td>?</td>\n",
       "      <td>1</td>\n",
       "    </tr>\n",
       "    <tr>\n",
       "      <th>4</th>\n",
       "      <td>66</td>\n",
       "      <td>1</td>\n",
       "      <td>3</td>\n",
       "      <td>110</td>\n",
       "      <td>213</td>\n",
       "      <td>1</td>\n",
       "      <td>2</td>\n",
       "      <td>99</td>\n",
       "      <td>1</td>\n",
       "      <td>1.3</td>\n",
       "      <td>2</td>\n",
       "      <td>?</td>\n",
       "      <td>?</td>\n",
       "      <td>0</td>\n",
       "    </tr>\n",
       "  </tbody>\n",
       "</table>\n",
       "</div>"
      ],
      "text/plain": [
       "   age  sex  cp trestbps chol fbs  restecg thalach exang oldpeak slope ca  \\\n",
       "0   63    1   4      140  260   0        1     112     1       3     2  ?   \n",
       "1   44    1   4      130  209   0        1     127     0       0     ?  ?   \n",
       "2   60    1   4      132  218   0        1     140     1     1.5     3  ?   \n",
       "3   55    1   4      142  228   0        1     149     1     2.5     1  ?   \n",
       "4   66    1   3      110  213   1        2      99     1     1.3     2  ?   \n",
       "\n",
       "  thal  num  \n",
       "0    ?    2  \n",
       "1    ?    0  \n",
       "2    ?    2  \n",
       "3    ?    1  \n",
       "4    ?    0  "
      ]
     },
     "execution_count": 42,
     "metadata": {},
     "output_type": "execute_result"
    }
   ],
   "source": [
    "url=\"https://raw.githubusercontent.com/dsrscientist/dataset1/master/heartdisease_data.csv\"\n",
    "df=pd.read_csv(url,sep=\",\",names= [\"age\",\"sex\",\"cp\",\"trestbps\",\"chol\",\"fbs\",\"restecg\",\"thalach\",\"exang\",\"oldpeak\",\"slope\",\"ca\",\"thal\",\"num\"])\n",
    "df.head()"
   ]
  },
  {
   "cell_type": "markdown",
   "metadata": {},
   "source": [
    "#age - age in years\n",
    "#sex - (1 = male; 0 = female)\n",
    "#cp - chest pain type\n",
    "0: Typical angina: chest pain related decrease blood supply to the heart\n",
    "1: Atypical angina: chest pain not related to heart\n",
    "2: Non-anginal pain: typically esophageal spasms (non heart related)\n",
    "3: Asymptomatic: chest pain not showing signs of disease\n",
    "#trestbps - resting blood pressure (in mm Hg on admission to the hospital) anything above 130-140 is typically cause for concern\n",
    "#chol - serum cholestoral in mg/dl\n",
    "serum = LDL + HDL + .2 * triglycerides\n",
    "above 200 is cause for concern\n",
    "#fbs - (fasting blood sugar > 120 mg/dl) (1 = true; 0 = false)\n",
    "'>126' mg/dL signals diabetes\n",
    "#restecg - resting electrocardiographic results\n",
    "0: Nothing to note\n",
    "1: ST-T Wave abnormality\n",
    "can range from mild symptoms to severe problems\n",
    "signals non-normal heart beat\n",
    "2: Possible or definite left ventricular hypertrophy\n",
    "Enlarged heart's main pumping chamber\n",
    "#thalach - maximum heart rate achieved\n",
    "#exang - exercise induced angina (1 = yes; 0 = no)\n",
    "#oldpeak - ST depression induced by exercise relative to rest looks at stress of heart during excercise unhealthy heart will stress more\n",
    "#slope - the slope of the peak exercise ST segment\n",
    "0: Upsloping: better heart rate with excercise (uncommon)\n",
    "1: Flatsloping: minimal change (typical healthy heart)\n",
    "2: Downslopins: signs of unhealthy heart\n",
    "#ca - number of major vessels (0-3) colored by flourosopy\n",
    "colored vessel means the doctor can see the blood passing through\n",
    "the more blood movement the better (no clots)\n",
    "#thal - thalium stress result\n",
    "1,3: normal\n",
    "6: fixed defect: used to be defect but ok now\n",
    "7: reversable defect: no proper blood movement when excercising\n",
    "#target - have disease or not (1=yes, 0=no) (= the predicted attribute)\n"
   ]
  },
  {
   "cell_type": "code",
   "execution_count": 43,
   "metadata": {},
   "outputs": [
    {
     "data": {
      "text/html": [
       "<div>\n",
       "<style scoped>\n",
       "    .dataframe tbody tr th:only-of-type {\n",
       "        vertical-align: middle;\n",
       "    }\n",
       "\n",
       "    .dataframe tbody tr th {\n",
       "        vertical-align: top;\n",
       "    }\n",
       "\n",
       "    .dataframe thead th {\n",
       "        text-align: right;\n",
       "    }\n",
       "</style>\n",
       "<table border=\"1\" class=\"dataframe\">\n",
       "  <thead>\n",
       "    <tr style=\"text-align: right;\">\n",
       "      <th></th>\n",
       "      <th>age</th>\n",
       "      <th>sex</th>\n",
       "      <th>cp</th>\n",
       "      <th>trestbps</th>\n",
       "      <th>chol</th>\n",
       "      <th>fbs</th>\n",
       "      <th>restecg</th>\n",
       "      <th>thalach</th>\n",
       "      <th>exang</th>\n",
       "      <th>oldpeak</th>\n",
       "      <th>slope</th>\n",
       "      <th>ca</th>\n",
       "      <th>thal</th>\n",
       "      <th>num</th>\n",
       "    </tr>\n",
       "  </thead>\n",
       "  <tbody>\n",
       "    <tr>\n",
       "      <th>0</th>\n",
       "      <td>63</td>\n",
       "      <td>1</td>\n",
       "      <td>4</td>\n",
       "      <td>140</td>\n",
       "      <td>260</td>\n",
       "      <td>0</td>\n",
       "      <td>1</td>\n",
       "      <td>112</td>\n",
       "      <td>1</td>\n",
       "      <td>3</td>\n",
       "      <td>2</td>\n",
       "      <td>?</td>\n",
       "      <td>?</td>\n",
       "      <td>2</td>\n",
       "    </tr>\n",
       "    <tr>\n",
       "      <th>1</th>\n",
       "      <td>44</td>\n",
       "      <td>1</td>\n",
       "      <td>4</td>\n",
       "      <td>130</td>\n",
       "      <td>209</td>\n",
       "      <td>0</td>\n",
       "      <td>1</td>\n",
       "      <td>127</td>\n",
       "      <td>0</td>\n",
       "      <td>0</td>\n",
       "      <td>?</td>\n",
       "      <td>?</td>\n",
       "      <td>?</td>\n",
       "      <td>0</td>\n",
       "    </tr>\n",
       "    <tr>\n",
       "      <th>2</th>\n",
       "      <td>60</td>\n",
       "      <td>1</td>\n",
       "      <td>4</td>\n",
       "      <td>132</td>\n",
       "      <td>218</td>\n",
       "      <td>0</td>\n",
       "      <td>1</td>\n",
       "      <td>140</td>\n",
       "      <td>1</td>\n",
       "      <td>1.5</td>\n",
       "      <td>3</td>\n",
       "      <td>?</td>\n",
       "      <td>?</td>\n",
       "      <td>2</td>\n",
       "    </tr>\n",
       "    <tr>\n",
       "      <th>3</th>\n",
       "      <td>55</td>\n",
       "      <td>1</td>\n",
       "      <td>4</td>\n",
       "      <td>142</td>\n",
       "      <td>228</td>\n",
       "      <td>0</td>\n",
       "      <td>1</td>\n",
       "      <td>149</td>\n",
       "      <td>1</td>\n",
       "      <td>2.5</td>\n",
       "      <td>1</td>\n",
       "      <td>?</td>\n",
       "      <td>?</td>\n",
       "      <td>1</td>\n",
       "    </tr>\n",
       "    <tr>\n",
       "      <th>4</th>\n",
       "      <td>66</td>\n",
       "      <td>1</td>\n",
       "      <td>3</td>\n",
       "      <td>110</td>\n",
       "      <td>213</td>\n",
       "      <td>1</td>\n",
       "      <td>2</td>\n",
       "      <td>99</td>\n",
       "      <td>1</td>\n",
       "      <td>1.3</td>\n",
       "      <td>2</td>\n",
       "      <td>?</td>\n",
       "      <td>?</td>\n",
       "      <td>0</td>\n",
       "    </tr>\n",
       "  </tbody>\n",
       "</table>\n",
       "</div>"
      ],
      "text/plain": [
       "   age  sex  cp trestbps chol fbs  restecg thalach exang oldpeak slope ca  \\\n",
       "0   63    1   4      140  260   0        1     112     1       3     2  ?   \n",
       "1   44    1   4      130  209   0        1     127     0       0     ?  ?   \n",
       "2   60    1   4      132  218   0        1     140     1     1.5     3  ?   \n",
       "3   55    1   4      142  228   0        1     149     1     2.5     1  ?   \n",
       "4   66    1   3      110  213   1        2      99     1     1.3     2  ?   \n",
       "\n",
       "  thal  num  \n",
       "0    ?    2  \n",
       "1    ?    0  \n",
       "2    ?    2  \n",
       "3    ?    1  \n",
       "4    ?    0  "
      ]
     },
     "execution_count": 43,
     "metadata": {},
     "output_type": "execute_result"
    }
   ],
   "source": [
    "df.head()"
   ]
  },
  {
   "cell_type": "code",
   "execution_count": 44,
   "metadata": {},
   "outputs": [],
   "source": [
    "df=df.replace(to_replace=\"?\",value=np.nan)"
   ]
  },
  {
   "cell_type": "code",
   "execution_count": 45,
   "metadata": {},
   "outputs": [
    {
     "name": "stdout",
     "output_type": "stream",
     "text": [
      "<class 'pandas.core.frame.DataFrame'>\n",
      "RangeIndex: 200 entries, 0 to 199\n",
      "Data columns (total 14 columns):\n",
      " #   Column    Non-Null Count  Dtype \n",
      "---  ------    --------------  ----- \n",
      " 0   age       200 non-null    int64 \n",
      " 1   sex       200 non-null    int64 \n",
      " 2   cp        200 non-null    int64 \n",
      " 3   trestbps  144 non-null    object\n",
      " 4   chol      193 non-null    object\n",
      " 5   fbs       193 non-null    object\n",
      " 6   restecg   200 non-null    int64 \n",
      " 7   thalach   147 non-null    object\n",
      " 8   exang     147 non-null    object\n",
      " 9   oldpeak   144 non-null    object\n",
      " 10  slope     98 non-null     object\n",
      " 11  ca        2 non-null      object\n",
      " 12  thal      34 non-null     object\n",
      " 13  num       200 non-null    int64 \n",
      "dtypes: int64(5), object(9)\n",
      "memory usage: 22.0+ KB\n"
     ]
    }
   ],
   "source": [
    "df.info()\n",
    "#We can observe few Nan values and object typr data"
   ]
  },
  {
   "cell_type": "code",
   "execution_count": 46,
   "metadata": {},
   "outputs": [
    {
     "name": "stdout",
     "output_type": "stream",
     "text": [
      "Coulmun Name age [63 44 60 55 66 65 56 59 62 57 46 58 64 74 52 69 51 54 77 61 40 41 42 53\n",
      " 68 67 72 75 49 35 43 48 50 45 76 70 71 38 37]\n",
      "Coulmun Name sex [1 0]\n",
      "Coulmun Name cp [4 3 2 1]\n",
      "Coulmun Name trestbps ['140' '130' '132' '142' '110' '120' '150' '180' '160' '126' nan '128'\n",
      " '170' '152' '116' '124' '0' '122' '144' '154' '125' '104' '136' '134'\n",
      " '138' '178' '146' '135' '158' '106' '112' '102' '96' '172' '155' '156'\n",
      " '118' '100' '190' '114' '127']\n",
      "Coulmun Name chol ['260' '209' '218' '228' '213' '0' '236' '267' '166' '220' '177' '186'\n",
      " '100' '171' '230' '281' '203' '277' '233' '240' '153' '224' '316' '311'\n",
      " '270' '217' '214' '252' '339' '216' '276' '458' '241' '384' '297' '248'\n",
      " '308' '208' '227' '210' '245' '225' '198' '195' '161' '258' '235' '305'\n",
      " '223' '282' '349' nan '160' '312' '283' '142' '211' '306' '222' '202'\n",
      " '197' '204' '274' '192' '298' '272' '200' '261' '181' '221' '175' '219'\n",
      " '310' '232' '273' '182' '292' '289' '193' '170' '369' '173' '271' '244'\n",
      " '285' '243' '237' '165' '287' '256' '264' '226' '207' '284' '337' '254'\n",
      " '300' '333' '139' '385']\n",
      "Coulmun Name fbs ['0' '1' nan]\n",
      "Coulmun Name restecg [1 2 0]\n",
      "Coulmun Name thalach ['112' '127' '140' '149' '99' '120' '105' '141' '157' '117' nan '148' '86'\n",
      " '84' '125' '118' '124' '106' '111' '180' '129' '110' '155' '122' '133'\n",
      " '131' '80' '165' '107' '128' '160' '97' '161' '130' '108' '123' '144'\n",
      " '102' '145' '69' '138' '150' '88' '132' '121' '135' '100' '162' '73'\n",
      " '154' '115' '119' '159' '94' '113' '98' '96' '151' '126' '93']\n",
      "Coulmun Name exang ['1' '0' nan]\n",
      "Coulmun Name oldpeak ['3' '0' '1.5' '2.5' '1.3' '-0.5' '2' '0.5' '1' nan '1.6' '4' '3.5' '0.8'\n",
      " '1.7']\n",
      "Coulmun Name slope ['2' nan '3' '1']\n",
      "Coulmun Name ca [nan '0']\n",
      "Coulmun Name thal [nan '3' '7' '6']\n",
      "Coulmun Name num [2 0 1 3 4]\n"
     ]
    }
   ],
   "source": [
    "for col in df:\n",
    "    print(\"Coulmun Name \"+col,df[col].unique())"
   ]
  },
  {
   "cell_type": "code",
   "execution_count": 47,
   "metadata": {},
   "outputs": [
    {
     "name": "stdout",
     "output_type": "stream",
     "text": [
      "float64\n",
      "float64\n",
      "float64\n",
      "float64\n",
      "float64\n",
      "float64\n"
     ]
    }
   ],
   "source": [
    "for column in ['thalach','chol','trestbps','oldpeak','exang','fbs']:\n",
    "    df[column]=(df[column]).astype(str).astype(float)\n",
    "    print(df[column].dtype)"
   ]
  },
  {
   "cell_type": "code",
   "execution_count": 53,
   "metadata": {},
   "outputs": [],
   "source": [
    "df['num'] = np.where(df['num'] >=1, 1, df['num'])\n",
    "#we have replaced the values (1,2,3,4) with 1 as the presence of the heart diseas \n",
    "#Experiments with the Cleveland database have concentrated on simply attempting to distinguish presence (values 1,2,3,4) from absence (value 0)."
   ]
  },
  {
   "cell_type": "code",
   "execution_count": 49,
   "metadata": {},
   "outputs": [
    {
     "name": "stdout",
     "output_type": "stream",
     "text": [
      "<class 'pandas.core.frame.DataFrame'>\n",
      "RangeIndex: 200 entries, 0 to 199\n",
      "Data columns (total 14 columns):\n",
      " #   Column    Non-Null Count  Dtype  \n",
      "---  ------    --------------  -----  \n",
      " 0   age       200 non-null    int64  \n",
      " 1   sex       200 non-null    int64  \n",
      " 2   cp        200 non-null    int64  \n",
      " 3   trestbps  144 non-null    float64\n",
      " 4   chol      193 non-null    float64\n",
      " 5   fbs       193 non-null    float64\n",
      " 6   restecg   200 non-null    int64  \n",
      " 7   thalach   147 non-null    float64\n",
      " 8   exang     147 non-null    float64\n",
      " 9   oldpeak   144 non-null    float64\n",
      " 10  slope     98 non-null     object \n",
      " 11  ca        2 non-null      object \n",
      " 12  thal      34 non-null     object \n",
      " 13  num       200 non-null    int64  \n",
      "dtypes: float64(6), int64(5), object(3)\n",
      "memory usage: 22.0+ KB\n"
     ]
    }
   ],
   "source": [
    "df.info()"
   ]
  },
  {
   "cell_type": "markdown",
   "metadata": {},
   "source": [
    "#  Handling missing values "
   ]
  },
  {
   "cell_type": "markdown",
   "metadata": {},
   "source": [
    "Column \"Ca\" has only one attribute and null values so it can be dropped \n",
    "#Missing values in \"thalach\" can be replaced by Mean of the column"
   ]
  },
  {
   "cell_type": "markdown",
   "metadata": {},
   "source": [
    "Replacing the values with following\n",
    "#trestbps 144 non-null - Mean\n",
    "#chol 193 non-null - Mean\n",
    "#fbs 193 non-null - Mode\n",
    "#thalach 147 non-null - Mean\n",
    "#exang 147 non-null - Mode\n",
    "#oldpeak 144 non-null - Mean \n",
    "\n",
    "\n",
    "\n",
    "####Droping the following Columns####\n",
    "\n",
    "#slope 98 non-null - Drop as half of the values are missing\n",
    "#ca 2 non-null - Drop\n",
    "#thal 34 non-null - Drop as 80% of the values are missing"
   ]
  },
  {
   "cell_type": "code",
   "execution_count": 50,
   "metadata": {},
   "outputs": [],
   "source": [
    "df.drop([\"thal\",\"ca\",\"slope\"],axis=1,inplace=True)"
   ]
  },
  {
   "cell_type": "code",
   "execution_count": 51,
   "metadata": {},
   "outputs": [],
   "source": [
    "#Replacing Nan Values with Mode\n",
    "for column in ['exang','fbs']:\n",
    "    df[column].fillna(df[column].mode()[0], inplace=True)\n",
    "\n",
    "#Replacing Nan Values with Mean\n",
    "for column in ['thalach','chol','trestbps','oldpeak']:\n",
    "    df[column].fillna(df[column].mean(), inplace=True)\n"
   ]
  },
  {
   "cell_type": "code",
   "execution_count": 54,
   "metadata": {},
   "outputs": [
    {
     "data": {
      "text/html": [
       "<div>\n",
       "<style scoped>\n",
       "    .dataframe tbody tr th:only-of-type {\n",
       "        vertical-align: middle;\n",
       "    }\n",
       "\n",
       "    .dataframe tbody tr th {\n",
       "        vertical-align: top;\n",
       "    }\n",
       "\n",
       "    .dataframe thead th {\n",
       "        text-align: right;\n",
       "    }\n",
       "</style>\n",
       "<table border=\"1\" class=\"dataframe\">\n",
       "  <thead>\n",
       "    <tr style=\"text-align: right;\">\n",
       "      <th></th>\n",
       "      <th>age</th>\n",
       "      <th>sex</th>\n",
       "      <th>cp</th>\n",
       "      <th>trestbps</th>\n",
       "      <th>chol</th>\n",
       "      <th>fbs</th>\n",
       "      <th>restecg</th>\n",
       "      <th>thalach</th>\n",
       "      <th>exang</th>\n",
       "      <th>oldpeak</th>\n",
       "      <th>num</th>\n",
       "    </tr>\n",
       "  </thead>\n",
       "  <tbody>\n",
       "    <tr>\n",
       "      <th>0</th>\n",
       "      <td>63</td>\n",
       "      <td>1</td>\n",
       "      <td>4</td>\n",
       "      <td>140.0</td>\n",
       "      <td>260.0</td>\n",
       "      <td>0.0</td>\n",
       "      <td>1</td>\n",
       "      <td>112.0</td>\n",
       "      <td>1.0</td>\n",
       "      <td>3.0</td>\n",
       "      <td>1</td>\n",
       "    </tr>\n",
       "    <tr>\n",
       "      <th>1</th>\n",
       "      <td>44</td>\n",
       "      <td>1</td>\n",
       "      <td>4</td>\n",
       "      <td>130.0</td>\n",
       "      <td>209.0</td>\n",
       "      <td>0.0</td>\n",
       "      <td>1</td>\n",
       "      <td>127.0</td>\n",
       "      <td>0.0</td>\n",
       "      <td>0.0</td>\n",
       "      <td>0</td>\n",
       "    </tr>\n",
       "    <tr>\n",
       "      <th>2</th>\n",
       "      <td>60</td>\n",
       "      <td>1</td>\n",
       "      <td>4</td>\n",
       "      <td>132.0</td>\n",
       "      <td>218.0</td>\n",
       "      <td>0.0</td>\n",
       "      <td>1</td>\n",
       "      <td>140.0</td>\n",
       "      <td>1.0</td>\n",
       "      <td>1.5</td>\n",
       "      <td>1</td>\n",
       "    </tr>\n",
       "    <tr>\n",
       "      <th>3</th>\n",
       "      <td>55</td>\n",
       "      <td>1</td>\n",
       "      <td>4</td>\n",
       "      <td>142.0</td>\n",
       "      <td>228.0</td>\n",
       "      <td>0.0</td>\n",
       "      <td>1</td>\n",
       "      <td>149.0</td>\n",
       "      <td>1.0</td>\n",
       "      <td>2.5</td>\n",
       "      <td>1</td>\n",
       "    </tr>\n",
       "    <tr>\n",
       "      <th>4</th>\n",
       "      <td>66</td>\n",
       "      <td>1</td>\n",
       "      <td>3</td>\n",
       "      <td>110.0</td>\n",
       "      <td>213.0</td>\n",
       "      <td>1.0</td>\n",
       "      <td>2</td>\n",
       "      <td>99.0</td>\n",
       "      <td>1.0</td>\n",
       "      <td>1.3</td>\n",
       "      <td>0</td>\n",
       "    </tr>\n",
       "  </tbody>\n",
       "</table>\n",
       "</div>"
      ],
      "text/plain": [
       "   age  sex  cp  trestbps   chol  fbs  restecg  thalach  exang  oldpeak  num\n",
       "0   63    1   4     140.0  260.0  0.0        1    112.0    1.0      3.0    1\n",
       "1   44    1   4     130.0  209.0  0.0        1    127.0    0.0      0.0    0\n",
       "2   60    1   4     132.0  218.0  0.0        1    140.0    1.0      1.5    1\n",
       "3   55    1   4     142.0  228.0  0.0        1    149.0    1.0      2.5    1\n",
       "4   66    1   3     110.0  213.0  1.0        2     99.0    1.0      1.3    0"
      ]
     },
     "execution_count": 54,
     "metadata": {},
     "output_type": "execute_result"
    }
   ],
   "source": [
    "df.head()"
   ]
  },
  {
   "cell_type": "code",
   "execution_count": 55,
   "metadata": {},
   "outputs": [
    {
     "data": {
      "text/html": [
       "<div>\n",
       "<style scoped>\n",
       "    .dataframe tbody tr th:only-of-type {\n",
       "        vertical-align: middle;\n",
       "    }\n",
       "\n",
       "    .dataframe tbody tr th {\n",
       "        vertical-align: top;\n",
       "    }\n",
       "\n",
       "    .dataframe thead th {\n",
       "        text-align: right;\n",
       "    }\n",
       "</style>\n",
       "<table border=\"1\" class=\"dataframe\">\n",
       "  <thead>\n",
       "    <tr style=\"text-align: right;\">\n",
       "      <th></th>\n",
       "      <th>age</th>\n",
       "      <th>sex</th>\n",
       "      <th>cp</th>\n",
       "      <th>trestbps</th>\n",
       "      <th>chol</th>\n",
       "      <th>fbs</th>\n",
       "      <th>restecg</th>\n",
       "      <th>thalach</th>\n",
       "      <th>exang</th>\n",
       "      <th>oldpeak</th>\n",
       "      <th>num</th>\n",
       "    </tr>\n",
       "  </thead>\n",
       "  <tbody>\n",
       "    <tr>\n",
       "      <th>count</th>\n",
       "      <td>200.000000</td>\n",
       "      <td>200.000000</td>\n",
       "      <td>200.000000</td>\n",
       "      <td>200.000000</td>\n",
       "      <td>200.000000</td>\n",
       "      <td>200.000000</td>\n",
       "      <td>200.000000</td>\n",
       "      <td>200.000000</td>\n",
       "      <td>200.000000</td>\n",
       "      <td>200.000000</td>\n",
       "      <td>200.000000</td>\n",
       "    </tr>\n",
       "    <tr>\n",
       "      <th>mean</th>\n",
       "      <td>59.350000</td>\n",
       "      <td>0.970000</td>\n",
       "      <td>3.505000</td>\n",
       "      <td>133.763889</td>\n",
       "      <td>178.746114</td>\n",
       "      <td>0.340000</td>\n",
       "      <td>0.735000</td>\n",
       "      <td>122.795918</td>\n",
       "      <td>0.740000</td>\n",
       "      <td>1.320833</td>\n",
       "      <td>0.745000</td>\n",
       "    </tr>\n",
       "    <tr>\n",
       "      <th>std</th>\n",
       "      <td>7.811697</td>\n",
       "      <td>0.171015</td>\n",
       "      <td>0.795701</td>\n",
       "      <td>18.257507</td>\n",
       "      <td>112.011633</td>\n",
       "      <td>0.474898</td>\n",
       "      <td>0.683455</td>\n",
       "      <td>18.835692</td>\n",
       "      <td>0.439735</td>\n",
       "      <td>0.937755</td>\n",
       "      <td>0.436955</td>\n",
       "    </tr>\n",
       "    <tr>\n",
       "      <th>min</th>\n",
       "      <td>35.000000</td>\n",
       "      <td>0.000000</td>\n",
       "      <td>1.000000</td>\n",
       "      <td>0.000000</td>\n",
       "      <td>0.000000</td>\n",
       "      <td>0.000000</td>\n",
       "      <td>0.000000</td>\n",
       "      <td>69.000000</td>\n",
       "      <td>0.000000</td>\n",
       "      <td>-0.500000</td>\n",
       "      <td>0.000000</td>\n",
       "    </tr>\n",
       "    <tr>\n",
       "      <th>25%</th>\n",
       "      <td>55.000000</td>\n",
       "      <td>1.000000</td>\n",
       "      <td>3.000000</td>\n",
       "      <td>125.750000</td>\n",
       "      <td>129.250000</td>\n",
       "      <td>0.000000</td>\n",
       "      <td>0.000000</td>\n",
       "      <td>112.000000</td>\n",
       "      <td>0.000000</td>\n",
       "      <td>1.000000</td>\n",
       "      <td>0.000000</td>\n",
       "    </tr>\n",
       "    <tr>\n",
       "      <th>50%</th>\n",
       "      <td>60.000000</td>\n",
       "      <td>1.000000</td>\n",
       "      <td>4.000000</td>\n",
       "      <td>133.763889</td>\n",
       "      <td>214.000000</td>\n",
       "      <td>0.000000</td>\n",
       "      <td>1.000000</td>\n",
       "      <td>122.795918</td>\n",
       "      <td>1.000000</td>\n",
       "      <td>1.320833</td>\n",
       "      <td>1.000000</td>\n",
       "    </tr>\n",
       "    <tr>\n",
       "      <th>75%</th>\n",
       "      <td>64.000000</td>\n",
       "      <td>1.000000</td>\n",
       "      <td>4.000000</td>\n",
       "      <td>140.000000</td>\n",
       "      <td>254.500000</td>\n",
       "      <td>1.000000</td>\n",
       "      <td>1.000000</td>\n",
       "      <td>130.000000</td>\n",
       "      <td>1.000000</td>\n",
       "      <td>2.000000</td>\n",
       "      <td>1.000000</td>\n",
       "    </tr>\n",
       "    <tr>\n",
       "      <th>max</th>\n",
       "      <td>77.000000</td>\n",
       "      <td>1.000000</td>\n",
       "      <td>4.000000</td>\n",
       "      <td>190.000000</td>\n",
       "      <td>458.000000</td>\n",
       "      <td>1.000000</td>\n",
       "      <td>2.000000</td>\n",
       "      <td>180.000000</td>\n",
       "      <td>1.000000</td>\n",
       "      <td>4.000000</td>\n",
       "      <td>1.000000</td>\n",
       "    </tr>\n",
       "  </tbody>\n",
       "</table>\n",
       "</div>"
      ],
      "text/plain": [
       "              age         sex          cp    trestbps        chol         fbs  \\\n",
       "count  200.000000  200.000000  200.000000  200.000000  200.000000  200.000000   \n",
       "mean    59.350000    0.970000    3.505000  133.763889  178.746114    0.340000   \n",
       "std      7.811697    0.171015    0.795701   18.257507  112.011633    0.474898   \n",
       "min     35.000000    0.000000    1.000000    0.000000    0.000000    0.000000   \n",
       "25%     55.000000    1.000000    3.000000  125.750000  129.250000    0.000000   \n",
       "50%     60.000000    1.000000    4.000000  133.763889  214.000000    0.000000   \n",
       "75%     64.000000    1.000000    4.000000  140.000000  254.500000    1.000000   \n",
       "max     77.000000    1.000000    4.000000  190.000000  458.000000    1.000000   \n",
       "\n",
       "          restecg     thalach       exang     oldpeak         num  \n",
       "count  200.000000  200.000000  200.000000  200.000000  200.000000  \n",
       "mean     0.735000  122.795918    0.740000    1.320833    0.745000  \n",
       "std      0.683455   18.835692    0.439735    0.937755    0.436955  \n",
       "min      0.000000   69.000000    0.000000   -0.500000    0.000000  \n",
       "25%      0.000000  112.000000    0.000000    1.000000    0.000000  \n",
       "50%      1.000000  122.795918    1.000000    1.320833    1.000000  \n",
       "75%      1.000000  130.000000    1.000000    2.000000    1.000000  \n",
       "max      2.000000  180.000000    1.000000    4.000000    1.000000  "
      ]
     },
     "execution_count": 55,
     "metadata": {},
     "output_type": "execute_result"
    }
   ],
   "source": [
    "df.describe()"
   ]
  },
  {
   "cell_type": "markdown",
   "metadata": {},
   "source": [
    "#Minimum age is 35 and maximum is 77 \n",
    "#97%of the data is of Male sex\n",
    "#Minimum trestbps is 0 and maximum is 190\n"
   ]
  },
  {
   "cell_type": "code",
   "execution_count": 56,
   "metadata": {},
   "outputs": [
    {
     "data": {
      "image/png": "[encoded data removed]",
      "text/plain": [
       "<Figure size 2160x1440 with 2 Axes>"
      ]
     },
     "metadata": {
      "needs_background": "light"
     },
     "output_type": "display_data"
    }
   ],
   "source": [
    "corr_hmap= df.corr()\n",
    "plt.figure(figsize=(30,20))\n",
    "sns.heatmap(corr_hmap,annot=True)\n",
    "plt.show()"
   ]
  },
  {
   "cell_type": "code",
   "execution_count": 57,
   "metadata": {},
   "outputs": [
    {
     "data": {
      "text/plain": [
       "age            AxesSubplot(0.125,0.536818;0.110714x0.343182)\n",
       "sex         AxesSubplot(0.257857,0.536818;0.110714x0.343182)\n",
       "cp          AxesSubplot(0.390714,0.536818;0.110714x0.343182)\n",
       "trestbps    AxesSubplot(0.523571,0.536818;0.110714x0.343182)\n",
       "chol        AxesSubplot(0.656429,0.536818;0.110714x0.343182)\n",
       "fbs         AxesSubplot(0.789286,0.536818;0.110714x0.343182)\n",
       "restecg           AxesSubplot(0.125,0.125;0.110714x0.343182)\n",
       "thalach        AxesSubplot(0.257857,0.125;0.110714x0.343182)\n",
       "exang          AxesSubplot(0.390714,0.125;0.110714x0.343182)\n",
       "oldpeak        AxesSubplot(0.523571,0.125;0.110714x0.343182)\n",
       "num            AxesSubplot(0.656429,0.125;0.110714x0.343182)\n",
       "dtype: object"
      ]
     },
     "execution_count": 57,
     "metadata": {},
     "output_type": "execute_result"
    },
    {
     "data": {
      "image/png": "[encoded data removed]",
      "text/plain": [
       "<Figure size 432x288 with 12 Axes>"
      ]
     },
     "metadata": {
      "needs_background": "light"
     },
     "output_type": "display_data"
    }
   ],
   "source": [
    "df.plot(kind=\"box\",subplots=True,layout=(2,6))\n",
    "#As we observe there are few outliers in the data "
   ]
  },
  {
   "cell_type": "code",
   "execution_count": 58,
   "metadata": {},
   "outputs": [
    {
     "data": {
      "text/plain": [
       "array([[<matplotlib.axes._subplots.AxesSubplot object at 0x00000293AFA4FB50>,\n",
       "        <matplotlib.axes._subplots.AxesSubplot object at 0x00000293AFA7F700>,\n",
       "        <matplotlib.axes._subplots.AxesSubplot object at 0x00000293AFAAF550>],\n",
       "       [<matplotlib.axes._subplots.AxesSubplot object at 0x00000293AFAD9CD0>,\n",
       "        <matplotlib.axes._subplots.AxesSubplot object at 0x00000293AFB0D460>,\n",
       "        <matplotlib.axes._subplots.AxesSubplot object at 0x00000293AFB35AF0>],\n",
       "       [<matplotlib.axes._subplots.AxesSubplot object at 0x00000293AFB35BE0>,\n",
       "        <matplotlib.axes._subplots.AxesSubplot object at 0x00000293AFB6B400>,\n",
       "        <matplotlib.axes._subplots.AxesSubplot object at 0x00000293AFBCB2B0>],\n",
       "       [<matplotlib.axes._subplots.AxesSubplot object at 0x00000293AFBF5A30>,\n",
       "        <matplotlib.axes._subplots.AxesSubplot object at 0x00000293AFC2B1F0>,\n",
       "        <matplotlib.axes._subplots.AxesSubplot object at 0x00000293AFC558B0>]],\n",
       "      dtype=object)"
      ]
     },
     "execution_count": 58,
     "metadata": {},
     "output_type": "execute_result"
    },
    {
     "data": {
      "image/png": "[encoded data removed]",
      "text/plain": [
       "<Figure size 1440x1440 with 12 Axes>"
      ]
     },
     "metadata": {
      "needs_background": "light"
     },
     "output_type": "display_data"
    }
   ],
   "source": [
    "df.hist(figsize=(20,20))"
   ]
  },
  {
   "cell_type": "code",
   "execution_count": 16,
   "metadata": {},
   "outputs": [
    {
     "data": {
      "text/plain": [
       "1    197\n",
       "0      3\n",
       "Name: sex, dtype: int64"
      ]
     },
     "execution_count": 16,
     "metadata": {},
     "output_type": "execute_result"
    }
   ],
   "source": [
    "df[\"sex\"].value_counts()\n",
    "#there is very less divertion in sex data so it can be dropped "
   ]
  },
  {
   "cell_type": "code",
   "execution_count": 114,
   "metadata": {},
   "outputs": [],
   "source": [
    "#df.drop([\"sex\"],axis=1,inplace=True)"
   ]
  },
  {
   "cell_type": "code",
   "execution_count": 59,
   "metadata": {},
   "outputs": [
    {
     "data": {
      "image/png": "[encoded data removed]",
      "text/plain": [
       "<Figure size 1440x360 with 1 Axes>"
      ]
     },
     "metadata": {
      "needs_background": "light"
     },
     "output_type": "display_data"
    }
   ],
   "source": [
    "plt.figure(figsize=(20, 5))\n",
    "ax = sns.barplot(x = df.age, y = df.chol, estimator = np.sum)\n",
    "plt.title('Cholostrol to Age')\n",
    "plt.show()"
   ]
  },
  {
   "cell_type": "code",
   "execution_count": 60,
   "metadata": {},
   "outputs": [
    {
     "data": {
      "text/plain": [
       "<matplotlib.axes._subplots.AxesSubplot at 0x293b1d01040>"
      ]
     },
     "execution_count": 60,
     "metadata": {},
     "output_type": "execute_result"
    },
    {
     "data": {
      "image/png": "[encoded data removed]",
      "text/plain": [
       "<Figure size 432x288 with 1 Axes>"
      ]
     },
     "metadata": {
      "needs_background": "light"
     },
     "output_type": "display_data"
    }
   ],
   "source": [
    "sns.boxplot(x=df.thalach)"
   ]
  },
  {
   "cell_type": "code",
   "execution_count": 61,
   "metadata": {},
   "outputs": [
    {
     "data": {
      "text/plain": [
       "<matplotlib.collections.PathCollection at 0x293afea50a0>"
      ]
     },
     "execution_count": 61,
     "metadata": {},
     "output_type": "execute_result"
    },
    {
     "data": {
      "image/png": "[encoded data removed]",
      "text/plain": [
       "<Figure size 432x288 with 1 Axes>"
      ]
     },
     "metadata": {
      "needs_background": "light"
     },
     "output_type": "display_data"
    }
   ],
   "source": [
    "plt.scatter(df.age,df.num)"
   ]
  },
  {
   "cell_type": "code",
   "execution_count": 62,
   "metadata": {},
   "outputs": [
    {
     "data": {
      "text/plain": [
       "<matplotlib.collections.PathCollection at 0x293b0919b50>"
      ]
     },
     "execution_count": 62,
     "metadata": {},
     "output_type": "execute_result"
    },
    {
     "data": {
      "image/png": "[encoded data removed]",
      "text/plain": [
       "<Figure size 432x288 with 1 Axes>"
      ]
     },
     "metadata": {
      "needs_background": "light"
     },
     "output_type": "display_data"
    }
   ],
   "source": [
    "plt.scatter(df.num,df.chol)"
   ]
  },
  {
   "cell_type": "code",
   "execution_count": 63,
   "metadata": {},
   "outputs": [
    {
     "data": {
      "text/plain": [
       "age        -0.404091\n",
       "sex        -5.552105\n",
       "cp         -1.648734\n",
       "trestbps   -1.511363\n",
       "chol       -0.571879\n",
       "fbs         0.680636\n",
       "restecg     0.391463\n",
       "thalach     0.148515\n",
       "exang      -1.102593\n",
       "oldpeak     0.423414\n",
       "num        -1.132724\n",
       "dtype: float64"
      ]
     },
     "execution_count": 63,
     "metadata": {},
     "output_type": "execute_result"
    }
   ],
   "source": [
    "df.skew()"
   ]
  },
  {
   "cell_type": "code",
   "execution_count": 64,
   "metadata": {},
   "outputs": [
    {
     "name": "stdout",
     "output_type": "stream",
     "text": [
      "(array([ 24,  33,  51,  66,  70,  72,  76,  79,  96,  97, 126, 128, 131,\n",
      "       133, 137, 176, 190, 195, 196], dtype=int64), array([7, 3, 1, 2, 7, 2, 2, 1, 0, 2, 1, 1, 2, 2, 2, 3, 1, 1, 2],\n",
      "      dtype=int64))\n",
      "\n",
      " Original Shape (200, 11) New Shape (181, 11)\n"
     ]
    }
   ],
   "source": [
    "from scipy.stats import zscore\n",
    "z=np.abs(zscore(df))\n",
    "z\n",
    "threshold=3\n",
    "print(np.where(z>3))\n",
    "df_new=df[(z<3).all(axis=1)]\n",
    "print(\"\\n Original Shape\", df.shape, \"New Shape\",df_new.shape)"
   ]
  },
  {
   "cell_type": "code",
   "execution_count": 65,
   "metadata": {},
   "outputs": [
    {
     "name": "stdout",
     "output_type": "stream",
     "text": [
      "\n",
      "Percentage loss: 9.5\n"
     ]
    }
   ],
   "source": [
    "Percntage_loss=((200-181)/200)*100\n",
    "print(\"\\nPercentage loss:\",Percntage_loss)"
   ]
  },
  {
   "cell_type": "code",
   "execution_count": 66,
   "metadata": {},
   "outputs": [
    {
     "data": {
      "text/plain": [
       "age        -0.341400\n",
       "sex         0.000000\n",
       "cp         -1.414098\n",
       "trestbps    0.516323\n",
       "chol       -0.546859\n",
       "fbs         0.748785\n",
       "restecg     0.386145\n",
       "thalach    -0.064362\n",
       "exang      -1.207866\n",
       "oldpeak     0.445245\n",
       "num        -1.243576\n",
       "dtype: float64"
      ]
     },
     "execution_count": 66,
     "metadata": {},
     "output_type": "execute_result"
    }
   ],
   "source": [
    "df_new.skew()"
   ]
  },
  {
   "cell_type": "markdown",
   "metadata": {},
   "source": [
    "Loss of 9.5% data for a small dataset is not ideal so we are going ahead with model building with existing dataset only "
   ]
  },
  {
   "cell_type": "code",
   "execution_count": 67,
   "metadata": {},
   "outputs": [],
   "source": [
    "y=df[\"num\"]\n",
    "x=df.drop(\"num\", axis=1)"
   ]
  },
  {
   "cell_type": "code",
   "execution_count": 68,
   "metadata": {},
   "outputs": [],
   "source": [
    "from sklearn.preprocessing import StandardScaler\n",
    "sc=StandardScaler()\n",
    "x_t=sc.fit_transform(x)\n",
    "from sklearn.model_selection import train_test_split\n",
    "from sklearn.model_selection import KFold, cross_val_score, GridSearchCV\n",
    "lr=LogisticRegression()\n",
    "from sklearn.metrics import accuracy_score,confusion_matrix,classification_report\n",
    "import warnings\n",
    "warnings.filterwarnings(\"ignore\")"
   ]
  },
  {
   "cell_type": "code",
   "execution_count": 69,
   "metadata": {},
   "outputs": [
    {
     "name": "stdout",
     "output_type": "stream",
     "text": [
      "At random state 42 The model Perfomes very well\n",
      "Training accuracy_score is: 80.0\n",
      "Testing accuracy_score is: 0.8\n",
      "\n",
      "\n",
      "At random state 67 The model Perfomes very well\n",
      "Training accuracy_score is: 77.5\n",
      "Testing accuracy_score is: 0.775\n",
      "\n",
      "\n"
     ]
    }
   ],
   "source": [
    "max_scr=0\n",
    "for i in range(30,100):\n",
    "    x_train,x_test,y_train,y_test=train_test_split(x_t,y,test_size=.20,random_state=i)\n",
    "    lr.fit(x_train,y_train)\n",
    "    pred_train=lr.predict(x_train)\n",
    "    pred_test=lr.predict(x_test)\n",
    "    if round(accuracy_score(y_train,pred_train)*100,2)==round(accuracy_score(y_test,pred_test)*100,2):\n",
    "    #if accuracy_score(y_train,pred_train)*100>max_scr:  \n",
    "        max_scr=accuracy_score(y_train,pred_train)*100\n",
    "        print(\"At random state\",i,\"The model Perfomes very well\")\n",
    "        print(\"Training accuracy_score is:\",accuracy_score(y_train,pred_train)*100)\n",
    "        print(\"Testing accuracy_score is:\",accuracy_score(y_test,pred_test), end = \"\\n\\n\\n\")"
   ]
  },
  {
   "cell_type": "markdown",
   "metadata": {},
   "source": [
    "#Model has perfomed best at 42 random state\n",
    "At random state 42 The model Perfomes very well\n",
    "Training accuracy_score is: 80.0\n",
    "Testing accuracy_score is: 0.8"
   ]
  },
  {
   "cell_type": "code",
   "execution_count": 70,
   "metadata": {},
   "outputs": [],
   "source": [
    "x_train,x_test,y_train,y_test=train_test_split(x_t,y,test_size=.20,random_state=42)\n",
    "num_folds = 10\n",
    "seed = 42\n",
    "scoring = 'accuracy'"
   ]
  },
  {
   "cell_type": "code",
   "execution_count": 71,
   "metadata": {},
   "outputs": [],
   "source": [
    "models= [\n",
    "    (\"SVC\",SVC()),\n",
    "    (\"Logistic Regression\",LogisticRegression()),\n",
    "    (\"Decision Tree\", DecisionTreeClassifier()),\n",
    "    (\"Naive Bayes\",GaussianNB()),\n",
    "    (\"KNearest Neighbors\",KNeighborsClassifier(3)),\n",
    "    (\"RandomForestClassifier\",RandomForestClassifier())\n",
    "    ]"
   ]
  },
  {
   "cell_type": "code",
   "execution_count": 72,
   "metadata": {},
   "outputs": [
    {
     "name": "stdout",
     "output_type": "stream",
     "text": [
      "SVC: 0.725000 (0.134629)\n",
      "Logistic Regression: 0.706250 (0.097026)\n",
      "Decision Tree: 0.637500 (0.096014)\n",
      "Naive Bayes: 0.750000 (0.100778)\n",
      "KNearest Neighbors: 0.687500 (0.104583)\n",
      "RandomForestClassifier: 0.731250 (0.088609)\n"
     ]
    }
   ],
   "source": [
    "results = []\n",
    "names = []\n",
    "for name, model in models:\n",
    "    kfold = KFold(n_splits=num_folds, random_state=seed)\n",
    "    cv_results = cross_val_score(model, x_train, y_train, cv=kfold, scoring=scoring)\n",
    "    results.append(cv_results)\n",
    "    names.append(name)\n",
    "    msg = \"%s: %f (%f)\" % (name, cv_results.mean(), cv_results.std())\n",
    "    print(msg)\n"
   ]
  },
  {
   "cell_type": "markdown",
   "metadata": {},
   "source": [
    "#over all the perfomance of Naive Bayes and RandomForestClassifie has be well"
   ]
  },
  {
   "cell_type": "markdown",
   "metadata": {},
   "source": [
    "# HyperParameter Tyning"
   ]
  },
  {
   "cell_type": "code",
   "execution_count": 73,
   "metadata": {},
   "outputs": [
    {
     "name": "stdout",
     "output_type": "stream",
     "text": [
      "Best: 0.750000 using {'max_features': 'sqrt', 'n_estimators': 100}\n",
      "#2 0.737500 (0.072887) with: {'max_features': 'sqrt', 'n_estimators': 10}\n",
      "#1 0.750000 (0.096825) with: {'max_features': 'sqrt', 'n_estimators': 100}\n",
      "#4 0.700000 (0.082916) with: {'max_features': 'log2', 'n_estimators': 10}\n",
      "#3 0.731250 (0.100972) with: {'max_features': 'log2', 'n_estimators': 100}\n"
     ]
    }
   ],
   "source": [
    "#RandomForest Hyper Parameter Tuning\n",
    "\n",
    "n_estimators = [10, 100]\n",
    "max_features = ['sqrt', 'log2']\n",
    "param_grid = dict(n_estimators=n_estimators,max_features=max_features)\n",
    "model = RandomForestClassifier()\n",
    "kfold = KFold(n_splits=num_folds, random_state=7)\n",
    "grid = GridSearchCV(estimator=model, param_grid=param_grid, scoring=scoring, cv=kfold)\n",
    "grid_result = grid.fit(x_train, y_train)\n",
    "print(\"Best: %f using %s\" % (grid_result.best_score_, grid_result.best_params_))\n",
    "means = grid_result.cv_results_['mean_test_score']\n",
    "stds = grid_result.cv_results_['std_test_score']\n",
    "params = grid_result.cv_results_['params']\n",
    "ranks = grid_result.cv_results_['rank_test_score']\n",
    "for mean, stdev, param, rank in zip(means, stds, params, ranks):\n",
    "    print(\"#%d %f (%f) with: %r\" % (rank, mean, stdev, param))"
   ]
  },
  {
   "cell_type": "code",
   "execution_count": 74,
   "metadata": {},
   "outputs": [
    {
     "name": "stdout",
     "output_type": "stream",
     "text": [
      "Best: 0.750000 using {'var_smoothing': 0.01}\n",
      "#97 0.725000 (0.115920) with: {'var_smoothing': 1.0}\n",
      "#97 0.725000 (0.112500) with: {'var_smoothing': 0.8111308307896871}\n",
      "#97 0.725000 (0.101550) with: {'var_smoothing': 0.657933224657568}\n",
      "#100 0.718750 (0.105512) with: {'var_smoothing': 0.533669923120631}\n",
      "#91 0.731250 (0.104769) with: {'var_smoothing': 0.43287612810830584}\n",
      "#91 0.731250 (0.104769) with: {'var_smoothing': 0.3511191734215131}\n",
      "#91 0.731250 (0.104769) with: {'var_smoothing': 0.2848035868435802}\n",
      "#91 0.731250 (0.104769) with: {'var_smoothing': 0.23101297000831597}\n",
      "#79 0.743750 (0.116760) with: {'var_smoothing': 0.1873817422860384}\n",
      "#91 0.731250 (0.118750) with: {'var_smoothing': 0.15199110829529336}\n",
      "#91 0.731250 (0.118750) with: {'var_smoothing': 0.12328467394420659}\n",
      "#84 0.737500 (0.107529) with: {'var_smoothing': 0.1}\n",
      "#84 0.737500 (0.107529) with: {'var_smoothing': 0.08111308307896872}\n",
      "#84 0.737500 (0.107529) with: {'var_smoothing': 0.0657933224657568}\n",
      "#84 0.737500 (0.107529) with: {'var_smoothing': 0.0533669923120631}\n",
      "#84 0.737500 (0.103833) with: {'var_smoothing': 0.04328761281083057}\n",
      "#84 0.737500 (0.103833) with: {'var_smoothing': 0.03511191734215131}\n",
      "#84 0.737500 (0.103833) with: {'var_smoothing': 0.02848035868435802}\n",
      "#79 0.743750 (0.106250) with: {'var_smoothing': 0.02310129700083159}\n",
      "#79 0.743750 (0.106250) with: {'var_smoothing': 0.01873817422860384}\n",
      "#79 0.743750 (0.106250) with: {'var_smoothing': 0.01519911082952933}\n",
      "#79 0.743750 (0.106250) with: {'var_smoothing': 0.012328467394420659}\n",
      "#1 0.750000 (0.100778) with: {'var_smoothing': 0.01}\n",
      "#1 0.750000 (0.100778) with: {'var_smoothing': 0.008111308307896872}\n",
      "#1 0.750000 (0.100778) with: {'var_smoothing': 0.006579332246575682}\n",
      "#1 0.750000 (0.100778) with: {'var_smoothing': 0.005336699231206307}\n",
      "#1 0.750000 (0.100778) with: {'var_smoothing': 0.004328761281083057}\n",
      "#1 0.750000 (0.100778) with: {'var_smoothing': 0.003511191734215131}\n",
      "#1 0.750000 (0.100778) with: {'var_smoothing': 0.002848035868435802}\n",
      "#1 0.750000 (0.100778) with: {'var_smoothing': 0.0023101297000831605}\n",
      "#1 0.750000 (0.100778) with: {'var_smoothing': 0.001873817422860383}\n",
      "#1 0.750000 (0.100778) with: {'var_smoothing': 0.0015199110829529332}\n",
      "#1 0.750000 (0.100778) with: {'var_smoothing': 0.0012328467394420659}\n",
      "#1 0.750000 (0.100778) with: {'var_smoothing': 0.001}\n",
      "#1 0.750000 (0.100778) with: {'var_smoothing': 0.0008111308307896872}\n",
      "#1 0.750000 (0.100778) with: {'var_smoothing': 0.0006579332246575676}\n",
      "#1 0.750000 (0.100778) with: {'var_smoothing': 0.0005336699231206307}\n",
      "#1 0.750000 (0.100778) with: {'var_smoothing': 0.0004328761281083057}\n",
      "#1 0.750000 (0.100778) with: {'var_smoothing': 0.0003511191734215131}\n",
      "#1 0.750000 (0.100778) with: {'var_smoothing': 0.0002848035868435802}\n",
      "#1 0.750000 (0.100778) with: {'var_smoothing': 0.0002310129700083158}\n",
      "#1 0.750000 (0.100778) with: {'var_smoothing': 0.0001873817422860383}\n",
      "#1 0.750000 (0.100778) with: {'var_smoothing': 0.0001519911082952933}\n",
      "#1 0.750000 (0.100778) with: {'var_smoothing': 0.0001232846739442066}\n",
      "#1 0.750000 (0.100778) with: {'var_smoothing': 0.0001}\n",
      "#1 0.750000 (0.100778) with: {'var_smoothing': 8.111308307896872e-05}\n",
      "#1 0.750000 (0.100778) with: {'var_smoothing': 6.579332246575683e-05}\n",
      "#1 0.750000 (0.100778) with: {'var_smoothing': 5.3366992312063123e-05}\n",
      "#1 0.750000 (0.100778) with: {'var_smoothing': 4.328761281083062e-05}\n",
      "#1 0.750000 (0.100778) with: {'var_smoothing': 3.511191734215127e-05}\n",
      "#1 0.750000 (0.100778) with: {'var_smoothing': 2.848035868435799e-05}\n",
      "#1 0.750000 (0.100778) with: {'var_smoothing': 2.310129700083158e-05}\n",
      "#1 0.750000 (0.100778) with: {'var_smoothing': 1.873817422860383e-05}\n",
      "#1 0.750000 (0.100778) with: {'var_smoothing': 1.5199110829529332e-05}\n",
      "#1 0.750000 (0.100778) with: {'var_smoothing': 1.2328467394420658e-05}\n",
      "#1 0.750000 (0.100778) with: {'var_smoothing': 1e-05}\n",
      "#1 0.750000 (0.100778) with: {'var_smoothing': 8.111308307896873e-06}\n",
      "#1 0.750000 (0.100778) with: {'var_smoothing': 6.579332246575683e-06}\n",
      "#1 0.750000 (0.100778) with: {'var_smoothing': 5.336699231206313e-06}\n",
      "#1 0.750000 (0.100778) with: {'var_smoothing': 4.328761281083053e-06}\n",
      "#1 0.750000 (0.100778) with: {'var_smoothing': 3.5111917342151275e-06}\n",
      "#1 0.750000 (0.100778) with: {'var_smoothing': 2.848035868435799e-06}\n",
      "#1 0.750000 (0.100778) with: {'var_smoothing': 2.310129700083158e-06}\n",
      "#1 0.750000 (0.100778) with: {'var_smoothing': 1.873817422860383e-06}\n",
      "#1 0.750000 (0.100778) with: {'var_smoothing': 1.519911082952933e-06}\n",
      "#1 0.750000 (0.100778) with: {'var_smoothing': 1.232846739442066e-06}\n",
      "#1 0.750000 (0.100778) with: {'var_smoothing': 1e-06}\n",
      "#1 0.750000 (0.100778) with: {'var_smoothing': 8.111308307896872e-07}\n",
      "#1 0.750000 (0.100778) with: {'var_smoothing': 6.579332246575682e-07}\n",
      "#1 0.750000 (0.100778) with: {'var_smoothing': 5.336699231206313e-07}\n",
      "#1 0.750000 (0.100778) with: {'var_smoothing': 4.3287612810830526e-07}\n",
      "#1 0.750000 (0.100778) with: {'var_smoothing': 3.5111917342151277e-07}\n",
      "#1 0.750000 (0.100778) with: {'var_smoothing': 2.848035868435799e-07}\n",
      "#1 0.750000 (0.100778) with: {'var_smoothing': 2.310129700083158e-07}\n",
      "#1 0.750000 (0.100778) with: {'var_smoothing': 1.873817422860383e-07}\n",
      "#1 0.750000 (0.100778) with: {'var_smoothing': 1.519911082952933e-07}\n",
      "#1 0.750000 (0.100778) with: {'var_smoothing': 1.232846739442066e-07}\n",
      "#1 0.750000 (0.100778) with: {'var_smoothing': 1e-07}\n",
      "#1 0.750000 (0.100778) with: {'var_smoothing': 8.111308307896873e-08}\n",
      "#1 0.750000 (0.100778) with: {'var_smoothing': 6.579332246575682e-08}\n",
      "#1 0.750000 (0.100778) with: {'var_smoothing': 5.336699231206302e-08}\n",
      "#1 0.750000 (0.100778) with: {'var_smoothing': 4.3287612810830526e-08}\n",
      "#1 0.750000 (0.100778) with: {'var_smoothing': 3.5111917342151277e-08}\n",
      "#1 0.750000 (0.100778) with: {'var_smoothing': 2.848035868435799e-08}\n",
      "#1 0.750000 (0.100778) with: {'var_smoothing': 2.310129700083158e-08}\n",
      "#1 0.750000 (0.100778) with: {'var_smoothing': 1.873817422860383e-08}\n",
      "#1 0.750000 (0.100778) with: {'var_smoothing': 1.519911082952933e-08}\n",
      "#1 0.750000 (0.100778) with: {'var_smoothing': 1.232846739442066e-08}\n",
      "#1 0.750000 (0.100778) with: {'var_smoothing': 1e-08}\n",
      "#1 0.750000 (0.100778) with: {'var_smoothing': 8.111308307896856e-09}\n",
      "#1 0.750000 (0.100778) with: {'var_smoothing': 6.579332246575682e-09}\n",
      "#1 0.750000 (0.100778) with: {'var_smoothing': 5.336699231206302e-09}\n",
      "#1 0.750000 (0.100778) with: {'var_smoothing': 4.328761281083061e-09}\n",
      "#1 0.750000 (0.100778) with: {'var_smoothing': 3.5111917342151273e-09}\n",
      "#1 0.750000 (0.100778) with: {'var_smoothing': 2.848035868435805e-09}\n",
      "#1 0.750000 (0.100778) with: {'var_smoothing': 2.310129700083158e-09}\n",
      "#1 0.750000 (0.100778) with: {'var_smoothing': 1.873817422860387e-09}\n",
      "#1 0.750000 (0.100778) with: {'var_smoothing': 1.519911082952933e-09}\n",
      "#1 0.750000 (0.100778) with: {'var_smoothing': 1.2328467394420635e-09}\n",
      "#1 0.750000 (0.100778) with: {'var_smoothing': 1e-09}\n"
     ]
    }
   ],
   "source": [
    "#Parameter scaling GaussianNB\n",
    "\n",
    "param_grid = {'var_smoothing': np.logspace(0,-9, num=100)}\n",
    "model = GaussianNB()\n",
    "kfold = KFold(n_splits=num_folds, random_state=seed)\n",
    "grid = GridSearchCV(estimator=model, param_grid=param_grid, scoring=scoring, cv=kfold)\n",
    "grid_result = grid.fit(x_train, y_train)\n",
    "print(\"Best: %f using %s\" % (grid_result.best_score_, grid_result.best_params_))\n",
    "means = grid_result.cv_results_['mean_test_score']\n",
    "stds = grid_result.cv_results_['std_test_score']\n",
    "params = grid_result.cv_results_['params']\n",
    "ranks = grid_result.cv_results_['rank_test_score']\n",
    "for mean, stdev, param, rank in zip(means, stds, params, ranks):\n",
    "    print(\"#%d %f (%f) with: %r\" % (rank, mean, stdev, param))"
   ]
  },
  {
   "cell_type": "code",
   "execution_count": 77,
   "metadata": {},
   "outputs": [],
   "source": [
    "# we where not able to imporve the score by parameter tuning \n",
    "#Lets try boosing techniques"
   ]
  },
  {
   "cell_type": "code",
   "execution_count": 85,
   "metadata": {},
   "outputs": [
    {
     "data": {
      "text/plain": [
       "RandomForestClassifier(max_features='sqrt')"
      ]
     },
     "execution_count": 85,
     "metadata": {},
     "output_type": "execute_result"
    }
   ],
   "source": [
    "GNB= GaussianNB(var_smoothing= 0.01)\n",
    "model= RandomForestClassifier(n_estimators=100,max_features= 'sqrt')\n",
    "model.fit(x_train, y_train)\n"
   ]
  },
  {
   "cell_type": "code",
   "execution_count": 86,
   "metadata": {},
   "outputs": [
    {
     "name": "stdout",
     "output_type": "stream",
     "text": [
      "0.675\n",
      "[[ 3  5]\n",
      " [ 8 24]]\n",
      "              precision    recall  f1-score   support\n",
      "\n",
      "           0       0.27      0.38      0.32         8\n",
      "           1       0.83      0.75      0.79        32\n",
      "\n",
      "    accuracy                           0.68        40\n",
      "   macro avg       0.55      0.56      0.55        40\n",
      "weighted avg       0.72      0.68      0.69        40\n",
      "\n"
     ]
    }
   ],
   "source": [
    "model.fit(x_train, y_train)\n",
    "predictions = model.predict(x_test)\n",
    "print(accuracy_score(y_test, predictions)) \n",
    "print(confusion_matrix(y_test, predictions))\n",
    "print(classification_report(y_test, predictions))"
   ]
  },
  {
   "cell_type": "code",
   "execution_count": 77,
   "metadata": {},
   "outputs": [
    {
     "name": "stdout",
     "output_type": "stream",
     "text": [
      "[AdaBoostClassifier()]:\n",
      "0.625\n",
      "[[ 1  7]\n",
      " [ 8 24]]\n",
      "              precision    recall  f1-score   support\n",
      "\n",
      "           0       0.11      0.12      0.12         8\n",
      "           1       0.77      0.75      0.76        32\n",
      "\n",
      "    accuracy                           0.62        40\n",
      "   macro avg       0.44      0.44      0.44        40\n",
      "weighted avg       0.64      0.62      0.63        40\n",
      "\n",
      "****************************************************************\n",
      "\n",
      "\n",
      "[AdaBoostClassifier(), GradientBoostingClassifier()]:\n",
      "0.575\n",
      "[[ 2  6]\n",
      " [11 21]]\n",
      "              precision    recall  f1-score   support\n",
      "\n",
      "           0       0.15      0.25      0.19         8\n",
      "           1       0.78      0.66      0.71        32\n",
      "\n",
      "    accuracy                           0.57        40\n",
      "   macro avg       0.47      0.45      0.45        40\n",
      "weighted avg       0.65      0.57      0.61        40\n",
      "\n",
      "****************************************************************\n",
      "\n",
      "\n",
      "[AdaBoostClassifier(), GradientBoostingClassifier(), BaggingClassifier()]:\n",
      "0.65\n",
      "[[ 4  4]\n",
      " [10 22]]\n",
      "              precision    recall  f1-score   support\n",
      "\n",
      "           0       0.29      0.50      0.36         8\n",
      "           1       0.85      0.69      0.76        32\n",
      "\n",
      "    accuracy                           0.65        40\n",
      "   macro avg       0.57      0.59      0.56        40\n",
      "weighted avg       0.73      0.65      0.68        40\n",
      "\n",
      "****************************************************************\n",
      "\n",
      "\n",
      "[AdaBoostClassifier(), GradientBoostingClassifier(), BaggingClassifier(), ExtraTreesClassifier()]:\n",
      "0.8\n",
      "[[ 5  3]\n",
      " [ 5 27]]\n",
      "              precision    recall  f1-score   support\n",
      "\n",
      "           0       0.50      0.62      0.56         8\n",
      "           1       0.90      0.84      0.87        32\n",
      "\n",
      "    accuracy                           0.80        40\n",
      "   macro avg       0.70      0.73      0.71        40\n",
      "weighted avg       0.82      0.80      0.81        40\n",
      "\n",
      "****************************************************************\n",
      "\n",
      "\n"
     ]
    }
   ],
   "source": [
    "models= [AdaBoostClassifier(),GradientBoostingClassifier(),BaggingClassifier(),ExtraTreesClassifier()]\n",
    "names = []\n",
    "\n",
    "for m in models:\n",
    "    m.fit(x_train, y_train)\n",
    "    m.score(x_train, y_train)\n",
    "    predm = m.predict(x_test)\n",
    "    names.append(m)\n",
    "    msg = \"%s:\" % (names)\n",
    "    print(msg)\n",
    "    print(accuracy_score(y_test, predm)) \n",
    "    print(confusion_matrix(y_test, predm))\n",
    "    print(classification_report(y_test, predm))\n",
    "    print(\"****************************************************************\")\n",
    "    print(\"\\n\")"
   ]
  },
  {
   "cell_type": "code",
   "execution_count": 92,
   "metadata": {},
   "outputs": [
    {
     "name": "stdout",
     "output_type": "stream",
     "text": [
      "0.825\n",
      "[[ 5  3]\n",
      " [ 4 28]]\n",
      "              precision    recall  f1-score   support\n",
      "\n",
      "           0       0.56      0.62      0.59         8\n",
      "           1       0.90      0.88      0.89        32\n",
      "\n",
      "    accuracy                           0.82        40\n",
      "   macro avg       0.73      0.75      0.74        40\n",
      "weighted avg       0.83      0.82      0.83        40\n",
      "\n"
     ]
    },
    {
     "data": {
      "text/plain": [
       "0.75"
      ]
     },
     "execution_count": 92,
     "metadata": {},
     "output_type": "execute_result"
    },
    {
     "data": {
      "image/png": "[encoded data removed]",
      "text/plain": [
       "<Figure size 432x288 with 1 Axes>"
      ]
     },
     "metadata": {
      "needs_background": "light"
     },
     "output_type": "display_data"
    }
   ],
   "source": [
    "ET= ExtraTreesClassifier(n_estimators=100)\n",
    "ET.fit(x_train, y_train)\n",
    "\n",
    "predictions = ET.predict(x_test)\n",
    "print(accuracy_score(y_test, predictions)) \n",
    "print(confusion_matrix(y_test, predictions))\n",
    "print(classification_report(y_test, predictions))\n",
    "\n",
    "y_pred_rc=ET.predict_proba(x_test)[:,1]\n",
    "tpr,fpr,thresholds=roc_curve(y_test,y_pred_rc)\n",
    "plt.plot([0,1],[1,0],\"k--\")\n",
    "plt.plot(tpr,fpr,label=\"ExtraTree Classifier\")\n",
    "auc_score = roc_auc_score(y_test,ET.predict(x_test))\n",
    "auc_score"
   ]
  },
  {
   "cell_type": "code",
   "execution_count": 91,
   "metadata": {},
   "outputs": [
    {
     "name": "stdout",
     "output_type": "stream",
     "text": [
      "0.725\n",
      "[[ 3  5]\n",
      " [ 6 26]]\n",
      "              precision    recall  f1-score   support\n",
      "\n",
      "           0       0.33      0.38      0.35         8\n",
      "           1       0.84      0.81      0.83        32\n",
      "\n",
      "    accuracy                           0.73        40\n",
      "   macro avg       0.59      0.59      0.59        40\n",
      "weighted avg       0.74      0.72      0.73        40\n",
      "\n"
     ]
    },
    {
     "data": {
      "text/plain": [
       "0.59375"
      ]
     },
     "execution_count": 91,
     "metadata": {},
     "output_type": "execute_result"
    },
    {
     "data": {
      "image/png": "[encoded data removed]",
      "text/plain": [
       "<Figure size 432x288 with 1 Axes>"
      ]
     },
     "metadata": {
      "needs_background": "light"
     },
     "output_type": "display_data"
    }
   ],
   "source": [
    "from sklearn.metrics import roc_curve\n",
    "from sklearn.metrics import roc_auc_score\n",
    "\n",
    "GNB.fit(x_train, y_train)\n",
    "GNB.score(x_train, y_train)\n",
    "predm = GNB.predict(x_test)\n",
    "print(accuracy_score(y_test, predm)) \n",
    "print(confusion_matrix(y_test, predm))\n",
    "print(classification_report(y_test, predm))\n",
    "#AucRoc\n",
    "y_pred_rc=GNB.predict_proba(x_test)[:,1]\n",
    "tpr,fpr,thresholds=roc_curve(y_test,y_pred_rc)\n",
    "plt.plot([0,1],[1,0],\"k--\")\n",
    "plt.plot(tpr,fpr,label=\"LogisticRegressor\")\n",
    "auc_score = roc_auc_score(y_test,GNB.predict(x_test))\n",
    "auc_score"
   ]
  },
  {
   "cell_type": "code",
   "execution_count": null,
   "metadata": {},
   "outputs": [],
   "source": [
    "Model Has Perfomed well with Extra Tree Classsifier "
   ]
  },
  {
   "cell_type": "code",
   "execution_count": 93,
   "metadata": {},
   "outputs": [
    {
     "data": {
      "text/plain": [
       "['Attrition.pkl']"
      ]
     },
     "execution_count": 93,
     "metadata": {},
     "output_type": "execute_result"
    }
   ],
   "source": [
    "import joblib\n",
    "joblib.dump(ET,\"Attrition.pkl\")"
   ]
  },
  {
   "cell_type": "code",
   "execution_count": null,
   "metadata": {},
   "outputs": [],
   "source": []
  }
 ],
 "metadata": {
  "kernelspec": {
   "display_name": "Python 3",
   "language": "python",
   "name": "python3"
  },
  "language_info": {
   "codemirror_mode": {
    "name": "ipython",
    "version": 3
   },
   "file_extension": ".py",
   "mimetype": "text/x-python",
   "name": "python",
   "nbconvert_exporter": "python",
   "pygments_lexer": "ipython3",
   "version": "3.8.3"
  }
 },
 "nbformat": 4,
 "nbformat_minor": 4
}
