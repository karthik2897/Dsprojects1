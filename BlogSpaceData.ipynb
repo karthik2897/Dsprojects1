{
 "cells": [
  {
   "cell_type": "code",
   "execution_count": 1,
   "metadata": {},
   "outputs": [],
   "source": [
    "import numpy as np \n",
    "import pandas as pd\n",
    "import seaborn as sns\n",
    "from pandas_profiling import ProfileReport\n",
    "\n",
    "import matplotlib \n",
    "from matplotlib import pyplot as plt\n",
    "from matplotlib import style\n",
    "\n",
    "# Algorithms\n",
    "from sklearn import linear_model\n",
    "from sklearn.linear_model import LogisticRegression\n",
    "from sklearn.linear_model import Perceptron\n",
    "from sklearn.linear_model import SGDClassifier\n",
    "from sklearn.tree import DecisionTreeClassifier\n",
    "from sklearn.neighbors import KNeighborsClassifier\n",
    "from sklearn.svm import SVC, LinearSVC\n",
    "from sklearn.naive_bayes import GaussianNB\n",
    "\n",
    "# Ensembling Techniques\n",
    "from sklearn.ensemble import AdaBoostClassifier,GradientBoostingClassifier,BaggingClassifier,ExtraTreesClassifier,RandomForestClassifier"
   ]
  },
  {
   "cell_type": "markdown",
   "metadata": {},
   "source": [
    "# Probelm Definition \n",
    "Following Data Set contains the Skyserver Recoded Data for Class -  STAR's, GALAXY's & QSO's(Quasar). \n",
    "\n",
    "#1.We are going to find out the type of class using the rest of the attributes which are available.\n",
    "#2.This would let us determine the effect of each attribute on the class of the target variable.\n",
    "#3.we are going to determine the effect of Thuan-Gunn astronomic magnitude system. u, g, r, i, z on the target variable. "
   ]
  },
  {
   "cell_type": "code",
   "execution_count": 2,
   "metadata": {},
   "outputs": [
    {
     "data": {
      "text/html": [
       "<div>\n",
       "<style scoped>\n",
       "    .dataframe tbody tr th:only-of-type {\n",
       "        vertical-align: middle;\n",
       "    }\n",
       "\n",
       "    .dataframe tbody tr th {\n",
       "        vertical-align: top;\n",
       "    }\n",
       "\n",
       "    .dataframe thead th {\n",
       "        text-align: right;\n",
       "    }\n",
       "</style>\n",
       "<table border=\"1\" class=\"dataframe\">\n",
       "  <thead>\n",
       "    <tr style=\"text-align: right;\">\n",
       "      <th></th>\n",
       "      <th>objid</th>\n",
       "      <th>ra</th>\n",
       "      <th>dec</th>\n",
       "      <th>u</th>\n",
       "      <th>g</th>\n",
       "      <th>r</th>\n",
       "      <th>i</th>\n",
       "      <th>z</th>\n",
       "      <th>run</th>\n",
       "      <th>rerun</th>\n",
       "      <th>camcol</th>\n",
       "      <th>field</th>\n",
       "      <th>specobjid</th>\n",
       "      <th>class</th>\n",
       "      <th>redshift</th>\n",
       "      <th>plate</th>\n",
       "      <th>mjd</th>\n",
       "      <th>fiberid</th>\n",
       "    </tr>\n",
       "  </thead>\n",
       "  <tbody>\n",
       "    <tr>\n",
       "      <th>0</th>\n",
       "      <td>1.237650e+18</td>\n",
       "      <td>183.531326</td>\n",
       "      <td>0.089693</td>\n",
       "      <td>19.47406</td>\n",
       "      <td>17.04240</td>\n",
       "      <td>15.94699</td>\n",
       "      <td>15.50342</td>\n",
       "      <td>15.22531</td>\n",
       "      <td>752</td>\n",
       "      <td>301</td>\n",
       "      <td>4</td>\n",
       "      <td>267</td>\n",
       "      <td>3.722360e+18</td>\n",
       "      <td>STAR</td>\n",
       "      <td>-0.000009</td>\n",
       "      <td>3306</td>\n",
       "      <td>54922</td>\n",
       "      <td>491</td>\n",
       "    </tr>\n",
       "    <tr>\n",
       "      <th>1</th>\n",
       "      <td>1.237650e+18</td>\n",
       "      <td>183.598371</td>\n",
       "      <td>0.135285</td>\n",
       "      <td>18.66280</td>\n",
       "      <td>17.21449</td>\n",
       "      <td>16.67637</td>\n",
       "      <td>16.48922</td>\n",
       "      <td>16.39150</td>\n",
       "      <td>752</td>\n",
       "      <td>301</td>\n",
       "      <td>4</td>\n",
       "      <td>267</td>\n",
       "      <td>3.638140e+17</td>\n",
       "      <td>STAR</td>\n",
       "      <td>-0.000055</td>\n",
       "      <td>323</td>\n",
       "      <td>51615</td>\n",
       "      <td>541</td>\n",
       "    </tr>\n",
       "    <tr>\n",
       "      <th>2</th>\n",
       "      <td>1.237650e+18</td>\n",
       "      <td>183.680207</td>\n",
       "      <td>0.126185</td>\n",
       "      <td>19.38298</td>\n",
       "      <td>18.19169</td>\n",
       "      <td>17.47428</td>\n",
       "      <td>17.08732</td>\n",
       "      <td>16.80125</td>\n",
       "      <td>752</td>\n",
       "      <td>301</td>\n",
       "      <td>4</td>\n",
       "      <td>268</td>\n",
       "      <td>3.232740e+17</td>\n",
       "      <td>GALAXY</td>\n",
       "      <td>0.123111</td>\n",
       "      <td>287</td>\n",
       "      <td>52023</td>\n",
       "      <td>513</td>\n",
       "    </tr>\n",
       "    <tr>\n",
       "      <th>3</th>\n",
       "      <td>1.237650e+18</td>\n",
       "      <td>183.870529</td>\n",
       "      <td>0.049911</td>\n",
       "      <td>17.76536</td>\n",
       "      <td>16.60272</td>\n",
       "      <td>16.16116</td>\n",
       "      <td>15.98233</td>\n",
       "      <td>15.90438</td>\n",
       "      <td>752</td>\n",
       "      <td>301</td>\n",
       "      <td>4</td>\n",
       "      <td>269</td>\n",
       "      <td>3.722370e+18</td>\n",
       "      <td>STAR</td>\n",
       "      <td>-0.000111</td>\n",
       "      <td>3306</td>\n",
       "      <td>54922</td>\n",
       "      <td>510</td>\n",
       "    </tr>\n",
       "    <tr>\n",
       "      <th>4</th>\n",
       "      <td>1.237650e+18</td>\n",
       "      <td>183.883288</td>\n",
       "      <td>0.102557</td>\n",
       "      <td>17.55025</td>\n",
       "      <td>16.26342</td>\n",
       "      <td>16.43869</td>\n",
       "      <td>16.55492</td>\n",
       "      <td>16.61326</td>\n",
       "      <td>752</td>\n",
       "      <td>301</td>\n",
       "      <td>4</td>\n",
       "      <td>269</td>\n",
       "      <td>3.722370e+18</td>\n",
       "      <td>STAR</td>\n",
       "      <td>0.000590</td>\n",
       "      <td>3306</td>\n",
       "      <td>54922</td>\n",
       "      <td>512</td>\n",
       "    </tr>\n",
       "  </tbody>\n",
       "</table>\n",
       "</div>"
      ],
      "text/plain": [
       "          objid          ra       dec         u         g         r         i  \\\n",
       "0  1.237650e+18  183.531326  0.089693  19.47406  17.04240  15.94699  15.50342   \n",
       "1  1.237650e+18  183.598371  0.135285  18.66280  17.21449  16.67637  16.48922   \n",
       "2  1.237650e+18  183.680207  0.126185  19.38298  18.19169  17.47428  17.08732   \n",
       "3  1.237650e+18  183.870529  0.049911  17.76536  16.60272  16.16116  15.98233   \n",
       "4  1.237650e+18  183.883288  0.102557  17.55025  16.26342  16.43869  16.55492   \n",
       "\n",
       "          z  run  rerun  camcol  field     specobjid   class  redshift  plate  \\\n",
       "0  15.22531  752    301       4    267  3.722360e+18    STAR -0.000009   3306   \n",
       "1  16.39150  752    301       4    267  3.638140e+17    STAR -0.000055    323   \n",
       "2  16.80125  752    301       4    268  3.232740e+17  GALAXY  0.123111    287   \n",
       "3  15.90438  752    301       4    269  3.722370e+18    STAR -0.000111   3306   \n",
       "4  16.61326  752    301       4    269  3.722370e+18    STAR  0.000590   3306   \n",
       "\n",
       "     mjd  fiberid  \n",
       "0  54922      491  \n",
       "1  51615      541  \n",
       "2  52023      513  \n",
       "3  54922      510  \n",
       "4  54922      512  "
      ]
     },
     "execution_count": 2,
     "metadata": {},
     "output_type": "execute_result"
    }
   ],
   "source": [
    "url=\"https://raw.githubusercontent.com/dsrscientist/dataset1/master/Skyserver.csv\"\n",
    "df=pd.read_csv(url,sep=\",\")\n",
    "df.head()"
   ]
  },
  {
   "cell_type": "raw",
   "metadata": {},
   "source": [
    "## Attributes and their Meaning \n",
    "\n",
    "objid = Object Identifier\n",
    "ra = J2000 Right Ascension (r-band)\n",
    "dec = J2000 Declination (r-band)\n",
    "\n",
    "u = better of DeV/Exp magnitude fit\n",
    "g = better of DeV/Exp magnitude fit\n",
    "r = better of DeV/Exp magnitude fit\n",
    "i = better of DeV/Exp magnitude fit\n",
    "z = better of DeV/Exp magnitude fit\n",
    "\n",
    "#The Thuan-Gunn astronomic magnitude system. u, g, r, i, z represent the response of the 5 bands of the telescope\n",
    "\n",
    "run = Run Number\n",
    "rereun = Rerun Number\n",
    "camcol = Camera column\n",
    "field = Field number\n",
    "\n",
    "redshift = Final Redshift\n",
    "plate = plate number\n",
    "mjd = MJD of observation\n",
    "fiberid = fiber ID"
   ]
  },
  {
   "cell_type": "code",
   "execution_count": 3,
   "metadata": {},
   "outputs": [
    {
     "name": "stdout",
     "output_type": "stream",
     "text": [
      "Coulmun Name objid [1.23765e+18]\n",
      "Coulmun Name run [ 752  756  308  727  745 1035 1045 1140 1231 1332 1334 1302 1239 1119\n",
      " 1331 1345 1350 1404 1412 1336 1402 1411 1356]\n",
      "Coulmun Name rerun [301]\n",
      "Coulmun Name camcol [4 2 1 5 6 3]\n",
      "Coulmun Name class ['STAR' 'GALAXY' 'QSO']\n"
     ]
    }
   ],
   "source": [
    "for col in [\"objid\",\"run\",\"rerun\",\"camcol\",\"class\"]:\n",
    "    print(\"Coulmun Name \"+col,df[col].unique())"
   ]
  },
  {
   "cell_type": "code",
   "execution_count": 4,
   "metadata": {},
   "outputs": [],
   "source": [
    "#Columns \"objid\" and \"rerun\" have got no unique values so they can be dropped. \n",
    "#Column \"class\" has three catagorical values which needs to be Encoded. "
   ]
  },
  {
   "cell_type": "code",
   "execution_count": 5,
   "metadata": {},
   "outputs": [],
   "source": [
    "df.drop([\"objid\",\"rerun\"],axis=1,inplace=True)"
   ]
  },
  {
   "cell_type": "code",
   "execution_count": 6,
   "metadata": {},
   "outputs": [
    {
     "name": "stdout",
     "output_type": "stream",
     "text": [
      "<class 'pandas.core.frame.DataFrame'>\n",
      "RangeIndex: 10000 entries, 0 to 9999\n",
      "Data columns (total 16 columns):\n",
      " #   Column     Non-Null Count  Dtype  \n",
      "---  ------     --------------  -----  \n",
      " 0   ra         10000 non-null  float64\n",
      " 1   dec        10000 non-null  float64\n",
      " 2   u          10000 non-null  float64\n",
      " 3   g          10000 non-null  float64\n",
      " 4   r          10000 non-null  float64\n",
      " 5   i          10000 non-null  float64\n",
      " 6   z          10000 non-null  float64\n",
      " 7   run        10000 non-null  int64  \n",
      " 8   camcol     10000 non-null  int64  \n",
      " 9   field      10000 non-null  int64  \n",
      " 10  specobjid  10000 non-null  float64\n",
      " 11  class      10000 non-null  object \n",
      " 12  redshift   10000 non-null  float64\n",
      " 13  plate      10000 non-null  int64  \n",
      " 14  mjd        10000 non-null  int64  \n",
      " 15  fiberid    10000 non-null  int64  \n",
      "dtypes: float64(9), int64(6), object(1)\n",
      "memory usage: 1.2+ MB\n"
     ]
    }
   ],
   "source": [
    "df.info()"
   ]
  },
  {
   "cell_type": "code",
   "execution_count": 14,
   "metadata": {},
   "outputs": [],
   "source": [
    "#There are no null Values and no Object Columns we can go ahead with EDA"
   ]
  },
  {
   "cell_type": "markdown",
   "metadata": {},
   "source": [
    "# Data Analysis"
   ]
  },
  {
   "cell_type": "code",
   "execution_count": 7,
   "metadata": {},
   "outputs": [
    {
     "data": {
      "text/html": [
       "<div>\n",
       "<style scoped>\n",
       "    .dataframe tbody tr th:only-of-type {\n",
       "        vertical-align: middle;\n",
       "    }\n",
       "\n",
       "    .dataframe tbody tr th {\n",
       "        vertical-align: top;\n",
       "    }\n",
       "\n",
       "    .dataframe thead th {\n",
       "        text-align: right;\n",
       "    }\n",
       "</style>\n",
       "<table border=\"1\" class=\"dataframe\">\n",
       "  <thead>\n",
       "    <tr style=\"text-align: right;\">\n",
       "      <th></th>\n",
       "      <th>ra</th>\n",
       "      <th>dec</th>\n",
       "      <th>u</th>\n",
       "      <th>g</th>\n",
       "      <th>r</th>\n",
       "      <th>i</th>\n",
       "      <th>z</th>\n",
       "      <th>run</th>\n",
       "      <th>camcol</th>\n",
       "      <th>field</th>\n",
       "      <th>specobjid</th>\n",
       "      <th>redshift</th>\n",
       "      <th>plate</th>\n",
       "      <th>mjd</th>\n",
       "      <th>fiberid</th>\n",
       "    </tr>\n",
       "  </thead>\n",
       "  <tbody>\n",
       "    <tr>\n",
       "      <th>count</th>\n",
       "      <td>10000.000000</td>\n",
       "      <td>10000.000000</td>\n",
       "      <td>10000.000000</td>\n",
       "      <td>10000.000000</td>\n",
       "      <td>10000.000000</td>\n",
       "      <td>10000.000000</td>\n",
       "      <td>10000.000000</td>\n",
       "      <td>10000.000000</td>\n",
       "      <td>10000.000000</td>\n",
       "      <td>10000.000000</td>\n",
       "      <td>1.000000e+04</td>\n",
       "      <td>10000.000000</td>\n",
       "      <td>10000.000000</td>\n",
       "      <td>10000.000000</td>\n",
       "      <td>10000.000000</td>\n",
       "    </tr>\n",
       "    <tr>\n",
       "      <th>mean</th>\n",
       "      <td>175.529987</td>\n",
       "      <td>14.836148</td>\n",
       "      <td>18.619355</td>\n",
       "      <td>17.371931</td>\n",
       "      <td>16.840963</td>\n",
       "      <td>16.583579</td>\n",
       "      <td>16.422833</td>\n",
       "      <td>981.034800</td>\n",
       "      <td>3.648700</td>\n",
       "      <td>302.380100</td>\n",
       "      <td>1.645022e+18</td>\n",
       "      <td>0.143726</td>\n",
       "      <td>1460.986400</td>\n",
       "      <td>52943.533300</td>\n",
       "      <td>353.069400</td>\n",
       "    </tr>\n",
       "    <tr>\n",
       "      <th>std</th>\n",
       "      <td>47.783439</td>\n",
       "      <td>25.212207</td>\n",
       "      <td>0.828656</td>\n",
       "      <td>0.945457</td>\n",
       "      <td>1.067764</td>\n",
       "      <td>1.141805</td>\n",
       "      <td>1.203188</td>\n",
       "      <td>273.305024</td>\n",
       "      <td>1.666183</td>\n",
       "      <td>162.577763</td>\n",
       "      <td>2.013998e+18</td>\n",
       "      <td>0.388774</td>\n",
       "      <td>1788.778371</td>\n",
       "      <td>1511.150651</td>\n",
       "      <td>206.298149</td>\n",
       "    </tr>\n",
       "    <tr>\n",
       "      <th>min</th>\n",
       "      <td>8.235100</td>\n",
       "      <td>-5.382632</td>\n",
       "      <td>12.988970</td>\n",
       "      <td>12.799550</td>\n",
       "      <td>12.431600</td>\n",
       "      <td>11.947210</td>\n",
       "      <td>11.610410</td>\n",
       "      <td>308.000000</td>\n",
       "      <td>1.000000</td>\n",
       "      <td>11.000000</td>\n",
       "      <td>2.995780e+17</td>\n",
       "      <td>-0.004136</td>\n",
       "      <td>266.000000</td>\n",
       "      <td>51578.000000</td>\n",
       "      <td>1.000000</td>\n",
       "    </tr>\n",
       "    <tr>\n",
       "      <th>25%</th>\n",
       "      <td>157.370946</td>\n",
       "      <td>-0.539035</td>\n",
       "      <td>18.178035</td>\n",
       "      <td>16.815100</td>\n",
       "      <td>16.173333</td>\n",
       "      <td>15.853705</td>\n",
       "      <td>15.618285</td>\n",
       "      <td>752.000000</td>\n",
       "      <td>2.000000</td>\n",
       "      <td>184.000000</td>\n",
       "      <td>3.389248e+17</td>\n",
       "      <td>0.000081</td>\n",
       "      <td>301.000000</td>\n",
       "      <td>51900.000000</td>\n",
       "      <td>186.750000</td>\n",
       "    </tr>\n",
       "    <tr>\n",
       "      <th>50%</th>\n",
       "      <td>180.394514</td>\n",
       "      <td>0.404166</td>\n",
       "      <td>18.853095</td>\n",
       "      <td>17.495135</td>\n",
       "      <td>16.858770</td>\n",
       "      <td>16.554985</td>\n",
       "      <td>16.389945</td>\n",
       "      <td>756.000000</td>\n",
       "      <td>4.000000</td>\n",
       "      <td>299.000000</td>\n",
       "      <td>4.966580e+17</td>\n",
       "      <td>0.042591</td>\n",
       "      <td>441.000000</td>\n",
       "      <td>51997.000000</td>\n",
       "      <td>351.000000</td>\n",
       "    </tr>\n",
       "    <tr>\n",
       "      <th>75%</th>\n",
       "      <td>201.547279</td>\n",
       "      <td>35.649397</td>\n",
       "      <td>19.259232</td>\n",
       "      <td>18.010145</td>\n",
       "      <td>17.512675</td>\n",
       "      <td>17.258550</td>\n",
       "      <td>17.141447</td>\n",
       "      <td>1331.000000</td>\n",
       "      <td>5.000000</td>\n",
       "      <td>414.000000</td>\n",
       "      <td>2.881300e+18</td>\n",
       "      <td>0.092579</td>\n",
       "      <td>2559.000000</td>\n",
       "      <td>54468.000000</td>\n",
       "      <td>510.000000</td>\n",
       "    </tr>\n",
       "    <tr>\n",
       "      <th>max</th>\n",
       "      <td>260.884382</td>\n",
       "      <td>68.542265</td>\n",
       "      <td>19.599900</td>\n",
       "      <td>19.918970</td>\n",
       "      <td>24.802040</td>\n",
       "      <td>28.179630</td>\n",
       "      <td>22.833060</td>\n",
       "      <td>1412.000000</td>\n",
       "      <td>6.000000</td>\n",
       "      <td>768.000000</td>\n",
       "      <td>9.468830e+18</td>\n",
       "      <td>5.353854</td>\n",
       "      <td>8410.000000</td>\n",
       "      <td>57481.000000</td>\n",
       "      <td>1000.000000</td>\n",
       "    </tr>\n",
       "  </tbody>\n",
       "</table>\n",
       "</div>"
      ],
      "text/plain": [
       "                 ra           dec             u             g             r  \\\n",
       "count  10000.000000  10000.000000  10000.000000  10000.000000  10000.000000   \n",
       "mean     175.529987     14.836148     18.619355     17.371931     16.840963   \n",
       "std       47.783439     25.212207      0.828656      0.945457      1.067764   \n",
       "min        8.235100     -5.382632     12.988970     12.799550     12.431600   \n",
       "25%      157.370946     -0.539035     18.178035     16.815100     16.173333   \n",
       "50%      180.394514      0.404166     18.853095     17.495135     16.858770   \n",
       "75%      201.547279     35.649397     19.259232     18.010145     17.512675   \n",
       "max      260.884382     68.542265     19.599900     19.918970     24.802040   \n",
       "\n",
       "                  i             z           run        camcol         field  \\\n",
       "count  10000.000000  10000.000000  10000.000000  10000.000000  10000.000000   \n",
       "mean      16.583579     16.422833    981.034800      3.648700    302.380100   \n",
       "std        1.141805      1.203188    273.305024      1.666183    162.577763   \n",
       "min       11.947210     11.610410    308.000000      1.000000     11.000000   \n",
       "25%       15.853705     15.618285    752.000000      2.000000    184.000000   \n",
       "50%       16.554985     16.389945    756.000000      4.000000    299.000000   \n",
       "75%       17.258550     17.141447   1331.000000      5.000000    414.000000   \n",
       "max       28.179630     22.833060   1412.000000      6.000000    768.000000   \n",
       "\n",
       "          specobjid      redshift         plate           mjd       fiberid  \n",
       "count  1.000000e+04  10000.000000  10000.000000  10000.000000  10000.000000  \n",
       "mean   1.645022e+18      0.143726   1460.986400  52943.533300    353.069400  \n",
       "std    2.013998e+18      0.388774   1788.778371   1511.150651    206.298149  \n",
       "min    2.995780e+17     -0.004136    266.000000  51578.000000      1.000000  \n",
       "25%    3.389248e+17      0.000081    301.000000  51900.000000    186.750000  \n",
       "50%    4.966580e+17      0.042591    441.000000  51997.000000    351.000000  \n",
       "75%    2.881300e+18      0.092579   2559.000000  54468.000000    510.000000  \n",
       "max    9.468830e+18      5.353854   8410.000000  57481.000000   1000.000000  "
      ]
     },
     "execution_count": 7,
     "metadata": {},
     "output_type": "execute_result"
    }
   ],
   "source": [
    "df.describe()"
   ]
  },
  {
   "cell_type": "raw",
   "metadata": {},
   "source": [
    "# Data Analysis\n",
    "\n",
    "The data contains 10,000 Rows of data which contains three classes of objects which are STAR's, GALAXY's & QSO's(Quasar)\n",
    "\n",
    "1.ra - J2000 Right Ascension\n",
    "\n",
    "Mean-175.529987\n",
    "Standers Deviation - 47.783439\n",
    "Min - 8.235100\n",
    "Max - 260.884382\n",
    "The data is not highly Deviated \n",
    "\n",
    "u, g, r, i, z -\n",
    "The Values lie Majorly Between \n",
    "Min- 0.828656\n",
    "Max - 28.179630\n",
    "non of wich are highly Deviated \n",
    "\n",
    "The Columns \n",
    "run = Run Number\n",
    "Standers Deviation -273.305024\n",
    "Min - 308.000000\n",
    "Max - 1412.000000\n",
    "\n",
    "plate = plate number\n",
    "Standers Deviation -1788.778371\n",
    "Min - 266.000000\n",
    "Max - 8410.000000 \n",
    "Are highly Deviated "
   ]
  },
  {
   "cell_type": "code",
   "execution_count": 8,
   "metadata": {},
   "outputs": [],
   "source": [
    "# We can observe that there are few out liers in the data "
   ]
  },
  {
   "cell_type": "markdown",
   "metadata": {},
   "source": [
    "# EDA "
   ]
  },
  {
   "cell_type": "code",
   "execution_count": 9,
   "metadata": {},
   "outputs": [
    {
     "data": {
      "text/plain": [
       "GALAXY    4998\n",
       "STAR      4152\n",
       "QSO        850\n",
       "Name: class, dtype: int64"
      ]
     },
     "execution_count": 9,
     "metadata": {},
     "output_type": "execute_result"
    },
    {
     "data": {
      "image/png": "[encoded data removed]",
      "text/plain": [
       "<Figure size 432x288 with 1 Axes>"
      ]
     },
     "metadata": {
      "needs_background": "light"
     },
     "output_type": "display_data"
    }
   ],
   "source": [
    "sns.countplot(x=\"class\",data=df)\n",
    "df[\"class\"].value_counts()"
   ]
  },
  {
   "cell_type": "markdown",
   "metadata": {},
   "source": [
    "The data has: \n",
    "#2(GALAXY) - 4998\n",
    "#1(STAR) - 4152\n",
    "#3(QSO) - 850"
   ]
  },
  {
   "cell_type": "code",
   "execution_count": 32,
   "metadata": {},
   "outputs": [
    {
     "data": {
      "image/png": "[encoded data removed]",
      "text/plain": [
       "<Figure size 1440x576 with 1 Axes>"
      ]
     },
     "metadata": {
      "needs_background": "light"
     },
     "output_type": "display_data"
    }
   ],
   "source": [
    "plt.subplots(figsize=(20,8))\n",
    "sns.distplot(df.redshift)\n",
    "plt.show()"
   ]
  },
  {
   "cell_type": "code",
   "execution_count": 20,
   "metadata": {},
   "outputs": [
    {
     "data": {
      "image/png": "[encoded data removed]",
      "text/plain": [
       "<Figure size 1080x432 with 1 Axes>"
      ]
     },
     "metadata": {
      "needs_background": "light"
     },
     "output_type": "display_data"
    }
   ],
   "source": [
    "plt.figure(figsize=(15,6))\n",
    "sns.barplot(x = 'class', y = 'redshift', data = df, palette = 'Spectral')\n",
    "plt.xticks(rotation = 90)\n",
    "plt.title('Relation of Redshift with Class', fontsize = 20)\n",
    "plt.show()"
   ]
  },
  {
   "cell_type": "code",
   "execution_count": 21,
   "metadata": {},
   "outputs": [],
   "source": [
    "#This implies that the Redshift values directly effects the class to be QSO "
   ]
  },
  {
   "cell_type": "code",
   "execution_count": 24,
   "metadata": {},
   "outputs": [
    {
     "data": {
      "image/png": "[encoded data removed]",
      "text/plain": [
       "<Figure size 1080x432 with 1 Axes>"
      ]
     },
     "metadata": {
      "needs_background": "light"
     },
     "output_type": "display_data"
    }
   ],
   "source": [
    "plt.figure(figsize=(15,6))\n",
    "sns.barplot(x = 'class', y = 'plate', data = df, palette = 'vlag')\n",
    "plt.xticks(rotation = 90)\n",
    "plt.title('Relation of Plate with Class', fontsize = 20)\n",
    "plt.show()"
   ]
  },
  {
   "cell_type": "code",
   "execution_count": 17,
   "metadata": {},
   "outputs": [
    {
     "data": {
      "text/plain": [
       "<Figure size 1440x432 with 0 Axes>"
      ]
     },
     "metadata": {},
     "output_type": "display_data"
    },
    {
     "data": {
      "image/png": "[encoded data removed]",
      "text/plain": [
       "<Figure size 648x216 with 3 Axes>"
      ]
     },
     "metadata": {
      "needs_background": "light"
     },
     "output_type": "display_data"
    }
   ],
   "source": [
    "plt.figure(figsize=(20,6))\n",
    "faset=sns.FacetGrid(df,col=\"class\")\n",
    "faset.map(sns.distplot,\"u\",color=\"r\")\n",
    "faset.map(sns.distplot,\"g\",color=\"b\")\n",
    "faset.map(sns.distplot,\"r\",color=\"g\")\n",
    "faset.map(sns.distplot,\"i\",color=\"c\")\n",
    "faset.map(sns.distplot,\"z\",color=\"y\")\n",
    "\n",
    "plt.show()"
   ]
  },
  {
   "cell_type": "code",
   "execution_count": 18,
   "metadata": {},
   "outputs": [],
   "source": [
    "# we can observe pattern going with \"g\",\"r\",\"u\",\"z\",\"i\""
   ]
  },
  {
   "cell_type": "code",
   "execution_count": 28,
   "metadata": {},
   "outputs": [
    {
     "data": {
      "text/plain": [
       "ra              AxesSubplot(0.125,0.536818;0.0824468x0.343182)\n",
       "dec          AxesSubplot(0.223936,0.536818;0.0824468x0.343182)\n",
       "u            AxesSubplot(0.322872,0.536818;0.0824468x0.343182)\n",
       "g            AxesSubplot(0.421809,0.536818;0.0824468x0.343182)\n",
       "r            AxesSubplot(0.520745,0.536818;0.0824468x0.343182)\n",
       "i            AxesSubplot(0.619681,0.536818;0.0824468x0.343182)\n",
       "z            AxesSubplot(0.718617,0.536818;0.0824468x0.343182)\n",
       "run          AxesSubplot(0.817553,0.536818;0.0824468x0.343182)\n",
       "camcol             AxesSubplot(0.125,0.125;0.0824468x0.343182)\n",
       "field           AxesSubplot(0.223936,0.125;0.0824468x0.343182)\n",
       "specobjid       AxesSubplot(0.322872,0.125;0.0824468x0.343182)\n",
       "redshift        AxesSubplot(0.421809,0.125;0.0824468x0.343182)\n",
       "plate           AxesSubplot(0.520745,0.125;0.0824468x0.343182)\n",
       "mjd             AxesSubplot(0.619681,0.125;0.0824468x0.343182)\n",
       "fiberid         AxesSubplot(0.718617,0.125;0.0824468x0.343182)\n",
       "dtype: object"
      ]
     },
     "execution_count": 28,
     "metadata": {},
     "output_type": "execute_result"
    },
    {
     "data": {
      "image/png": "[encoded data removed]",
      "text/plain": [
       "<Figure size 432x288 with 16 Axes>"
      ]
     },
     "metadata": {
      "needs_background": "light"
     },
     "output_type": "display_data"
    }
   ],
   "source": [
    "df.plot(kind=\"box\",subplots=True,layout=(2,8))"
   ]
  },
  {
   "cell_type": "code",
   "execution_count": 29,
   "metadata": {
    "scrolled": true
   },
   "outputs": [
    {
     "name": "stdout",
     "output_type": "stream",
     "text": [
      "Coulmun redshift  9637\n"
     ]
    },
    {
     "data": {
      "image/png": "[encoded data removed]",
      "text/plain": [
       "<Figure size 432x288 with 1 Axes>"
      ]
     },
     "metadata": {
      "needs_background": "light"
     },
     "output_type": "display_data"
    }
   ],
   "source": [
    "sns.boxplot(x=df.redshift)\n",
    "print(\"Coulmun redshift \", df[\"redshift\"].nunique())"
   ]
  },
  {
   "cell_type": "code",
   "execution_count": 30,
   "metadata": {},
   "outputs": [],
   "source": [
    "#There are outliers in few columns let's check if we can handle them "
   ]
  },
  {
   "cell_type": "code",
   "execution_count": 33,
   "metadata": {},
   "outputs": [],
   "source": [
    "df[\"class\"].replace({'STAR':1 ,'GALAXY':2 ,'QSO':3}, inplace=True)"
   ]
  },
  {
   "cell_type": "code",
   "execution_count": 40,
   "metadata": {},
   "outputs": [
    {
     "data": {
      "image/png": "[encoded data removed]",
      "text/plain": [
       "<Figure size 2160x1440 with 2 Axes>"
      ]
     },
     "metadata": {
      "needs_background": "light"
     },
     "output_type": "display_data"
    }
   ],
   "source": [
    "corr_hmap= df.corr()\n",
    "plt.figure(figsize=(30,20))\n",
    "sns.heatmap(corr_hmap,annot=True)\n",
    "plt.show()"
   ]
  },
  {
   "cell_type": "code",
   "execution_count": 42,
   "metadata": {
    "scrolled": true
   },
   "outputs": [
    {
     "data": {
      "image/png": "[encoded data removed]",
      "text/plain": [
       "<Figure size 576x432 with 1 Axes>"
      ]
     },
     "metadata": {
      "needs_background": "light"
     },
     "output_type": "display_data"
    }
   ],
   "source": [
    "plt.figure(figsize=(8,6))\n",
    "df.drop(\"class\",axis=1).corrwith(df[\"class\"]).plot(kind=\"bar\",grid=True)\n",
    "plt.xticks(rotation=30)\n",
    "plt.show()"
   ]
  },
  {
   "cell_type": "markdown",
   "metadata": {},
   "source": [
    "# EDA Concluding Remarks"
   ]
  },
  {
   "cell_type": "markdown",
   "metadata": {},
   "source": [
    "#Column \"redshift\" has 62% correaltion with class,\n",
    "#Columns \"u\"-28%,\"g\"-36%,\"r\"- 28% and \"i\"-21% Coorelation with Class and \n",
    "#Clounms \"specobjid\",\"plate\",\"mjd\" have Negative Coorelation with Class\n",
    "#This implies that the Redshift values directly effects the class to be QSO \n",
    "\n",
    "#Columns \"camcol\",\"field\" and \"fiberid\" have little to no relation with the Target variable "
   ]
  },
  {
   "cell_type": "markdown",
   "metadata": {},
   "source": [
    "# Pre-processing Pipeline"
   ]
  },
  {
   "cell_type": "code",
   "execution_count": 46,
   "metadata": {},
   "outputs": [
    {
     "name": "stdout",
     "output_type": "stream",
     "text": [
      "(array([  45,  109,  129, ..., 9994, 9997, 9997], dtype=int64), array([12, 12, 12, ..., 13, 10, 13], dtype=int64))\n",
      "\n",
      " Original Shape (10000, 16) New Shape (8698, 16)\n"
     ]
    }
   ],
   "source": [
    "from scipy.stats import zscore\n",
    "z=np.abs(zscore(df))\n",
    "z\n",
    "threshold=3\n",
    "print(np.where(z>3))\n",
    "df_new=df[(z<3).all(axis=1)]\n",
    "print(\"\\n Original Shape\", df.shape, \"New Shape\",df_new.shape)"
   ]
  },
  {
   "cell_type": "code",
   "execution_count": 47,
   "metadata": {},
   "outputs": [
    {
     "name": "stdout",
     "output_type": "stream",
     "text": [
      "\n",
      "Percentage loss: 13.020000000000001\n"
     ]
    }
   ],
   "source": [
    "Percntage_loss=((10000-8698)/10000)*100\n",
    "print(\"\\nPercentage loss:\",Percntage_loss)"
   ]
  },
  {
   "cell_type": "code",
   "execution_count": 48,
   "metadata": {},
   "outputs": [],
   "source": [
    "#There is 13.02% loss of data when using z Score let's check with IQR"
   ]
  },
  {
   "cell_type": "code",
   "execution_count": 49,
   "metadata": {},
   "outputs": [
    {
     "name": "stdout",
     "output_type": "stream",
     "text": [
      "ra           4.417633e+01\n",
      "dec          3.618843e+01\n",
      "u            1.081197e+00\n",
      "g            1.195045e+00\n",
      "r            1.339343e+00\n",
      "i            1.404845e+00\n",
      "z            1.523162e+00\n",
      "run          5.790000e+02\n",
      "camcol       3.000000e+00\n",
      "field        2.300000e+02\n",
      "specobjid    2.542375e+18\n",
      "class        1.000000e+00\n",
      "redshift     9.249761e-02\n",
      "plate        2.258000e+03\n",
      "mjd          2.568000e+03\n",
      "fiberid      3.232500e+02\n",
      "dtype: float64\n"
     ]
    }
   ],
   "source": [
    "Q1=df.quantile(0.25)\n",
    "Q3=df.quantile(0.75)\n",
    "IQR=Q3-Q1\n",
    "print(IQR)"
   ]
  },
  {
   "cell_type": "code",
   "execution_count": 50,
   "metadata": {},
   "outputs": [
    {
     "data": {
      "text/plain": [
       "(7978, 16)"
      ]
     },
     "execution_count": 50,
     "metadata": {},
     "output_type": "execute_result"
    }
   ],
   "source": [
    "df.new1=df[~((df<(Q1-1.5*IQR))|(df>(Q3+1.5*IQR))).any(axis=1)]\n",
    "df.new1.shape"
   ]
  },
  {
   "cell_type": "code",
   "execution_count": 51,
   "metadata": {},
   "outputs": [
    {
     "name": "stdout",
     "output_type": "stream",
     "text": [
      "20.22\n"
     ]
    }
   ],
   "source": [
    "Percntage_loss=((10000-7978)/10000)*100\n",
    "print(Percntage_loss)"
   ]
  },
  {
   "cell_type": "markdown",
   "metadata": {},
   "source": [
    "The Percentage loss is more then 20% so we are going to try building the model with outliers present and then build it with zscore outlier removed technique"
   ]
  },
  {
   "cell_type": "code",
   "execution_count": null,
   "metadata": {},
   "outputs": [],
   "source": []
  },
  {
   "cell_type": "code",
   "execution_count": 44,
   "metadata": {},
   "outputs": [
    {
     "name": "stdout",
     "output_type": "stream",
     "text": [
      "\n",
      " X Shape (10000, 15) Y Shape (10000,)\n"
     ]
    }
   ],
   "source": [
    "y=df[\"class\"]\n",
    "x=df.drop(\"class\", axis=1)\n",
    "print(\"\\n X Shape\", x.shape, \"Y Shape\",y.shape)"
   ]
  },
  {
   "cell_type": "code",
   "execution_count": 45,
   "metadata": {},
   "outputs": [],
   "source": [
    "from sklearn.preprocessing import StandardScaler\n",
    "sc=StandardScaler()\n",
    "x_t=sc.fit_transform(x)\n",
    "from sklearn.model_selection import train_test_split\n",
    "from sklearn.model_selection import KFold, cross_val_score, GridSearchCV\n",
    "lr=LogisticRegression()\n",
    "from sklearn.metrics import accuracy_score,confusion_matrix,classification_report\n",
    "import warnings\n",
    "warnings.filterwarnings(\"ignore\")"
   ]
  },
  {
   "cell_type": "code",
   "execution_count": 52,
   "metadata": {},
   "outputs": [
    {
     "name": "stdout",
     "output_type": "stream",
     "text": [
      "At random state 47 The model Perfomes very well\n",
      "Training accuracy_score is: 97.8\n",
      "Testing accuracy_score is: 0.978\n",
      "\n",
      "\n"
     ]
    }
   ],
   "source": [
    "max_scr=0\n",
    "for i in range(30,100):\n",
    "    x_train,x_test,y_train,y_test=train_test_split(x_t,y,test_size=.20,random_state=i)\n",
    "    lr.fit(x_train,y_train)\n",
    "    pred_train=lr.predict(x_train)\n",
    "    pred_test=lr.predict(x_test)\n",
    "    if round(accuracy_score(y_train,pred_train)*100,2)==round(accuracy_score(y_test,pred_test)*100,2):\n",
    "    #if accuracy_score(y_train,pred_train)*100>max_scr:  \n",
    "        max_scr=accuracy_score(y_train,pred_train)*100\n",
    "        print(\"At random state\",i,\"The model Perfomes very well\")\n",
    "        print(\"Training accuracy_score is:\",accuracy_score(y_train,pred_train)*100)\n",
    "        print(\"Testing accuracy_score is:\",accuracy_score(y_test,pred_test), end = \"\\n\\n\\n\")"
   ]
  },
  {
   "cell_type": "raw",
   "metadata": {},
   "source": [
    "At random state 47 The model Perfomes very well\n",
    "Training accuracy_score is: 97.8\n",
    "Testing accuracy_score is: 0.978"
   ]
  },
  {
   "cell_type": "code",
   "execution_count": 53,
   "metadata": {},
   "outputs": [],
   "source": [
    "x_train,x_test,y_train,y_test=train_test_split(x_t,y,test_size=.20,random_state=47)\n",
    "num_folds = 10\n",
    "seed = 47\n",
    "scoring = 'accuracy'"
   ]
  },
  {
   "cell_type": "markdown",
   "metadata": {},
   "source": [
    "# Building Machine Learning Models"
   ]
  },
  {
   "cell_type": "code",
   "execution_count": 54,
   "metadata": {},
   "outputs": [],
   "source": [
    "models= [\n",
    "    (\"SVC\",SVC()),\n",
    "    (\"Logistic Regression\",LogisticRegression()),\n",
    "    (\"Decision Tree\", DecisionTreeClassifier()),\n",
    "    (\"Naive Bayes\",GaussianNB()),\n",
    "    (\"KNearest Neighbors\",KNeighborsClassifier(3)),\n",
    "    (\"RandomForestClassifier\",RandomForestClassifier())\n",
    "    ]"
   ]
  },
  {
   "cell_type": "code",
   "execution_count": 55,
   "metadata": {},
   "outputs": [
    {
     "name": "stdout",
     "output_type": "stream",
     "text": [
      "SVC: 0.955750 (0.008258)\n",
      "Logistic Regression: 0.976125 (0.006788)\n",
      "Decision Tree: 0.986000 (0.004500)\n",
      "Naive Bayes: 0.942625 (0.010918)\n",
      "KNearest Neighbors: 0.899875 (0.010147)\n",
      "RandomForestClassifier: 0.989125 (0.005592)\n"
     ]
    }
   ],
   "source": [
    "results = []\n",
    "names = []\n",
    "for name, model in models:\n",
    "    kfold = KFold(n_splits=num_folds, random_state=seed)\n",
    "    cv_results = cross_val_score(model, x_train, y_train, cv=kfold, scoring=scoring)\n",
    "    results.append(cv_results)\n",
    "    names.append(name)\n",
    "    msg = \"%s: %f (%f)\" % (name, cv_results.mean(), cv_results.std())\n",
    "    print(msg)"
   ]
  },
  {
   "cell_type": "markdown",
   "metadata": {},
   "source": [
    "Data has perfomed well with RandomForest and DecisionTree Classifiers "
   ]
  },
  {
   "cell_type": "markdown",
   "metadata": {},
   "source": [
    "# HyperParameter Tyning"
   ]
  },
  {
   "cell_type": "code",
   "execution_count": 56,
   "metadata": {},
   "outputs": [
    {
     "name": "stdout",
     "output_type": "stream",
     "text": [
      "Best: 0.989375 using {'max_features': 'log2', 'n_estimators': 100}\n",
      "#3 0.988000 (0.005596) with: {'max_features': 'sqrt', 'n_estimators': 10}\n",
      "#2 0.989000 (0.005668) with: {'max_features': 'sqrt', 'n_estimators': 100}\n",
      "#4 0.987625 (0.005198) with: {'max_features': 'log2', 'n_estimators': 10}\n",
      "#1 0.989375 (0.005484) with: {'max_features': 'log2', 'n_estimators': 100}\n"
     ]
    }
   ],
   "source": [
    "#RandomForest Hyper Parameter Tuning\n",
    "\n",
    "n_estimators = [10, 100]\n",
    "max_features = ['sqrt', 'log2']\n",
    "param_grid = dict(n_estimators=n_estimators,max_features=max_features)\n",
    "model = RandomForestClassifier()\n",
    "kfold = KFold(n_splits=num_folds, random_state=7)\n",
    "grid = GridSearchCV(estimator=model, param_grid=param_grid, scoring=scoring, cv=kfold)\n",
    "grid_result = grid.fit(x_train, y_train)\n",
    "print(\"Best: %f using %s\" % (grid_result.best_score_, grid_result.best_params_))\n",
    "means = grid_result.cv_results_['mean_test_score']\n",
    "stds = grid_result.cv_results_['std_test_score']\n",
    "params = grid_result.cv_results_['params']\n",
    "ranks = grid_result.cv_results_['rank_test_score']\n",
    "for mean, stdev, param, rank in zip(means, stds, params, ranks):\n",
    "    print(\"#%d %f (%f) with: %r\" % (rank, mean, stdev, param))"
   ]
  },
  {
   "cell_type": "code",
   "execution_count": 57,
   "metadata": {},
   "outputs": [
    {
     "name": "stdout",
     "output_type": "stream",
     "text": [
      "Best: 0.989500 using {'criterion': 'entropy', 'max_depth': 4, 'splitter': 'best'}\n",
      "#5 0.988250 (0.005397) with: {'criterion': 'gini', 'max_depth': 2, 'splitter': 'best'}\n",
      "#27 0.822750 (0.025732) with: {'criterion': 'gini', 'max_depth': 2, 'splitter': 'random'}\n",
      "#6 0.988125 (0.005281) with: {'criterion': 'gini', 'max_depth': 4, 'splitter': 'best'}\n",
      "#26 0.868250 (0.020813) with: {'criterion': 'gini', 'max_depth': 4, 'splitter': 'random'}\n",
      "#6 0.988125 (0.004267) with: {'criterion': 'gini', 'max_depth': 6, 'splitter': 'best'}\n",
      "#23 0.931875 (0.035678) with: {'criterion': 'gini', 'max_depth': 6, 'splitter': 'random'}\n",
      "#10 0.988000 (0.003717) with: {'criterion': 'gini', 'max_depth': 8, 'splitter': 'best'}\n",
      "#22 0.939750 (0.027759) with: {'criterion': 'gini', 'max_depth': 8, 'splitter': 'random'}\n",
      "#6 0.988125 (0.003634) with: {'criterion': 'gini', 'max_depth': 10, 'splitter': 'best'}\n",
      "#17 0.979625 (0.012687) with: {'criterion': 'gini', 'max_depth': 10, 'splitter': 'random'}\n",
      "#13 0.986250 (0.004610) with: {'criterion': 'gini', 'max_depth': 12, 'splitter': 'best'}\n",
      "#19 0.977750 (0.010765) with: {'criterion': 'gini', 'max_depth': 12, 'splitter': 'random'}\n",
      "#14 0.986125 (0.004310) with: {'criterion': 'gini', 'max_depth': None, 'splitter': 'best'}\n",
      "#18 0.978375 (0.006048) with: {'criterion': 'gini', 'max_depth': None, 'splitter': 'random'}\n",
      "#6 0.988125 (0.005653) with: {'criterion': 'entropy', 'max_depth': 2, 'splitter': 'best'}\n",
      "#28 0.803625 (0.077362) with: {'criterion': 'entropy', 'max_depth': 2, 'splitter': 'random'}\n",
      "#1 0.989500 (0.006026) with: {'criterion': 'entropy', 'max_depth': 4, 'splitter': 'best'}\n",
      "#25 0.890500 (0.046017) with: {'criterion': 'entropy', 'max_depth': 4, 'splitter': 'random'}\n",
      "#1 0.989500 (0.004912) with: {'criterion': 'entropy', 'max_depth': 6, 'splitter': 'best'}\n",
      "#24 0.919625 (0.025648) with: {'criterion': 'entropy', 'max_depth': 6, 'splitter': 'random'}\n",
      "#4 0.988375 (0.005305) with: {'criterion': 'entropy', 'max_depth': 8, 'splitter': 'best'}\n",
      "#21 0.965250 (0.022156) with: {'criterion': 'entropy', 'max_depth': 8, 'splitter': 'random'}\n",
      "#11 0.987750 (0.005385) with: {'criterion': 'entropy', 'max_depth': 10, 'splitter': 'best'}\n",
      "#20 0.975875 (0.013300) with: {'criterion': 'entropy', 'max_depth': 10, 'splitter': 'random'}\n",
      "#3 0.988625 (0.004382) with: {'criterion': 'entropy', 'max_depth': 12, 'splitter': 'best'}\n",
      "#16 0.981125 (0.006409) with: {'criterion': 'entropy', 'max_depth': 12, 'splitter': 'random'}\n",
      "#12 0.987625 (0.004888) with: {'criterion': 'entropy', 'max_depth': None, 'splitter': 'best'}\n",
      "#15 0.983250 (0.004684) with: {'criterion': 'entropy', 'max_depth': None, 'splitter': 'random'}\n"
     ]
    }
   ],
   "source": [
    "#DecisionTree Hyper Parameter Tuning\n",
    "\n",
    "criterion=[\"gini\", \"entropy\"]\n",
    "splitter=[\"best\", \"random\"]\n",
    "max_depth = [2,4,6,8,10,12,None]\n",
    "param_grid = dict(splitter=splitter,criterion=criterion,max_depth =max_depth )\n",
    "model = DecisionTreeClassifier()\n",
    "kfold = KFold(n_splits=num_folds, random_state=7)\n",
    "grid = GridSearchCV(estimator=model, param_grid=param_grid, scoring=scoring, cv=kfold)\n",
    "grid_result = grid.fit(x_train, y_train)\n",
    "print(\"Best: %f using %s\" % (grid_result.best_score_, grid_result.best_params_))\n",
    "means = grid_result.cv_results_['mean_test_score']\n",
    "stds = grid_result.cv_results_['std_test_score']\n",
    "params = grid_result.cv_results_['params']\n",
    "ranks = grid_result.cv_results_['rank_test_score']\n",
    "for mean, stdev, param, rank in zip(means, stds, params, ranks):\n",
    "    print(\"#%d %f (%f) with: %r\" % (rank, mean, stdev, param))"
   ]
  },
  {
   "cell_type": "markdown",
   "metadata": {},
   "source": [
    "Model Has perfomed best with Following Parameters DecisionTreeClassifier('criterion': 'entropy', 'max_depth': 4, 'splitter': 'best') and 98.98% score"
   ]
  },
  {
   "cell_type": "markdown",
   "metadata": {},
   "source": [
    "# Ensembling Techniques "
   ]
  },
  {
   "cell_type": "code",
   "execution_count": 78,
   "metadata": {},
   "outputs": [
    {
     "name": "stdout",
     "output_type": "stream",
     "text": [
      "[AdaBoostClassifier()]:\n",
      "0.8765\n",
      "[[798  15   0]\n",
      " [  6 930  53]\n",
      " [  1 172  25]]\n",
      "              precision    recall  f1-score   support\n",
      "\n",
      "           1       0.99      0.98      0.99       813\n",
      "           2       0.83      0.94      0.88       989\n",
      "           3       0.32      0.13      0.18       198\n",
      "\n",
      "    accuracy                           0.88      2000\n",
      "   macro avg       0.71      0.68      0.68      2000\n",
      "weighted avg       0.85      0.88      0.86      2000\n",
      "\n",
      "****************************************************************\n",
      "\n",
      "\n",
      "[AdaBoostClassifier(), GradientBoostingClassifier()]:\n",
      "0.986\n",
      "[[813   0   0]\n",
      " [  1 974  14]\n",
      " [  1  12 185]]\n",
      "              precision    recall  f1-score   support\n",
      "\n",
      "           1       1.00      1.00      1.00       813\n",
      "           2       0.99      0.98      0.99       989\n",
      "           3       0.93      0.93      0.93       198\n",
      "\n",
      "    accuracy                           0.99      2000\n",
      "   macro avg       0.97      0.97      0.97      2000\n",
      "weighted avg       0.99      0.99      0.99      2000\n",
      "\n",
      "****************************************************************\n",
      "\n",
      "\n",
      "[AdaBoostClassifier(), GradientBoostingClassifier(), BaggingClassifier()]:\n",
      "0.987\n",
      "[[812   1   0]\n",
      " [  6 975   8]\n",
      " [  1  10 187]]\n",
      "              precision    recall  f1-score   support\n",
      "\n",
      "           1       0.99      1.00      1.00       813\n",
      "           2       0.99      0.99      0.99       989\n",
      "           3       0.96      0.94      0.95       198\n",
      "\n",
      "    accuracy                           0.99      2000\n",
      "   macro avg       0.98      0.98      0.98      2000\n",
      "weighted avg       0.99      0.99      0.99      2000\n",
      "\n",
      "****************************************************************\n",
      "\n",
      "\n",
      "[AdaBoostClassifier(), GradientBoostingClassifier(), BaggingClassifier(), ExtraTreesClassifier()]:\n",
      "0.976\n",
      "[[801  12   0]\n",
      " [ 13 969   7]\n",
      " [  3  13 182]]\n",
      "              precision    recall  f1-score   support\n",
      "\n",
      "           1       0.98      0.99      0.98       813\n",
      "           2       0.97      0.98      0.98       989\n",
      "           3       0.96      0.92      0.94       198\n",
      "\n",
      "    accuracy                           0.98      2000\n",
      "   macro avg       0.97      0.96      0.97      2000\n",
      "weighted avg       0.98      0.98      0.98      2000\n",
      "\n",
      "****************************************************************\n",
      "\n",
      "\n"
     ]
    }
   ],
   "source": [
    "models= [AdaBoostClassifier(),GradientBoostingClassifier(),BaggingClassifier(),ExtraTreesClassifier()]\n",
    "names = []\n",
    "\n",
    "for m in models:\n",
    "    m.fit(x_train, y_train)\n",
    "    m.score(x_train, y_train)\n",
    "    predm = m.predict(x_test)\n",
    "    names.append(m)\n",
    "    msg = \"%s:\" % (names)\n",
    "    print(msg)\n",
    "    print(accuracy_score(y_test, predm)) \n",
    "    print(confusion_matrix(y_test, predm))\n",
    "    print(classification_report(y_test, predm))\n",
    "    print(\"****************************************************************\")\n",
    "    print(\"\\n\")"
   ]
  },
  {
   "cell_type": "code",
   "execution_count": 79,
   "metadata": {},
   "outputs": [],
   "source": [
    "#Over All Perfomance has not been incerased with Ensembling Techniques "
   ]
  },
  {
   "cell_type": "code",
   "execution_count": 61,
   "metadata": {},
   "outputs": [
    {
     "name": "stdout",
     "output_type": "stream",
     "text": [
      "98.75\n",
      "[[812   1   0]\n",
      " [  1 976  12]\n",
      " [  1  10 187]]\n",
      "              precision    recall  f1-score   support\n",
      "\n",
      "           1       1.00      1.00      1.00       813\n",
      "           2       0.99      0.99      0.99       989\n",
      "           3       0.94      0.94      0.94       198\n",
      "\n",
      "    accuracy                           0.99      2000\n",
      "   macro avg       0.98      0.98      0.98      2000\n",
      "weighted avg       0.99      0.99      0.99      2000\n",
      "\n"
     ]
    }
   ],
   "source": [
    "model= DecisionTreeClassifier(criterion= 'entropy', max_depth= 4, splitter= 'best')\n",
    "model.fit(x_train, y_train)\n",
    "predictions = model.predict(x_test)\n",
    "print(accuracy_score(y_test, predictions)*100 )\n",
    "print(confusion_matrix(y_test, predictions))\n",
    "print(classification_report(y_test, predictions))"
   ]
  },
  {
   "cell_type": "code",
   "execution_count": 58,
   "metadata": {},
   "outputs": [],
   "source": [
    "#The Score has been consistant with the predicting data well so we can go ahead with finializing the Model \n",
    "#with a Accuracy score of 98.75% "
   ]
  },
  {
   "cell_type": "code",
   "execution_count": 59,
   "metadata": {},
   "outputs": [
    {
     "data": {
      "text/plain": [
       "['Spacedata.pkl']"
      ]
     },
     "execution_count": 59,
     "metadata": {},
     "output_type": "execute_result"
    }
   ],
   "source": [
    "import joblib\n",
    "joblib.dump(model,\"Spacedata.pkl\")"
   ]
  },
  {
   "cell_type": "code",
   "execution_count": 62,
   "metadata": {},
   "outputs": [
    {
     "data": {
      "text/html": [
       "<div>\n",
       "<style scoped>\n",
       "    .dataframe tbody tr th:only-of-type {\n",
       "        vertical-align: middle;\n",
       "    }\n",
       "\n",
       "    .dataframe tbody tr th {\n",
       "        vertical-align: top;\n",
       "    }\n",
       "\n",
       "    .dataframe thead th {\n",
       "        text-align: right;\n",
       "    }\n",
       "</style>\n",
       "<table border=\"1\" class=\"dataframe\">\n",
       "  <thead>\n",
       "    <tr style=\"text-align: right;\">\n",
       "      <th></th>\n",
       "      <th>Original</th>\n",
       "      <th>Predicted</th>\n",
       "    </tr>\n",
       "  </thead>\n",
       "  <tbody>\n",
       "    <tr>\n",
       "      <th>7432</th>\n",
       "      <td>2</td>\n",
       "      <td>2</td>\n",
       "    </tr>\n",
       "    <tr>\n",
       "      <th>5444</th>\n",
       "      <td>2</td>\n",
       "      <td>2</td>\n",
       "    </tr>\n",
       "    <tr>\n",
       "      <th>5448</th>\n",
       "      <td>1</td>\n",
       "      <td>1</td>\n",
       "    </tr>\n",
       "    <tr>\n",
       "      <th>8654</th>\n",
       "      <td>1</td>\n",
       "      <td>1</td>\n",
       "    </tr>\n",
       "    <tr>\n",
       "      <th>7543</th>\n",
       "      <td>2</td>\n",
       "      <td>3</td>\n",
       "    </tr>\n",
       "    <tr>\n",
       "      <th>...</th>\n",
       "      <td>...</td>\n",
       "      <td>...</td>\n",
       "    </tr>\n",
       "    <tr>\n",
       "      <th>6746</th>\n",
       "      <td>2</td>\n",
       "      <td>2</td>\n",
       "    </tr>\n",
       "    <tr>\n",
       "      <th>2903</th>\n",
       "      <td>2</td>\n",
       "      <td>2</td>\n",
       "    </tr>\n",
       "    <tr>\n",
       "      <th>3893</th>\n",
       "      <td>1</td>\n",
       "      <td>1</td>\n",
       "    </tr>\n",
       "    <tr>\n",
       "      <th>7995</th>\n",
       "      <td>1</td>\n",
       "      <td>1</td>\n",
       "    </tr>\n",
       "    <tr>\n",
       "      <th>4070</th>\n",
       "      <td>3</td>\n",
       "      <td>3</td>\n",
       "    </tr>\n",
       "  </tbody>\n",
       "</table>\n",
       "<p>2000 rows × 2 columns</p>\n",
       "</div>"
      ],
      "text/plain": [
       "      Original  Predicted\n",
       "7432         2          2\n",
       "5444         2          2\n",
       "5448         1          1\n",
       "8654         1          1\n",
       "7543         2          3\n",
       "...        ...        ...\n",
       "6746         2          2\n",
       "2903         2          2\n",
       "3893         1          1\n",
       "7995         1          1\n",
       "4070         3          3\n",
       "\n",
       "[2000 rows x 2 columns]"
      ]
     },
     "execution_count": 62,
     "metadata": {},
     "output_type": "execute_result"
    }
   ],
   "source": [
    "df_pred=pd.DataFrame({\"Original\":y_test,\"Predicted\":predictions})\n",
    "df_pred"
   ]
  },
  {
   "cell_type": "markdown",
   "metadata": {},
   "source": [
    "# Concluding Remarks"
   ]
  },
  {
   "cell_type": "raw",
   "metadata": {},
   "source": [
    "\n",
    "# We have been Succesful in building the model with 98.75% Accuracy using Decition Tree Classifier \n",
    "To Predict the Class\n",
    "\n",
    "Where in the Prediction staus is as Follows\n",
    "#812 - Stars Have been Pedicted rightly where as 1 Galaxy is predicted as Star \n",
    "#976 - Galaxy are predicted rightly where as 1 Star and 12 QSO's are predicted as Galaxy\n",
    "#187 - QSO's are predicted rightly where as 1 Star and 10 Galaxy's are predicted as QSO's\n",
    "\n",
    "\\\\\\\\\\\\\\\\\\\\\\\\\\\\\\\\\\\\\\\\\\\\\\\\\\\\\\\\\\\\\\\\\\\\\\\\\\\\\\\\\\\\\\\\\\\\\\\\\\\\\\\\\\\\\\\\\\\\\\\\\\\\\\\\\\\\\\\\\\\\\\\\\\\\\\\\\\\\\\\\\\\n",
    "\n",
    "\n",
    "Correlation of Attributes with Target Variable  \n",
    "\n",
    "\"u\"-28%\n",
    "\"g\"-36%\n",
    "\"r\"- 28%\n",
    "\"i\"-21%\n",
    "\"z\" - 0.15% Correlation with Class\n",
    "\n",
    "\"redshift\" has 62% correaltion which highly Effects the Class, dominantly it helps predicting QSO's \n",
    "\n",
    "The following columns have \n",
    "\"camcol\"-\"-47%\"\n",
    "\"field\"-\"-47%\"\n",
    "\"fiberid\"- \"-53%\"\n",
    "Negative Correlation with the target variable "
   ]
  },
  {
   "cell_type": "code",
   "execution_count": null,
   "metadata": {},
   "outputs": [],
   "source": []
  }
 ],
 "metadata": {
  "kernelspec": {
   "display_name": "Python 3",
   "language": "python",
   "name": "python3"
  },
  "language_info": {
   "codemirror_mode": {
    "name": "ipython",
    "version": 3
   },
   "file_extension": ".py",
   "mimetype": "text/x-python",
   "name": "python",
   "nbconvert_exporter": "python",
   "pygments_lexer": "ipython3",
   "version": "3.8.3"
  }
 },
 "nbformat": 4,
 "nbformat_minor": 4
}
