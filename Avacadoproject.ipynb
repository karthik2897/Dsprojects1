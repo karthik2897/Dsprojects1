{
 "cells": [
  {
   "cell_type": "code",
   "execution_count": 81,
   "metadata": {},
   "outputs": [],
   "source": [
    "import numpy as np \n",
    "import pandas as pd\n",
    "import seaborn as sns\n",
    "from pandas_profiling import ProfileReport\n",
    "\n",
    "import matplotlib \n",
    "from matplotlib import pyplot as plt\n",
    "from matplotlib import style\n",
    "\n",
    "# Algorithms\n",
    "\n",
    "from sklearn import linear_model\n",
    "from sklearn.linear_model import LinearRegression\n",
    "from sklearn.ensemble import RandomForestRegressor\n",
    "from sklearn.linear_model import Ridge\n",
    "from sklearn.linear_model import Lasso\n",
    "from sklearn.tree import DecisionTreeRegressor\n",
    "from sklearn.neighbors import KNeighborsRegressor\n",
    "from sklearn.svm import SVR,SVC\n",
    "from sklearn.naive_bayes import GaussianNB\n",
    "from sklearn.ensemble import RandomForestRegressor,AdaBoostRegressor, ExtraTreesRegressor, GradientBoostingRegressor\n",
    "\n",
    "\n",
    "from sklearn import linear_model\n",
    "from sklearn.linear_model import LogisticRegression\n",
    "from sklearn.ensemble import RandomForestClassifier\n",
    "from sklearn.tree import DecisionTreeClassifier\n",
    "from sklearn.neighbors import KNeighborsClassifier\n",
    "from sklearn.ensemble import AdaBoostClassifier,GradientBoostingClassifier,BaggingClassifier,ExtraTreesClassifier,RandomForestClassifier\n"
   ]
  },
  {
   "cell_type": "markdown",
   "metadata": {},
   "source": [
    "# Probelm Definition \n"
   ]
  },
  {
   "cell_type": "markdown",
   "metadata": {},
   "source": [
    "The following dataset contains the data related to Avacado belonging to United States Of America, Which has various attributes \n",
    "\n",
    "#Problems we are going to address are \n",
    "#1.Predicting the average price of Avacado's using the rest of the attributes \n",
    "#2.Predicting the region the Avacado belongs to \n",
    "#3.Knowing which Parameters effect the Average price of Avacado \n",
    "#4.Correlation each attribute has with that of target variables "
   ]
  },
  {
   "cell_type": "code",
   "execution_count": 4,
   "metadata": {},
   "outputs": [],
   "source": [
    "url=\"https://raw.githubusercontent.com/dsrscientist/Data-Science-ML-Capstone-Projects/master/avocado.csv\""
   ]
  },
  {
   "cell_type": "code",
   "execution_count": 31,
   "metadata": {},
   "outputs": [
    {
     "data": {
      "text/html": [
       "<div>\n",
       "<style scoped>\n",
       "    .dataframe tbody tr th:only-of-type {\n",
       "        vertical-align: middle;\n",
       "    }\n",
       "\n",
       "    .dataframe tbody tr th {\n",
       "        vertical-align: top;\n",
       "    }\n",
       "\n",
       "    .dataframe thead th {\n",
       "        text-align: right;\n",
       "    }\n",
       "</style>\n",
       "<table border=\"1\" class=\"dataframe\">\n",
       "  <thead>\n",
       "    <tr style=\"text-align: right;\">\n",
       "      <th></th>\n",
       "      <th>Unnamed: 0</th>\n",
       "      <th>Date</th>\n",
       "      <th>AveragePrice</th>\n",
       "      <th>Total Volume</th>\n",
       "      <th>4046</th>\n",
       "      <th>4225</th>\n",
       "      <th>4770</th>\n",
       "      <th>Total Bags</th>\n",
       "      <th>Small Bags</th>\n",
       "      <th>Large Bags</th>\n",
       "      <th>XLarge Bags</th>\n",
       "      <th>type</th>\n",
       "      <th>year</th>\n",
       "      <th>region</th>\n",
       "    </tr>\n",
       "  </thead>\n",
       "  <tbody>\n",
       "    <tr>\n",
       "      <th>0</th>\n",
       "      <td>0.0</td>\n",
       "      <td>27-12-2015</td>\n",
       "      <td>1.33</td>\n",
       "      <td>64236.62</td>\n",
       "      <td>1036.74</td>\n",
       "      <td>54454.85</td>\n",
       "      <td>48.16</td>\n",
       "      <td>8696.87</td>\n",
       "      <td>8603.62</td>\n",
       "      <td>93.25</td>\n",
       "      <td>0.0</td>\n",
       "      <td>conventional</td>\n",
       "      <td>2015.0</td>\n",
       "      <td>Albany</td>\n",
       "    </tr>\n",
       "    <tr>\n",
       "      <th>1</th>\n",
       "      <td>1.0</td>\n",
       "      <td>20-12-2015</td>\n",
       "      <td>1.35</td>\n",
       "      <td>54876.98</td>\n",
       "      <td>674.28</td>\n",
       "      <td>44638.81</td>\n",
       "      <td>58.33</td>\n",
       "      <td>9505.56</td>\n",
       "      <td>9408.07</td>\n",
       "      <td>97.49</td>\n",
       "      <td>0.0</td>\n",
       "      <td>conventional</td>\n",
       "      <td>2015.0</td>\n",
       "      <td>Albany</td>\n",
       "    </tr>\n",
       "    <tr>\n",
       "      <th>2</th>\n",
       "      <td>2.0</td>\n",
       "      <td>13-12-2015</td>\n",
       "      <td>0.93</td>\n",
       "      <td>118220.22</td>\n",
       "      <td>794.70</td>\n",
       "      <td>109149.67</td>\n",
       "      <td>130.50</td>\n",
       "      <td>8145.35</td>\n",
       "      <td>8042.21</td>\n",
       "      <td>103.14</td>\n",
       "      <td>0.0</td>\n",
       "      <td>conventional</td>\n",
       "      <td>2015.0</td>\n",
       "      <td>Albany</td>\n",
       "    </tr>\n",
       "    <tr>\n",
       "      <th>3</th>\n",
       "      <td>3.0</td>\n",
       "      <td>06-12-2015</td>\n",
       "      <td>1.08</td>\n",
       "      <td>78992.15</td>\n",
       "      <td>1132.00</td>\n",
       "      <td>71976.41</td>\n",
       "      <td>72.58</td>\n",
       "      <td>5811.16</td>\n",
       "      <td>5677.40</td>\n",
       "      <td>133.76</td>\n",
       "      <td>0.0</td>\n",
       "      <td>conventional</td>\n",
       "      <td>2015.0</td>\n",
       "      <td>Albany</td>\n",
       "    </tr>\n",
       "    <tr>\n",
       "      <th>4</th>\n",
       "      <td>4.0</td>\n",
       "      <td>29-11-2015</td>\n",
       "      <td>1.28</td>\n",
       "      <td>51039.60</td>\n",
       "      <td>941.48</td>\n",
       "      <td>43838.39</td>\n",
       "      <td>75.78</td>\n",
       "      <td>6183.95</td>\n",
       "      <td>5986.26</td>\n",
       "      <td>197.69</td>\n",
       "      <td>0.0</td>\n",
       "      <td>conventional</td>\n",
       "      <td>2015.0</td>\n",
       "      <td>Albany</td>\n",
       "    </tr>\n",
       "    <tr>\n",
       "      <th>...</th>\n",
       "      <td>...</td>\n",
       "      <td>...</td>\n",
       "      <td>...</td>\n",
       "      <td>...</td>\n",
       "      <td>...</td>\n",
       "      <td>...</td>\n",
       "      <td>...</td>\n",
       "      <td>...</td>\n",
       "      <td>...</td>\n",
       "      <td>...</td>\n",
       "      <td>...</td>\n",
       "      <td>...</td>\n",
       "      <td>...</td>\n",
       "      <td>...</td>\n",
       "    </tr>\n",
       "    <tr>\n",
       "      <th>16463</th>\n",
       "      <td>NaN</td>\n",
       "      <td>NaN</td>\n",
       "      <td>NaN</td>\n",
       "      <td>NaN</td>\n",
       "      <td>NaN</td>\n",
       "      <td>NaN</td>\n",
       "      <td>NaN</td>\n",
       "      <td>NaN</td>\n",
       "      <td>NaN</td>\n",
       "      <td>NaN</td>\n",
       "      <td>NaN</td>\n",
       "      <td>NaN</td>\n",
       "      <td>NaN</td>\n",
       "      <td>NaN</td>\n",
       "    </tr>\n",
       "    <tr>\n",
       "      <th>16464</th>\n",
       "      <td>NaN</td>\n",
       "      <td>NaN</td>\n",
       "      <td>NaN</td>\n",
       "      <td>NaN</td>\n",
       "      <td>NaN</td>\n",
       "      <td>NaN</td>\n",
       "      <td>NaN</td>\n",
       "      <td>NaN</td>\n",
       "      <td>NaN</td>\n",
       "      <td>NaN</td>\n",
       "      <td>NaN</td>\n",
       "      <td>NaN</td>\n",
       "      <td>NaN</td>\n",
       "      <td>NaN</td>\n",
       "    </tr>\n",
       "    <tr>\n",
       "      <th>16465</th>\n",
       "      <td>NaN</td>\n",
       "      <td>NaN</td>\n",
       "      <td>NaN</td>\n",
       "      <td>NaN</td>\n",
       "      <td>NaN</td>\n",
       "      <td>NaN</td>\n",
       "      <td>NaN</td>\n",
       "      <td>NaN</td>\n",
       "      <td>NaN</td>\n",
       "      <td>NaN</td>\n",
       "      <td>NaN</td>\n",
       "      <td>NaN</td>\n",
       "      <td>NaN</td>\n",
       "      <td>NaN</td>\n",
       "    </tr>\n",
       "    <tr>\n",
       "      <th>16466</th>\n",
       "      <td>NaN</td>\n",
       "      <td>NaN</td>\n",
       "      <td>NaN</td>\n",
       "      <td>NaN</td>\n",
       "      <td>NaN</td>\n",
       "      <td>NaN</td>\n",
       "      <td>NaN</td>\n",
       "      <td>NaN</td>\n",
       "      <td>NaN</td>\n",
       "      <td>NaN</td>\n",
       "      <td>NaN</td>\n",
       "      <td>NaN</td>\n",
       "      <td>NaN</td>\n",
       "      <td>NaN</td>\n",
       "    </tr>\n",
       "    <tr>\n",
       "      <th>16467</th>\n",
       "      <td>NaN</td>\n",
       "      <td>NaN</td>\n",
       "      <td>NaN</td>\n",
       "      <td>NaN</td>\n",
       "      <td>NaN</td>\n",
       "      <td>NaN</td>\n",
       "      <td>NaN</td>\n",
       "      <td>NaN</td>\n",
       "      <td>NaN</td>\n",
       "      <td>NaN</td>\n",
       "      <td>NaN</td>\n",
       "      <td>NaN</td>\n",
       "      <td>NaN</td>\n",
       "      <td>NaN</td>\n",
       "    </tr>\n",
       "  </tbody>\n",
       "</table>\n",
       "<p>16468 rows × 14 columns</p>\n",
       "</div>"
      ],
      "text/plain": [
       "       Unnamed: 0        Date  AveragePrice  Total Volume     4046       4225  \\\n",
       "0             0.0  27-12-2015          1.33      64236.62  1036.74   54454.85   \n",
       "1             1.0  20-12-2015          1.35      54876.98   674.28   44638.81   \n",
       "2             2.0  13-12-2015          0.93     118220.22   794.70  109149.67   \n",
       "3             3.0  06-12-2015          1.08      78992.15  1132.00   71976.41   \n",
       "4             4.0  29-11-2015          1.28      51039.60   941.48   43838.39   \n",
       "...           ...         ...           ...           ...      ...        ...   \n",
       "16463         NaN         NaN           NaN           NaN      NaN        NaN   \n",
       "16464         NaN         NaN           NaN           NaN      NaN        NaN   \n",
       "16465         NaN         NaN           NaN           NaN      NaN        NaN   \n",
       "16466         NaN         NaN           NaN           NaN      NaN        NaN   \n",
       "16467         NaN         NaN           NaN           NaN      NaN        NaN   \n",
       "\n",
       "         4770  Total Bags  Small Bags  Large Bags  XLarge Bags          type  \\\n",
       "0       48.16     8696.87     8603.62       93.25          0.0  conventional   \n",
       "1       58.33     9505.56     9408.07       97.49          0.0  conventional   \n",
       "2      130.50     8145.35     8042.21      103.14          0.0  conventional   \n",
       "3       72.58     5811.16     5677.40      133.76          0.0  conventional   \n",
       "4       75.78     6183.95     5986.26      197.69          0.0  conventional   \n",
       "...       ...         ...         ...         ...          ...           ...   \n",
       "16463     NaN         NaN         NaN         NaN          NaN           NaN   \n",
       "16464     NaN         NaN         NaN         NaN          NaN           NaN   \n",
       "16465     NaN         NaN         NaN         NaN          NaN           NaN   \n",
       "16466     NaN         NaN         NaN         NaN          NaN           NaN   \n",
       "16467     NaN         NaN         NaN         NaN          NaN           NaN   \n",
       "\n",
       "         year  region  \n",
       "0      2015.0  Albany  \n",
       "1      2015.0  Albany  \n",
       "2      2015.0  Albany  \n",
       "3      2015.0  Albany  \n",
       "4      2015.0  Albany  \n",
       "...       ...     ...  \n",
       "16463     NaN     NaN  \n",
       "16464     NaN     NaN  \n",
       "16465     NaN     NaN  \n",
       "16466     NaN     NaN  \n",
       "16467     NaN     NaN  \n",
       "\n",
       "[16468 rows x 14 columns]"
      ]
     },
     "execution_count": 31,
     "metadata": {},
     "output_type": "execute_result"
    }
   ],
   "source": [
    "df=pd.read_csv(url,sep=\",\")\n",
    "df"
   ]
  },
  {
   "cell_type": "code",
   "execution_count": 134,
   "metadata": {},
   "outputs": [],
   "source": [
    "#Attributes and their Meaning \n",
    "\n",
    "#AveragePrice - the average price of a single avocado\n",
    "#type - conventional or organic new values\n",
    "#year - the year\n",
    "#Region - the city or region of the observation\n",
    "#Total Volume - Total number of avocados sold\n",
    "#4046 - Total number of avocados with PLU 4046 sold\n",
    "#4225 - Total number of avocados with PLU 4225 sold\n",
    "#4770 - Total number of avocados with PLU 4770 sold"
   ]
  },
  {
   "cell_type": "code",
   "execution_count": 32,
   "metadata": {},
   "outputs": [],
   "source": [
    "df.dropna(axis=0,inplace=True)"
   ]
  },
  {
   "cell_type": "code",
   "execution_count": 33,
   "metadata": {},
   "outputs": [],
   "source": [
    "df.drop(\"Unnamed: 0\",axis=1,inplace=True)"
   ]
  },
  {
   "cell_type": "code",
   "execution_count": 34,
   "metadata": {},
   "outputs": [
    {
     "name": "stdout",
     "output_type": "stream",
     "text": [
      "<class 'pandas.core.frame.DataFrame'>\n",
      "Int64Index: 1517 entries, 0 to 1516\n",
      "Data columns (total 13 columns):\n",
      " #   Column        Non-Null Count  Dtype  \n",
      "---  ------        --------------  -----  \n",
      " 0   Date          1517 non-null   object \n",
      " 1   AveragePrice  1517 non-null   float64\n",
      " 2   Total Volume  1517 non-null   float64\n",
      " 3   4046          1517 non-null   float64\n",
      " 4   4225          1517 non-null   float64\n",
      " 5   4770          1517 non-null   float64\n",
      " 6   Total Bags    1517 non-null   float64\n",
      " 7   Small Bags    1517 non-null   float64\n",
      " 8   Large Bags    1517 non-null   float64\n",
      " 9   XLarge Bags   1517 non-null   float64\n",
      " 10  type          1517 non-null   object \n",
      " 11  year          1517 non-null   float64\n",
      " 12  region        1517 non-null   object \n",
      "dtypes: float64(10), object(3)\n",
      "memory usage: 165.9+ KB\n"
     ]
    }
   ],
   "source": [
    "df.info()"
   ]
  },
  {
   "cell_type": "code",
   "execution_count": 35,
   "metadata": {},
   "outputs": [],
   "source": [
    "#Changing Data types \n",
    "df[\"Date\"]= pd.to_datetime(df[\"Date\"])"
   ]
  },
  {
   "cell_type": "code",
   "execution_count": 28,
   "metadata": {
    "scrolled": false
   },
   "outputs": [
    {
     "name": "stdout",
     "output_type": "stream",
     "text": [
      "\n",
      "Total No of Regions that the Avacado is brought from: 51\n",
      "\n",
      "['Albany' 'Atlanta' 'BaltimoreWashington' 'Boise' 'Boston'\n",
      " 'BuffaloRochester' 'California' 'Charlotte' 'Chicago' 'Columbus'\n",
      " 'DallasFtWorth' 'Denver' 'Detroit' 'GrandRapids' 'GreatLakes'\n",
      " 'HarrisburgScranton' 'HartfordSpringfield' 'Houston' 'Indianapolis'\n",
      " 'Jacksonville' 'LasVegas' 'LosAngeles' 'Louisville' 'MiamiFtLauderdale'\n",
      " 'Midsouth' 'Nashville' 'NewYork' 'Northeast' 'NorthernNewEngland'\n",
      " 'Orlando' 'Philadelphia' 'PhoenixTucson' 'Pittsburgh' 'Plains' 'Portland'\n",
      " 'RaleighGreensboro' 'RichmondNorfolk' 'Roanoke' 'SanDiego' 'SanFrancisco'\n",
      " 'Seattle' 'SouthCarolina' 'SouthCentral' 'Southeast' 'Spokane' 'StLouis'\n",
      " 'Syracuse' 'Tampa' 'TotalUS' 'West' 'WestTexNewMexico']\n"
     ]
    },
    {
     "data": {
      "text/plain": [
       "California             76\n",
       "Albany                 67\n",
       "Boise                  65\n",
       "BaltimoreWashington    65\n",
       "Boston                 62\n",
       "Atlanta                54\n",
       "PhoenixTucson          52\n",
       "BuffaloRochester       51\n",
       "Spokane                49\n",
       "Columbus               47\n",
       "NewYork                44\n",
       "Jacksonville           41\n",
       "Detroit                40\n",
       "SouthCentral           39\n",
       "SanDiego               38\n",
       "West                   36\n",
       "Louisville             34\n",
       "Tampa                  34\n",
       "Charlotte              31\n",
       "Portland               30\n",
       "NorthernNewEngland     29\n",
       "Houston                29\n",
       "WestTexNewMexico       27\n",
       "Nashville              25\n",
       "TotalUS                25\n",
       "SouthCarolina          24\n",
       "Denver                 24\n",
       "GrandRapids            23\n",
       "Chicago                23\n",
       "Pittsburgh             22\n",
       "Orlando                21\n",
       "RichmondNorfolk        21\n",
       "HarrisburgScranton     19\n",
       "Syracuse               19\n",
       "Midsouth               18\n",
       "GreatLakes             18\n",
       "Roanoke                17\n",
       "DallasFtWorth          17\n",
       "MiamiFtLauderdale      17\n",
       "StLouis                16\n",
       "Indianapolis           16\n",
       "RaleighGreensboro      16\n",
       "SanFrancisco           15\n",
       "Philadelphia           13\n",
       "HartfordSpringfield    13\n",
       "Northeast              12\n",
       "Plains                 12\n",
       "LasVegas               10\n",
       "Southeast               9\n",
       "Seattle                 9\n",
       "LosAngeles              3\n",
       "Name: region, dtype: int64"
      ]
     },
     "execution_count": 28,
     "metadata": {},
     "output_type": "execute_result"
    }
   ],
   "source": [
    "print('\\n'\"Total No of Regions that the Avacado is brought from:\",len(df['region'].unique()),end='\\n\\n')\n",
    "print(df['region'].unique())\n",
    "df['region'].value_counts()"
   ]
  },
  {
   "cell_type": "code",
   "execution_count": 36,
   "metadata": {},
   "outputs": [
    {
     "data": {
      "text/html": [
       "<div>\n",
       "<style scoped>\n",
       "    .dataframe tbody tr th:only-of-type {\n",
       "        vertical-align: middle;\n",
       "    }\n",
       "\n",
       "    .dataframe tbody tr th {\n",
       "        vertical-align: top;\n",
       "    }\n",
       "\n",
       "    .dataframe thead th {\n",
       "        text-align: right;\n",
       "    }\n",
       "</style>\n",
       "<table border=\"1\" class=\"dataframe\">\n",
       "  <thead>\n",
       "    <tr style=\"text-align: right;\">\n",
       "      <th></th>\n",
       "      <th>Date</th>\n",
       "      <th>AveragePrice</th>\n",
       "      <th>Total Volume</th>\n",
       "      <th>4046</th>\n",
       "      <th>4225</th>\n",
       "      <th>4770</th>\n",
       "      <th>Total Bags</th>\n",
       "      <th>Small Bags</th>\n",
       "      <th>Large Bags</th>\n",
       "      <th>XLarge Bags</th>\n",
       "      <th>type</th>\n",
       "      <th>year</th>\n",
       "      <th>region</th>\n",
       "    </tr>\n",
       "  </thead>\n",
       "  <tbody>\n",
       "    <tr>\n",
       "      <th>1182</th>\n",
       "      <td>2015-06-21</td>\n",
       "      <td>1.02</td>\n",
       "      <td>35734613.90</td>\n",
       "      <td>14699604.93</td>\n",
       "      <td>13244466.60</td>\n",
       "      <td>1326422.56</td>\n",
       "      <td>6464119.81</td>\n",
       "      <td>5517909.51</td>\n",
       "      <td>898027.46</td>\n",
       "      <td>48182.84</td>\n",
       "      <td>conventional</td>\n",
       "      <td>2015.0</td>\n",
       "      <td>TotalUS</td>\n",
       "    </tr>\n",
       "    <tr>\n",
       "      <th>1183</th>\n",
       "      <td>2015-06-14</td>\n",
       "      <td>0.98</td>\n",
       "      <td>37026085.75</td>\n",
       "      <td>16383685.07</td>\n",
       "      <td>12821015.03</td>\n",
       "      <td>1085081.61</td>\n",
       "      <td>6736304.04</td>\n",
       "      <td>5893641.72</td>\n",
       "      <td>822399.78</td>\n",
       "      <td>20262.54</td>\n",
       "      <td>conventional</td>\n",
       "      <td>2015.0</td>\n",
       "      <td>TotalUS</td>\n",
       "    </tr>\n",
       "    <tr>\n",
       "      <th>1184</th>\n",
       "      <td>2015-07-06</td>\n",
       "      <td>1.00</td>\n",
       "      <td>36549995.66</td>\n",
       "      <td>16529797.60</td>\n",
       "      <td>12582265.21</td>\n",
       "      <td>1144715.95</td>\n",
       "      <td>6293216.90</td>\n",
       "      <td>5304562.91</td>\n",
       "      <td>943995.95</td>\n",
       "      <td>44658.04</td>\n",
       "      <td>conventional</td>\n",
       "      <td>2015.0</td>\n",
       "      <td>TotalUS</td>\n",
       "    </tr>\n",
       "    <tr>\n",
       "      <th>1185</th>\n",
       "      <td>2015-05-31</td>\n",
       "      <td>1.03</td>\n",
       "      <td>33720159.09</td>\n",
       "      <td>15503613.33</td>\n",
       "      <td>11599634.02</td>\n",
       "      <td>903908.35</td>\n",
       "      <td>5713003.39</td>\n",
       "      <td>4967231.63</td>\n",
       "      <td>726046.25</td>\n",
       "      <td>19725.51</td>\n",
       "      <td>conventional</td>\n",
       "      <td>2015.0</td>\n",
       "      <td>TotalUS</td>\n",
       "    </tr>\n",
       "    <tr>\n",
       "      <th>1186</th>\n",
       "      <td>2015-05-24</td>\n",
       "      <td>1.04</td>\n",
       "      <td>35344183.15</td>\n",
       "      <td>16000107.80</td>\n",
       "      <td>12513821.19</td>\n",
       "      <td>899779.92</td>\n",
       "      <td>5930474.24</td>\n",
       "      <td>5094263.38</td>\n",
       "      <td>815628.55</td>\n",
       "      <td>20582.31</td>\n",
       "      <td>conventional</td>\n",
       "      <td>2015.0</td>\n",
       "      <td>TotalUS</td>\n",
       "    </tr>\n",
       "    <tr>\n",
       "      <th>1187</th>\n",
       "      <td>2015-05-17</td>\n",
       "      <td>1.06</td>\n",
       "      <td>32027686.15</td>\n",
       "      <td>14615941.59</td>\n",
       "      <td>11003341.22</td>\n",
       "      <td>963549.53</td>\n",
       "      <td>5444853.81</td>\n",
       "      <td>4747544.74</td>\n",
       "      <td>660983.55</td>\n",
       "      <td>36325.52</td>\n",
       "      <td>conventional</td>\n",
       "      <td>2015.0</td>\n",
       "      <td>TotalUS</td>\n",
       "    </tr>\n",
       "    <tr>\n",
       "      <th>1188</th>\n",
       "      <td>2015-10-05</td>\n",
       "      <td>1.02</td>\n",
       "      <td>36400886.58</td>\n",
       "      <td>16215328.75</td>\n",
       "      <td>13509064.65</td>\n",
       "      <td>858145.45</td>\n",
       "      <td>5818347.73</td>\n",
       "      <td>4991625.82</td>\n",
       "      <td>816629.40</td>\n",
       "      <td>10092.51</td>\n",
       "      <td>conventional</td>\n",
       "      <td>2015.0</td>\n",
       "      <td>TotalUS</td>\n",
       "    </tr>\n",
       "    <tr>\n",
       "      <th>1189</th>\n",
       "      <td>2015-03-05</td>\n",
       "      <td>0.96</td>\n",
       "      <td>41291704.39</td>\n",
       "      <td>17787611.93</td>\n",
       "      <td>16602589.04</td>\n",
       "      <td>1118329.50</td>\n",
       "      <td>5783173.92</td>\n",
       "      <td>4647155.48</td>\n",
       "      <td>1110987.23</td>\n",
       "      <td>25031.21</td>\n",
       "      <td>conventional</td>\n",
       "      <td>2015.0</td>\n",
       "      <td>TotalUS</td>\n",
       "    </tr>\n",
       "    <tr>\n",
       "      <th>1190</th>\n",
       "      <td>2015-04-26</td>\n",
       "      <td>1.07</td>\n",
       "      <td>30894157.80</td>\n",
       "      <td>13833715.28</td>\n",
       "      <td>10867403.08</td>\n",
       "      <td>889732.20</td>\n",
       "      <td>5303307.24</td>\n",
       "      <td>4584203.44</td>\n",
       "      <td>687179.40</td>\n",
       "      <td>31924.40</td>\n",
       "      <td>conventional</td>\n",
       "      <td>2015.0</td>\n",
       "      <td>TotalUS</td>\n",
       "    </tr>\n",
       "    <tr>\n",
       "      <th>1191</th>\n",
       "      <td>2015-04-19</td>\n",
       "      <td>1.03</td>\n",
       "      <td>33091256.26</td>\n",
       "      <td>14251319.31</td>\n",
       "      <td>12277858.78</td>\n",
       "      <td>1016631.26</td>\n",
       "      <td>5545446.91</td>\n",
       "      <td>4696224.79</td>\n",
       "      <td>819935.17</td>\n",
       "      <td>29286.95</td>\n",
       "      <td>conventional</td>\n",
       "      <td>2015.0</td>\n",
       "      <td>TotalUS</td>\n",
       "    </tr>\n",
       "    <tr>\n",
       "      <th>1192</th>\n",
       "      <td>2015-12-04</td>\n",
       "      <td>1.02</td>\n",
       "      <td>32046401.64</td>\n",
       "      <td>14793354.18</td>\n",
       "      <td>11210544.11</td>\n",
       "      <td>807942.41</td>\n",
       "      <td>5234560.94</td>\n",
       "      <td>4400469.38</td>\n",
       "      <td>826567.05</td>\n",
       "      <td>7524.51</td>\n",
       "      <td>conventional</td>\n",
       "      <td>2015.0</td>\n",
       "      <td>TotalUS</td>\n",
       "    </tr>\n",
       "    <tr>\n",
       "      <th>1193</th>\n",
       "      <td>2015-05-04</td>\n",
       "      <td>1.06</td>\n",
       "      <td>31500669.44</td>\n",
       "      <td>13939014.43</td>\n",
       "      <td>11526980.36</td>\n",
       "      <td>871981.29</td>\n",
       "      <td>5162693.36</td>\n",
       "      <td>4477299.71</td>\n",
       "      <td>666514.74</td>\n",
       "      <td>18878.91</td>\n",
       "      <td>conventional</td>\n",
       "      <td>2015.0</td>\n",
       "      <td>TotalUS</td>\n",
       "    </tr>\n",
       "    <tr>\n",
       "      <th>1194</th>\n",
       "      <td>2015-03-29</td>\n",
       "      <td>1.04</td>\n",
       "      <td>29982648.43</td>\n",
       "      <td>12524637.04</td>\n",
       "      <td>11541041.35</td>\n",
       "      <td>811272.88</td>\n",
       "      <td>5105697.16</td>\n",
       "      <td>4487886.76</td>\n",
       "      <td>610349.20</td>\n",
       "      <td>7461.20</td>\n",
       "      <td>conventional</td>\n",
       "      <td>2015.0</td>\n",
       "      <td>TotalUS</td>\n",
       "    </tr>\n",
       "    <tr>\n",
       "      <th>1195</th>\n",
       "      <td>2015-03-22</td>\n",
       "      <td>1.01</td>\n",
       "      <td>32513550.51</td>\n",
       "      <td>13697405.61</td>\n",
       "      <td>12659784.83</td>\n",
       "      <td>1066385.92</td>\n",
       "      <td>5089974.15</td>\n",
       "      <td>4275071.46</td>\n",
       "      <td>762527.54</td>\n",
       "      <td>52375.15</td>\n",
       "      <td>conventional</td>\n",
       "      <td>2015.0</td>\n",
       "      <td>TotalUS</td>\n",
       "    </tr>\n",
       "    <tr>\n",
       "      <th>1196</th>\n",
       "      <td>2015-03-15</td>\n",
       "      <td>1.04</td>\n",
       "      <td>29572225.71</td>\n",
       "      <td>13149988.71</td>\n",
       "      <td>10634070.76</td>\n",
       "      <td>871575.04</td>\n",
       "      <td>4916591.20</td>\n",
       "      <td>4287621.56</td>\n",
       "      <td>614904.92</td>\n",
       "      <td>14064.72</td>\n",
       "      <td>conventional</td>\n",
       "      <td>2015.0</td>\n",
       "      <td>TotalUS</td>\n",
       "    </tr>\n",
       "    <tr>\n",
       "      <th>1197</th>\n",
       "      <td>2015-08-03</td>\n",
       "      <td>1.02</td>\n",
       "      <td>30094698.85</td>\n",
       "      <td>13013750.35</td>\n",
       "      <td>10973972.60</td>\n",
       "      <td>834009.15</td>\n",
       "      <td>5272966.75</td>\n",
       "      <td>4583726.82</td>\n",
       "      <td>673149.42</td>\n",
       "      <td>16090.51</td>\n",
       "      <td>conventional</td>\n",
       "      <td>2015.0</td>\n",
       "      <td>TotalUS</td>\n",
       "    </tr>\n",
       "    <tr>\n",
       "      <th>1198</th>\n",
       "      <td>2015-01-03</td>\n",
       "      <td>0.97</td>\n",
       "      <td>32994014.16</td>\n",
       "      <td>13282222.98</td>\n",
       "      <td>13733124.48</td>\n",
       "      <td>1070576.07</td>\n",
       "      <td>4908090.63</td>\n",
       "      <td>4129138.63</td>\n",
       "      <td>725218.35</td>\n",
       "      <td>53733.65</td>\n",
       "      <td>conventional</td>\n",
       "      <td>2015.0</td>\n",
       "      <td>TotalUS</td>\n",
       "    </tr>\n",
       "    <tr>\n",
       "      <th>1199</th>\n",
       "      <td>2015-02-22</td>\n",
       "      <td>1.02</td>\n",
       "      <td>29936729.76</td>\n",
       "      <td>12628562.36</td>\n",
       "      <td>11354281.64</td>\n",
       "      <td>937138.85</td>\n",
       "      <td>5016746.91</td>\n",
       "      <td>4336247.12</td>\n",
       "      <td>667149.29</td>\n",
       "      <td>13350.50</td>\n",
       "      <td>conventional</td>\n",
       "      <td>2015.0</td>\n",
       "      <td>TotalUS</td>\n",
       "    </tr>\n",
       "    <tr>\n",
       "      <th>1200</th>\n",
       "      <td>2015-02-15</td>\n",
       "      <td>1.03</td>\n",
       "      <td>28012520.93</td>\n",
       "      <td>12626615.30</td>\n",
       "      <td>9783489.59</td>\n",
       "      <td>845653.52</td>\n",
       "      <td>4756762.52</td>\n",
       "      <td>4096226.46</td>\n",
       "      <td>648632.00</td>\n",
       "      <td>11904.06</td>\n",
       "      <td>conventional</td>\n",
       "      <td>2015.0</td>\n",
       "      <td>TotalUS</td>\n",
       "    </tr>\n",
       "    <tr>\n",
       "      <th>1201</th>\n",
       "      <td>2015-08-02</td>\n",
       "      <td>0.95</td>\n",
       "      <td>32137333.01</td>\n",
       "      <td>13308193.40</td>\n",
       "      <td>13381347.54</td>\n",
       "      <td>737939.45</td>\n",
       "      <td>4709852.62</td>\n",
       "      <td>4022474.85</td>\n",
       "      <td>673453.54</td>\n",
       "      <td>13924.23</td>\n",
       "      <td>conventional</td>\n",
       "      <td>2015.0</td>\n",
       "      <td>TotalUS</td>\n",
       "    </tr>\n",
       "    <tr>\n",
       "      <th>1202</th>\n",
       "      <td>2015-01-02</td>\n",
       "      <td>0.89</td>\n",
       "      <td>44655461.51</td>\n",
       "      <td>18933038.04</td>\n",
       "      <td>18956479.74</td>\n",
       "      <td>1381516.11</td>\n",
       "      <td>5384427.62</td>\n",
       "      <td>4216452.03</td>\n",
       "      <td>1121076.47</td>\n",
       "      <td>46899.12</td>\n",
       "      <td>conventional</td>\n",
       "      <td>2015.0</td>\n",
       "      <td>TotalUS</td>\n",
       "    </tr>\n",
       "    <tr>\n",
       "      <th>1203</th>\n",
       "      <td>2015-01-25</td>\n",
       "      <td>1.04</td>\n",
       "      <td>28470310.84</td>\n",
       "      <td>12167445.03</td>\n",
       "      <td>10734652.82</td>\n",
       "      <td>768020.05</td>\n",
       "      <td>4800192.94</td>\n",
       "      <td>3978636.90</td>\n",
       "      <td>812924.73</td>\n",
       "      <td>8631.31</td>\n",
       "      <td>conventional</td>\n",
       "      <td>2015.0</td>\n",
       "      <td>TotalUS</td>\n",
       "    </tr>\n",
       "    <tr>\n",
       "      <th>1204</th>\n",
       "      <td>2015-01-18</td>\n",
       "      <td>1.03</td>\n",
       "      <td>29043458.85</td>\n",
       "      <td>11858139.34</td>\n",
       "      <td>11701947.80</td>\n",
       "      <td>831301.90</td>\n",
       "      <td>4652069.81</td>\n",
       "      <td>3873041.26</td>\n",
       "      <td>771093.20</td>\n",
       "      <td>7935.35</td>\n",
       "      <td>conventional</td>\n",
       "      <td>2015.0</td>\n",
       "      <td>TotalUS</td>\n",
       "    </tr>\n",
       "    <tr>\n",
       "      <th>1205</th>\n",
       "      <td>2015-11-01</td>\n",
       "      <td>1.01</td>\n",
       "      <td>29063542.75</td>\n",
       "      <td>11544810.53</td>\n",
       "      <td>12134773.38</td>\n",
       "      <td>866574.66</td>\n",
       "      <td>4517384.18</td>\n",
       "      <td>3783261.16</td>\n",
       "      <td>718333.87</td>\n",
       "      <td>15789.15</td>\n",
       "      <td>conventional</td>\n",
       "      <td>2015.0</td>\n",
       "      <td>TotalUS</td>\n",
       "    </tr>\n",
       "    <tr>\n",
       "      <th>1206</th>\n",
       "      <td>2015-04-01</td>\n",
       "      <td>0.95</td>\n",
       "      <td>31324277.73</td>\n",
       "      <td>12357161.34</td>\n",
       "      <td>13624083.05</td>\n",
       "      <td>844093.32</td>\n",
       "      <td>4498940.02</td>\n",
       "      <td>3585321.58</td>\n",
       "      <td>894945.63</td>\n",
       "      <td>18672.81</td>\n",
       "      <td>conventional</td>\n",
       "      <td>2015.0</td>\n",
       "      <td>TotalUS</td>\n",
       "    </tr>\n",
       "  </tbody>\n",
       "</table>\n",
       "</div>"
      ],
      "text/plain": [
       "           Date  AveragePrice  Total Volume         4046         4225  \\\n",
       "1182 2015-06-21          1.02   35734613.90  14699604.93  13244466.60   \n",
       "1183 2015-06-14          0.98   37026085.75  16383685.07  12821015.03   \n",
       "1184 2015-07-06          1.00   36549995.66  16529797.60  12582265.21   \n",
       "1185 2015-05-31          1.03   33720159.09  15503613.33  11599634.02   \n",
       "1186 2015-05-24          1.04   35344183.15  16000107.80  12513821.19   \n",
       "1187 2015-05-17          1.06   32027686.15  14615941.59  11003341.22   \n",
       "1188 2015-10-05          1.02   36400886.58  16215328.75  13509064.65   \n",
       "1189 2015-03-05          0.96   41291704.39  17787611.93  16602589.04   \n",
       "1190 2015-04-26          1.07   30894157.80  13833715.28  10867403.08   \n",
       "1191 2015-04-19          1.03   33091256.26  14251319.31  12277858.78   \n",
       "1192 2015-12-04          1.02   32046401.64  14793354.18  11210544.11   \n",
       "1193 2015-05-04          1.06   31500669.44  13939014.43  11526980.36   \n",
       "1194 2015-03-29          1.04   29982648.43  12524637.04  11541041.35   \n",
       "1195 2015-03-22          1.01   32513550.51  13697405.61  12659784.83   \n",
       "1196 2015-03-15          1.04   29572225.71  13149988.71  10634070.76   \n",
       "1197 2015-08-03          1.02   30094698.85  13013750.35  10973972.60   \n",
       "1198 2015-01-03          0.97   32994014.16  13282222.98  13733124.48   \n",
       "1199 2015-02-22          1.02   29936729.76  12628562.36  11354281.64   \n",
       "1200 2015-02-15          1.03   28012520.93  12626615.30   9783489.59   \n",
       "1201 2015-08-02          0.95   32137333.01  13308193.40  13381347.54   \n",
       "1202 2015-01-02          0.89   44655461.51  18933038.04  18956479.74   \n",
       "1203 2015-01-25          1.04   28470310.84  12167445.03  10734652.82   \n",
       "1204 2015-01-18          1.03   29043458.85  11858139.34  11701947.80   \n",
       "1205 2015-11-01          1.01   29063542.75  11544810.53  12134773.38   \n",
       "1206 2015-04-01          0.95   31324277.73  12357161.34  13624083.05   \n",
       "\n",
       "            4770  Total Bags  Small Bags  Large Bags  XLarge Bags  \\\n",
       "1182  1326422.56  6464119.81  5517909.51   898027.46     48182.84   \n",
       "1183  1085081.61  6736304.04  5893641.72   822399.78     20262.54   \n",
       "1184  1144715.95  6293216.90  5304562.91   943995.95     44658.04   \n",
       "1185   903908.35  5713003.39  4967231.63   726046.25     19725.51   \n",
       "1186   899779.92  5930474.24  5094263.38   815628.55     20582.31   \n",
       "1187   963549.53  5444853.81  4747544.74   660983.55     36325.52   \n",
       "1188   858145.45  5818347.73  4991625.82   816629.40     10092.51   \n",
       "1189  1118329.50  5783173.92  4647155.48  1110987.23     25031.21   \n",
       "1190   889732.20  5303307.24  4584203.44   687179.40     31924.40   \n",
       "1191  1016631.26  5545446.91  4696224.79   819935.17     29286.95   \n",
       "1192   807942.41  5234560.94  4400469.38   826567.05      7524.51   \n",
       "1193   871981.29  5162693.36  4477299.71   666514.74     18878.91   \n",
       "1194   811272.88  5105697.16  4487886.76   610349.20      7461.20   \n",
       "1195  1066385.92  5089974.15  4275071.46   762527.54     52375.15   \n",
       "1196   871575.04  4916591.20  4287621.56   614904.92     14064.72   \n",
       "1197   834009.15  5272966.75  4583726.82   673149.42     16090.51   \n",
       "1198  1070576.07  4908090.63  4129138.63   725218.35     53733.65   \n",
       "1199   937138.85  5016746.91  4336247.12   667149.29     13350.50   \n",
       "1200   845653.52  4756762.52  4096226.46   648632.00     11904.06   \n",
       "1201   737939.45  4709852.62  4022474.85   673453.54     13924.23   \n",
       "1202  1381516.11  5384427.62  4216452.03  1121076.47     46899.12   \n",
       "1203   768020.05  4800192.94  3978636.90   812924.73      8631.31   \n",
       "1204   831301.90  4652069.81  3873041.26   771093.20      7935.35   \n",
       "1205   866574.66  4517384.18  3783261.16   718333.87     15789.15   \n",
       "1206   844093.32  4498940.02  3585321.58   894945.63     18672.81   \n",
       "\n",
       "              type    year   region  \n",
       "1182  conventional  2015.0  TotalUS  \n",
       "1183  conventional  2015.0  TotalUS  \n",
       "1184  conventional  2015.0  TotalUS  \n",
       "1185  conventional  2015.0  TotalUS  \n",
       "1186  conventional  2015.0  TotalUS  \n",
       "1187  conventional  2015.0  TotalUS  \n",
       "1188  conventional  2015.0  TotalUS  \n",
       "1189  conventional  2015.0  TotalUS  \n",
       "1190  conventional  2015.0  TotalUS  \n",
       "1191  conventional  2015.0  TotalUS  \n",
       "1192  conventional  2015.0  TotalUS  \n",
       "1193  conventional  2015.0  TotalUS  \n",
       "1194  conventional  2015.0  TotalUS  \n",
       "1195  conventional  2015.0  TotalUS  \n",
       "1196  conventional  2015.0  TotalUS  \n",
       "1197  conventional  2015.0  TotalUS  \n",
       "1198  conventional  2015.0  TotalUS  \n",
       "1199  conventional  2015.0  TotalUS  \n",
       "1200  conventional  2015.0  TotalUS  \n",
       "1201  conventional  2015.0  TotalUS  \n",
       "1202  conventional  2015.0  TotalUS  \n",
       "1203  conventional  2015.0  TotalUS  \n",
       "1204  conventional  2015.0  TotalUS  \n",
       "1205  conventional  2015.0  TotalUS  \n",
       "1206  conventional  2015.0  TotalUS  "
      ]
     },
     "execution_count": 36,
     "metadata": {},
     "output_type": "execute_result"
    }
   ],
   "source": [
    "df[df[\"region\"]== \"TotalUS\"]"
   ]
  },
  {
   "cell_type": "code",
   "execution_count": null,
   "metadata": {},
   "outputs": [],
   "source": [
    "#\"Total US\" gives a wrong measue of the data, as it sums up the data so it is better to dropped "
   ]
  },
  {
   "cell_type": "code",
   "execution_count": 37,
   "metadata": {},
   "outputs": [
    {
     "name": "stdout",
     "output_type": "stream",
     "text": [
      "(1492, 13)\n"
     ]
    }
   ],
   "source": [
    "df.drop(df[df['region'] == \"TotalUS\"].index, inplace = True) \n",
    "# Print the shape of the dataframe \n",
    "print(df.shape)"
   ]
  },
  {
   "cell_type": "markdown",
   "metadata": {},
   "source": [
    "# Data Analysis"
   ]
  },
  {
   "cell_type": "code",
   "execution_count": 39,
   "metadata": {},
   "outputs": [
    {
     "name": "stdout",
     "output_type": "stream",
     "text": [
      "['conventional']\n"
     ]
    }
   ],
   "source": [
    "print(df['type'].unique())\n",
    "#\"Type\" Column Can be dropped as it has only one value i.e.,Conventional"
   ]
  },
  {
   "cell_type": "code",
   "execution_count": null,
   "metadata": {},
   "outputs": [],
   "source": [
    "#In dataset we have on one type of Avacadoe's which are \"conventional\" "
   ]
  },
  {
   "cell_type": "code",
   "execution_count": 38,
   "metadata": {},
   "outputs": [
    {
     "data": {
      "text/html": [
       "<div>\n",
       "<style scoped>\n",
       "    .dataframe tbody tr th:only-of-type {\n",
       "        vertical-align: middle;\n",
       "    }\n",
       "\n",
       "    .dataframe tbody tr th {\n",
       "        vertical-align: top;\n",
       "    }\n",
       "\n",
       "    .dataframe thead th {\n",
       "        text-align: right;\n",
       "    }\n",
       "</style>\n",
       "<table border=\"1\" class=\"dataframe\">\n",
       "  <thead>\n",
       "    <tr style=\"text-align: right;\">\n",
       "      <th></th>\n",
       "      <th>AveragePrice</th>\n",
       "      <th>Total Volume</th>\n",
       "      <th>4046</th>\n",
       "      <th>4225</th>\n",
       "      <th>4770</th>\n",
       "      <th>Total Bags</th>\n",
       "      <th>Small Bags</th>\n",
       "      <th>Large Bags</th>\n",
       "      <th>XLarge Bags</th>\n",
       "      <th>year</th>\n",
       "    </tr>\n",
       "  </thead>\n",
       "  <tbody>\n",
       "    <tr>\n",
       "      <th>count</th>\n",
       "      <td>1492.000000</td>\n",
       "      <td>1.492000e+03</td>\n",
       "      <td>1.492000e+03</td>\n",
       "      <td>1.492000e+03</td>\n",
       "      <td>1492.000000</td>\n",
       "      <td>1.492000e+03</td>\n",
       "      <td>1.492000e+03</td>\n",
       "      <td>1492.000000</td>\n",
       "      <td>1492.000000</td>\n",
       "      <td>1492.00000</td>\n",
       "    </tr>\n",
       "    <tr>\n",
       "      <th>mean</th>\n",
       "      <td>1.076052</td>\n",
       "      <td>1.076824e+06</td>\n",
       "      <td>4.189024e+05</td>\n",
       "      <td>4.132565e+05</td>\n",
       "      <td>35330.334832</td>\n",
       "      <td>2.093352e+05</td>\n",
       "      <td>1.772200e+05</td>\n",
       "      <td>30294.461267</td>\n",
       "      <td>1820.670047</td>\n",
       "      <td>2015.16555</td>\n",
       "    </tr>\n",
       "    <tr>\n",
       "      <th>std</th>\n",
       "      <td>0.190216</td>\n",
       "      <td>1.727371e+06</td>\n",
       "      <td>8.089122e+05</td>\n",
       "      <td>6.319854e+05</td>\n",
       "      <td>71187.963806</td>\n",
       "      <td>3.837528e+05</td>\n",
       "      <td>3.323543e+05</td>\n",
       "      <td>68220.274767</td>\n",
       "      <td>6707.327960</td>\n",
       "      <td>0.37180</td>\n",
       "    </tr>\n",
       "    <tr>\n",
       "      <th>min</th>\n",
       "      <td>0.490000</td>\n",
       "      <td>3.875074e+04</td>\n",
       "      <td>4.677200e+02</td>\n",
       "      <td>1.783770e+03</td>\n",
       "      <td>0.000000</td>\n",
       "      <td>3.311770e+03</td>\n",
       "      <td>3.311770e+03</td>\n",
       "      <td>0.000000</td>\n",
       "      <td>0.000000</td>\n",
       "      <td>2015.00000</td>\n",
       "    </tr>\n",
       "    <tr>\n",
       "      <th>25%</th>\n",
       "      <td>0.970000</td>\n",
       "      <td>1.459015e+05</td>\n",
       "      <td>1.991350e+04</td>\n",
       "      <td>4.101626e+04</td>\n",
       "      <td>863.037500</td>\n",
       "      <td>3.548741e+04</td>\n",
       "      <td>2.944999e+04</td>\n",
       "      <td>508.777500</td>\n",
       "      <td>0.000000</td>\n",
       "      <td>2015.00000</td>\n",
       "    </tr>\n",
       "    <tr>\n",
       "      <th>50%</th>\n",
       "      <td>1.080000</td>\n",
       "      <td>3.932236e+05</td>\n",
       "      <td>7.798568e+04</td>\n",
       "      <td>1.104232e+05</td>\n",
       "      <td>7292.550000</td>\n",
       "      <td>7.300698e+04</td>\n",
       "      <td>6.056674e+04</td>\n",
       "      <td>4736.270000</td>\n",
       "      <td>0.000000</td>\n",
       "      <td>2015.00000</td>\n",
       "    </tr>\n",
       "    <tr>\n",
       "      <th>75%</th>\n",
       "      <td>1.190000</td>\n",
       "      <td>9.303774e+05</td>\n",
       "      <td>3.294519e+05</td>\n",
       "      <td>4.552018e+05</td>\n",
       "      <td>26242.595000</td>\n",
       "      <td>1.488641e+05</td>\n",
       "      <td>1.346426e+05</td>\n",
       "      <td>26317.822500</td>\n",
       "      <td>329.470000</td>\n",
       "      <td>2015.00000</td>\n",
       "    </tr>\n",
       "    <tr>\n",
       "      <th>max</th>\n",
       "      <td>1.680000</td>\n",
       "      <td>1.036170e+07</td>\n",
       "      <td>4.668965e+06</td>\n",
       "      <td>3.950852e+06</td>\n",
       "      <td>478701.640000</td>\n",
       "      <td>3.056113e+06</td>\n",
       "      <td>2.693843e+06</td>\n",
       "      <td>699956.700000</td>\n",
       "      <td>108072.790000</td>\n",
       "      <td>2016.00000</td>\n",
       "    </tr>\n",
       "  </tbody>\n",
       "</table>\n",
       "</div>"
      ],
      "text/plain": [
       "       AveragePrice  Total Volume          4046          4225           4770  \\\n",
       "count   1492.000000  1.492000e+03  1.492000e+03  1.492000e+03    1492.000000   \n",
       "mean       1.076052  1.076824e+06  4.189024e+05  4.132565e+05   35330.334832   \n",
       "std        0.190216  1.727371e+06  8.089122e+05  6.319854e+05   71187.963806   \n",
       "min        0.490000  3.875074e+04  4.677200e+02  1.783770e+03       0.000000   \n",
       "25%        0.970000  1.459015e+05  1.991350e+04  4.101626e+04     863.037500   \n",
       "50%        1.080000  3.932236e+05  7.798568e+04  1.104232e+05    7292.550000   \n",
       "75%        1.190000  9.303774e+05  3.294519e+05  4.552018e+05   26242.595000   \n",
       "max        1.680000  1.036170e+07  4.668965e+06  3.950852e+06  478701.640000   \n",
       "\n",
       "         Total Bags    Small Bags     Large Bags    XLarge Bags        year  \n",
       "count  1.492000e+03  1.492000e+03    1492.000000    1492.000000  1492.00000  \n",
       "mean   2.093352e+05  1.772200e+05   30294.461267    1820.670047  2015.16555  \n",
       "std    3.837528e+05  3.323543e+05   68220.274767    6707.327960     0.37180  \n",
       "min    3.311770e+03  3.311770e+03       0.000000       0.000000  2015.00000  \n",
       "25%    3.548741e+04  2.944999e+04     508.777500       0.000000  2015.00000  \n",
       "50%    7.300698e+04  6.056674e+04    4736.270000       0.000000  2015.00000  \n",
       "75%    1.488641e+05  1.346426e+05   26317.822500     329.470000  2015.00000  \n",
       "max    3.056113e+06  2.693843e+06  699956.700000  108072.790000  2016.00000  "
      ]
     },
     "execution_count": 38,
     "metadata": {},
     "output_type": "execute_result"
    }
   ],
   "source": [
    "df.describe()"
   ]
  },
  {
   "cell_type": "markdown",
   "metadata": {},
   "source": [
    "From the availabe Data we can understand the follwing  \n",
    "\n",
    "#The dataset contains the data of Years 2015 and 2016 \n",
    "#This Data is Recoreded from 2015-01-02 - 2016-12-25\n",
    "\n",
    "#AveragePrice of Avacados range between 0.49\\\\$-1.68\\\\$\n",
    "\n",
    "#Total Volume sold range between 38K - 1,03,6170 \n",
    "\n",
    "#Total Bags range between 3K - 3,05,611"
   ]
  },
  {
   "cell_type": "code",
   "execution_count": 41,
   "metadata": {},
   "outputs": [],
   "source": [
    "df.drop(\"type\",axis=1,inplace=True)"
   ]
  },
  {
   "cell_type": "markdown",
   "metadata": {},
   "source": [
    "# EDA "
   ]
  },
  {
   "cell_type": "code",
   "execution_count": 48,
   "metadata": {},
   "outputs": [
    {
     "data": {
      "image/png": "[encoded data removed]",
      "text/plain": [
       "<Figure size 720x288 with 1 Axes>"
      ]
     },
     "metadata": {
      "needs_background": "light"
     },
     "output_type": "display_data"
    }
   ],
   "source": [
    "plt.subplots(figsize=(10, 4))\n",
    "sns.distplot(df.AveragePrice)\n",
    "plt.show()"
   ]
  },
  {
   "cell_type": "code",
   "execution_count": 49,
   "metadata": {
    "scrolled": false
   },
   "outputs": [
    {
     "name": "stdout",
     "output_type": "stream",
     "text": [
      "Skewness: -0.109444\n"
     ]
    }
   ],
   "source": [
    "print(\"Skewness: %f\" % df['AveragePrice'].skew())"
   ]
  },
  {
   "cell_type": "code",
   "execution_count": 42,
   "metadata": {},
   "outputs": [
    {
     "data": {
      "image/png": "[encoded data removed]",
      "text/plain": [
       "<Figure size 1080x432 with 1 Axes>"
      ]
     },
     "metadata": {
      "needs_background": "light"
     },
     "output_type": "display_data"
    }
   ],
   "source": [
    "plt.figure(figsize=(15,6))\n",
    "sns.barplot(x = 'region', y = 'AveragePrice', data = df, palette = 'vlag')\n",
    "plt.xticks(rotation = 90)\n",
    "plt.title(\"Region wise Average Price of Avacado's\", fontsize = 20)\n",
    "plt.show()"
   ]
  },
  {
   "cell_type": "code",
   "execution_count": 45,
   "metadata": {},
   "outputs": [
    {
     "data": {
      "image/png": "[encoded data removed]",
      "text/plain": [
       "<Figure size 1080x432 with 1 Axes>"
      ]
     },
     "metadata": {
      "needs_background": "light"
     },
     "output_type": "display_data"
    }
   ],
   "source": [
    "plt.figure(figsize=(15,6))\n",
    "sns.barplot(x = 'region', y = 'Total Volume', data = df, palette = 'Spectral')\n",
    "plt.xticks(rotation = 90)\n",
    "plt.title('Region wise average Total Volume', fontsize = 20)\n",
    "plt.show()"
   ]
  },
  {
   "cell_type": "code",
   "execution_count": 44,
   "metadata": {
    "scrolled": true
   },
   "outputs": [
    {
     "data": {
      "text/plain": [
       "<matplotlib.axes._subplots.AxesSubplot at 0x2a17f3d31c0>"
      ]
     },
     "execution_count": 44,
     "metadata": {},
     "output_type": "execute_result"
    },
    {
     "data": {
      "image/png": "[encoded data removed]",
      "text/plain": [
       "<Figure size 432x288 with 1 Axes>"
      ]
     },
     "metadata": {
      "needs_background": "light"
     },
     "output_type": "display_data"
    }
   ],
   "source": [
    "df.set_index(\"Date\",inplace=True)\n",
    "df[\"AveragePrice\"].plot()"
   ]
  },
  {
   "cell_type": "markdown",
   "metadata": {},
   "source": [
    "Average price has increased from \\\\$1.4 to \\\\$1.6 from April of 2016(2016-04)"
   ]
  },
  {
   "cell_type": "code",
   "execution_count": 50,
   "metadata": {},
   "outputs": [],
   "source": [
    "#To better understand the data we should change the region data using label Encoder\n",
    "from sklearn.preprocessing import LabelEncoder\n",
    "le=LabelEncoder()\n",
    "df[[\"region\"]] = df[[\"region\"]].apply(le.fit_transform)"
   ]
  },
  {
   "cell_type": "code",
   "execution_count": 47,
   "metadata": {},
   "outputs": [
    {
     "data": {
      "image/png": "[encoded data removed]",
      "text/plain": [
       "<Figure size 576x504 with 2 Axes>"
      ]
     },
     "metadata": {
      "needs_background": "light"
     },
     "output_type": "display_data"
    }
   ],
   "source": [
    "corr_hmap= df.corr()\n",
    "plt.figure(figsize=(8,7))\n",
    "sns.heatmap(corr_hmap,annot=True)\n",
    "plt.show()"
   ]
  },
  {
   "cell_type": "code",
   "execution_count": 48,
   "metadata": {},
   "outputs": [
    {
     "data": {
      "image/png": "[encoded data removed]",
      "text/plain": [
       "<Figure size 576x432 with 1 Axes>"
      ]
     },
     "metadata": {
      "needs_background": "light"
     },
     "output_type": "display_data"
    }
   ],
   "source": [
    "plt.figure(figsize=(8,6))\n",
    "df.drop(\"AveragePrice\",axis=1).corrwith(df[\"AveragePrice\"]).plot(kind=\"bar\",grid=True)\n",
    "plt.xticks(rotation=30)\n",
    "plt.show()"
   ]
  },
  {
   "cell_type": "code",
   "execution_count": 49,
   "metadata": {},
   "outputs": [
    {
     "data": {
      "image/png": "[encoded data removed]",
      "text/plain": [
       "<Figure size 576x432 with 1 Axes>"
      ]
     },
     "metadata": {
      "needs_background": "light"
     },
     "output_type": "display_data"
    }
   ],
   "source": [
    "plt.figure(figsize=(8,6))\n",
    "df.drop(\"region\",axis=1).corrwith(df[\"region\"]).plot(kind=\"bar\",grid=True)\n",
    "plt.xticks(rotation=30)\n",
    "plt.show()"
   ]
  },
  {
   "cell_type": "markdown",
   "metadata": {},
   "source": [
    "# EDA Concluding Remarks"
   ]
  },
  {
   "cell_type": "code",
   "execution_count": 136,
   "metadata": {},
   "outputs": [],
   "source": [
    "#Total Volume\n",
    "#Regions California, SouthCentral and West have heighes Average Volume\n",
    "#Followed by Southeast, GreatLakes, Northeast ,MidSouth, LosAngeles\n",
    "\n",
    "#Average Price \n",
    "#Average price has increased from \\\\$1.4 to \\\\$1.6 from April of 2016(2016-04)\n",
    "\n",
    "#\\\\\\\\\\\\\\\\\\\\\\\\\\\\\\\\\\\\\\\\\\\\\\\\\\\\\\\\\\\\\\\\\\\\\\\\\\\\\\\\\\\\\\\\\\\\\\\\\\\\\\\\\\\n",
    "\n",
    "#Correlation of Attributes with that of Average Price \n",
    "\n",
    "#Positive  Correlation with Target\n",
    "#year - \"18%\"\n",
    "\n",
    "#Negative Correlation with Target\n",
    "\n",
    "#Total Volume - \"-26%\"\n",
    "#4046    - \"-36%\"\n",
    "#4225    - \"-13%\"\n",
    "#4770    - \"-12%\" \n",
    "#Total Bags- \"-15%\"\n",
    "#region-\"-22%\"\n",
    "\n",
    "#\\\\\\\\\\\\\\\\\\\\\\\\\\\\\\\\\\\\\\\\\\\\\\\\\\\\\\\\\\\\\\\\\\\\\\\\\\\\\\\\\\\\\\\\\\\\\\\\\\\\\\\\\\\n",
    "\n",
    "#Correlation of attributes with that of region \n",
    "\n",
    "#Positive Correlation with Target\n",
    "\n",
    "#Total Volume - \"10%\"\n",
    "#4046    - \"18%\"\n",
    "#4225    - \"4%\"\n",
    "\n",
    "#Negative Correlation with Target\n",
    "#year - \"-47%\"\n",
    "#4770    - \"-9%\" \n",
    "#Average Price - \"-22%\""
   ]
  },
  {
   "cell_type": "markdown",
   "metadata": {},
   "source": [
    "# Pre-processing Pipeline"
   ]
  },
  {
   "cell_type": "code",
   "execution_count": 52,
   "metadata": {},
   "outputs": [],
   "source": [
    "#To better understand the data we should change the region data using label Encoder\n",
    "from sklearn.preprocessing import LabelEncoder\n",
    "le=LabelEncoder()\n",
    "df[[\"region\"]] = df[[\"region\"]].apply(le.fit_transform)"
   ]
  },
  {
   "cell_type": "code",
   "execution_count": null,
   "metadata": {},
   "outputs": [],
   "source": [
    "#we are going to predict the average price "
   ]
  },
  {
   "cell_type": "code",
   "execution_count": 119,
   "metadata": {},
   "outputs": [],
   "source": [
    "y=df[\"AveragePrice\"]\n",
    "x=df.drop(\"AveragePrice\", axis=1)"
   ]
  },
  {
   "cell_type": "code",
   "execution_count": 120,
   "metadata": {},
   "outputs": [],
   "source": [
    "from sklearn.preprocessing import StandardScaler\n",
    "sc=StandardScaler()\n",
    "x_t=sc.fit_transform(x)\n",
    "from sklearn.model_selection import train_test_split\n",
    "from sklearn.model_selection import KFold, cross_val_score, GridSearchCV\n",
    "lr=LinearRegression()\n",
    "from sklearn.metrics import r2_score\n",
    "import warnings\n",
    "warnings.filterwarnings(\"ignore\")"
   ]
  },
  {
   "cell_type": "code",
   "execution_count": 121,
   "metadata": {},
   "outputs": [
    {
     "name": "stdout",
     "output_type": "stream",
     "text": [
      "At random state 477 The model Perfomes very well\n",
      "Training r2_score is: 21.416267574689552\n",
      "Testing r2_score is: 21.42456781914711\n",
      "At random state 483 The model Perfomes very well\n",
      "Training r2_score is: 21.346460308948533\n",
      "Testing r2_score is: 21.3534237740566\n"
     ]
    }
   ],
   "source": [
    "max_scr=0\n",
    "for i in range(30,1000):\n",
    "    x_train,x_test,y_train,y_test=train_test_split(x_t,y,test_size=.20,random_state=i)\n",
    "    lr.fit(x_train,y_train)\n",
    "    pred_train=lr.predict(x_train)\n",
    "    pred_test=lr.predict(x_test)\n",
    "    if round(r2_score(y_train,pred_train)*100,2)==round(r2_score(y_test,pred_test)*100,2):\n",
    "        print(\"At random state\",i,\"The model Perfomes very well\")\n",
    "        print(\"Training r2_score is:\",r2_score(y_train,pred_train)*100)\n",
    "        print(\"Testing r2_score is:\",r2_score(y_test,pred_test)*100)"
   ]
  },
  {
   "cell_type": "code",
   "execution_count": 122,
   "metadata": {},
   "outputs": [],
   "source": [
    "x_train,x_test,y_train,y_test=train_test_split(x_t,y,test_size=.20,random_state=477)\n",
    "num_folds = 10\n",
    "seed = 477\n",
    "scoring = 'neg_mean_squared_error'"
   ]
  },
  {
   "cell_type": "markdown",
   "metadata": {},
   "source": [
    "# Building Machine Learning Models"
   ]
  },
  {
   "cell_type": "code",
   "execution_count": 63,
   "metadata": {},
   "outputs": [],
   "source": [
    "models= [\n",
    "    (\"Lasso\",Lasso()),\n",
    "    (\"Linear Regression\",LinearRegression()),\n",
    "    (\"Decision Tree\", DecisionTreeRegressor()),\n",
    "    (\"Ridge Regression\",Ridge()),\n",
    "    (\"KNearest Neighbors\",KNeighborsRegressor(3)),\n",
    "    (\"SVR\",SVR()),\n",
    "    (\"RandomForestRegressor\",RandomForestRegressor())\n",
    "    ]"
   ]
  },
  {
   "cell_type": "code",
   "execution_count": 64,
   "metadata": {},
   "outputs": [
    {
     "name": "stdout",
     "output_type": "stream",
     "text": [
      "R2 Score with Lasso: -0.000369 \n",
      "R2 Score with Linear Regression: 0.214246 \n",
      "R2 Score with Decision Tree: 0.688116 \n",
      "R2 Score with Ridge Regression: 0.214266 \n",
      "R2 Score with KNearest Neighbors: 0.831895 \n",
      "R2 Score with SVR: 0.550903 \n",
      "R2 Score with RandomForestRegressor: 0.804526 \n"
     ]
    }
   ],
   "source": [
    "results = []\n",
    "names = []\n",
    "for name, model in models:\n",
    "    model.fit(x_train,y_train)\n",
    "    y_pred = model.predict(x_test)\n",
    "    R2 = r2_score(y_test,y_pred)\n",
    "    results.append(R2)\n",
    "    names.append(name)\n",
    "    msg = \"R2 Score with \"\"%s: %f \" % (name, R2)\n",
    "    print(msg)\n"
   ]
  },
  {
   "cell_type": "markdown",
   "metadata": {},
   "source": [
    "We can observe a significant jump in the score when we used KNearest Neighbors and RandomForestRegressor with 80%+ Accuracy "
   ]
  },
  {
   "cell_type": "code",
   "execution_count": 77,
   "metadata": {},
   "outputs": [],
   "source": [
    "#we Can go ahead with hyper parameter tuning for both KNN and RandomForestRegressor "
   ]
  },
  {
   "cell_type": "code",
   "execution_count": 65,
   "metadata": {},
   "outputs": [
    {
     "name": "stdout",
     "output_type": "stream",
     "text": [
      "{'metric': 'manhattan', 'n_neighbors': 3, 'weights': 'distance'}\n"
     ]
    }
   ],
   "source": [
    "\n",
    "# example of grid searching key hyperparametres for KNeighborsClassifier\n",
    "from sklearn.model_selection import GridSearchCV\n",
    "\n",
    "# define models and parameters\n",
    "model = KNeighborsRegressor()\n",
    "n_neighbors = range(1, 13, 2)\n",
    "weights = ['uniform', 'distance']\n",
    "metric = ['euclidean', 'manhattan', 'minkowski']\n",
    "grid = dict(n_neighbors=n_neighbors,weights=weights,metric=metric)\n",
    "\n",
    "clf=GridSearchCV(model,grid)\n",
    "clf.fit(x_train,y_train)\n",
    "print(clf.best_params_)"
   ]
  },
  {
   "cell_type": "code",
   "execution_count": 66,
   "metadata": {},
   "outputs": [
    {
     "name": "stdout",
     "output_type": "stream",
     "text": [
      "r2 score is : 85.47390469773678\n",
      "Cross value Score: 0.03856187944717434\n"
     ]
    }
   ],
   "source": [
    "KNN= KNeighborsRegressor(metric= 'manhattan', n_neighbors= 3, weights= 'distance')\n",
    "KNN.fit(x_train,y_train)\n",
    "KNN.score(x_train,y_train)\n",
    "y_pred = KNN.predict(x_test)\n",
    "\n",
    "KNNs = r2_score(y_test,y_pred)\n",
    "print(\"r2 score is :\",KNNs*100)\n",
    "\n",
    "KNNscore=cross_val_score(KNN,x_t,y,cv=3)\n",
    "KNNc=KNNscore.mean()\n",
    "print(\"Cross value Score:\",KNNc)"
   ]
  },
  {
   "cell_type": "code",
   "execution_count": 67,
   "metadata": {},
   "outputs": [
    {
     "data": {
      "image/png": "[encoded data removed]",
      "text/plain": [
       "<Figure size 576x432 with 1 Axes>"
      ]
     },
     "metadata": {
      "needs_background": "light"
     },
     "output_type": "display_data"
    }
   ],
   "source": [
    "plt.figure(figsize=(8,6))\n",
    "plt.scatter(x=y_test,y=y_pred,color='r')\n",
    "plt.plot(y_test,y_test,color='b')\n",
    "plt.title(\"KNN Regressor\",fontsize=18)\n",
    "plt.show()"
   ]
  },
  {
   "cell_type": "code",
   "execution_count": 68,
   "metadata": {},
   "outputs": [
    {
     "name": "stdout",
     "output_type": "stream",
     "text": [
      "{'criterion': 'mse', 'max_depth': 20, 'n_estimators': 30}\n"
     ]
    }
   ],
   "source": [
    "model=RandomForestRegressor()\n",
    "\n",
    "n_estimators= [10,20,30]\n",
    "max_features= [5, 10], \n",
    "max_depth= [10,20,50, None] \n",
    "bootstrap = [True, False]\n",
    "criterion= [\"mse\", \"mae\"]\n",
    "    \n",
    "grid = dict(n_estimators=n_estimators,max_depth=max_depth, criterion=criterion)  \n",
    "\n",
    "clf=GridSearchCV(model,grid)\n",
    "clf.fit(x_train,y_train)\n",
    "print(clf.best_params_)"
   ]
  },
  {
   "cell_type": "code",
   "execution_count": 71,
   "metadata": {},
   "outputs": [
    {
     "name": "stdout",
     "output_type": "stream",
     "text": [
      "r2 score is : 80.68955671901526\n",
      "Cross value Score: 0.18763000745426495\n"
     ]
    }
   ],
   "source": [
    "rf = RandomForestRegressor(criterion = 'mse', max_depth = 20, n_estimators=30)\n",
    "rf.fit(x_train,y_train)\n",
    "rf.score(x_train,y_train)\n",
    "y_predrf = rf.predict(x_test)\n",
    "\n",
    "rfs = r2_score(y_test,y_predrf)\n",
    "print(\"r2 score is :\",rfs*100)\n",
    "\n",
    "rfscore=cross_val_score(rf,x_t,y,cv=3)\n",
    "rfc=rfscore.mean()\n",
    "print(\"Cross value Score:\",rfc)"
   ]
  },
  {
   "cell_type": "markdown",
   "metadata": {},
   "source": [
    "Randon forest was not able to improve the score so we are going ahead with KNN"
   ]
  },
  {
   "cell_type": "code",
   "execution_count": 73,
   "metadata": {},
   "outputs": [
    {
     "name": "stdout",
     "output_type": "stream",
     "text": [
      "KNN Mean Absolute Error: 0.05\n",
      "\n",
      "KNN Mean Squared Error: 0.0\n",
      "\n",
      "KNN R^2 Score: 85.47\n",
      "\n",
      "KNN Cross val Score: 0.1833\n",
      "\n"
     ]
    }
   ],
   "source": [
    "from sklearn.metrics import mean_absolute_error as MAE\n",
    "from sklearn.metrics import mean_squared_error as MSE\n",
    "#score variables\n",
    "rf_MAE = round(MAE(y_test, y_pred),2)\n",
    "rf_MSE = round(MSE(y_test, y_pred),2)\n",
    "rf_R_2 = round(r2_score(y_test, y_pred),4)\n",
    "rf_CS  = round(cross_val_score(rf,x_t,y,cv=3).mean(),4)\n",
    "\n",
    "print(f\"KNN Mean Absolute Error: {rf_MAE}\\n\")\n",
    "print(f\"KNN Mean Squared Error: {rf_MSE}\\n\")\n",
    "print(f\"KNN R^2 Score: {rf_R_2*100}\\n\")\n",
    "print(f\"KNN Cross val Score: {rf_CS}\\n\")"
   ]
  },
  {
   "cell_type": "code",
   "execution_count": 74,
   "metadata": {},
   "outputs": [
    {
     "name": "stdout",
     "output_type": "stream",
     "text": [
      "RFR Mean Absolute Error: 0.06\n",
      "\n",
      "RFR Mean Squared Error: 0.01\n",
      "\n",
      "RFR R^2 Score: 80.69\n",
      "\n",
      "RFR Cross val Score: 0.2353\n",
      "\n"
     ]
    }
   ],
   "source": [
    "rf_MAE = round(MAE(y_test, y_predrf),2)\n",
    "rf_MSE = round(MSE(y_test, y_predrf),2)\n",
    "rf_R_2 = round(r2_score(y_test,y_predrf),4)\n",
    "rf_CS  = round(cross_val_score(rf,x_t,y,cv=3).mean(),4)\n",
    "\n",
    "print(f\"RFR Mean Absolute Error: {rf_MAE}\\n\")\n",
    "print(f\"RFR Mean Squared Error: {rf_MSE}\\n\")\n",
    "print(f\"RFR R^2 Score: {rf_R_2*100}\\n\")\n",
    "print(f\"RFR Cross val Score: {rf_CS}\\n\")"
   ]
  },
  {
   "cell_type": "code",
   "execution_count": 82,
   "metadata": {},
   "outputs": [
    {
     "name": "stdout",
     "output_type": "stream",
     "text": [
      "[AdaBoostRegressor()]:\n",
      "0.5709919637115426\n",
      "0.19514791822155722 4\n",
      "****************************************************************\n",
      "\n",
      "\n",
      "[AdaBoostRegressor(), ExtraTreesRegressor()]:\n",
      "0.8738252229960657\n",
      "0.1866873782438289 4\n",
      "****************************************************************\n",
      "\n",
      "\n",
      "[AdaBoostRegressor(), ExtraTreesRegressor(), GradientBoostingRegressor()]:\n",
      "0.7269445785545643\n",
      "0.2160188687189166 4\n",
      "****************************************************************\n",
      "\n",
      "\n"
     ]
    }
   ],
   "source": [
    "\n",
    "models= [AdaBoostRegressor(), ExtraTreesRegressor(), GradientBoostingRegressor()]\n",
    "names = []\n",
    "\n",
    "for m in models:\n",
    "    m.fit(x_train, y_train)\n",
    "    m.score(x_train, y_train)\n",
    "    predm = m.predict(x_test)\n",
    "    names.append(m)\n",
    "    msg = \"%s:\" % (names)\n",
    "    print(msg)\n",
    "    print(r2_score(y_test, predm)) \n",
    "    print(cross_val_score(rf,x_t,y,cv=3).mean(),4)\n",
    "    print(\"****************************************************************\")\n",
    "    print(\"\\n\")"
   ]
  },
  {
   "cell_type": "code",
   "execution_count": 78,
   "metadata": {},
   "outputs": [
    {
     "name": "stdout",
     "output_type": "stream",
     "text": [
      "r2 score is : 84.94440568937165\n",
      "Cross value Score: 0.01683363353107466\n"
     ]
    }
   ],
   "source": [
    "from sklearn.ensemble import AdaBoostRegressor\n",
    "#Creating AdaBoost Regressor \n",
    "ad=AdaBoostRegressor(n_estimators=50,base_estimator=KNN)\n",
    "ad.fit(x_train,y_train)\n",
    "\n",
    "ad_pred= ad.predict(x_test)\n",
    "ABs = r2_score(y_test,ad_pred)\n",
    "print(\"r2 score is :\",ABs*100)\n",
    "\n",
    "ABscore=cross_val_score(ad,x_t,y,cv=3)\n",
    "ABc=ABscore.mean()\n",
    "print(\"Cross value Score:\",ABc)"
   ]
  },
  {
   "cell_type": "code",
   "execution_count": 80,
   "metadata": {},
   "outputs": [
    {
     "name": "stdout",
     "output_type": "stream",
     "text": [
      "AB Mean Absolute Error: 0.05\n",
      "\n",
      "AB Mean Squared Error: 0.01\n",
      "\n",
      "AB R^2 Score: 84.94\n",
      "\n",
      "AB val Score: 0.0258\n",
      "\n"
     ]
    }
   ],
   "source": [
    "Ad_MAE = round(MAE(y_test, ad_pred),2)\n",
    "Ad_MSE = round(MSE(y_test, ad_pred),2)\n",
    "Ad_R_2 = round(r2_score(y_test, ad_pred),4)\n",
    "Ad_CS  = round(cross_val_score(ad,x_t,y,cv=3).mean(),4)\n",
    "\n",
    "print(f\"AB Mean Absolute Error: {Ad_MAE}\\n\")\n",
    "print(f\"AB Mean Squared Error: {Ad_MSE}\\n\")\n",
    "print(f\"AB R^2 Score: {Ad_R_2*100}\\n\")\n",
    "print(f\"AB val Score: {Ad_CS}\\n\")"
   ]
  },
  {
   "cell_type": "code",
   "execution_count": 119,
   "metadata": {},
   "outputs": [
    {
     "data": {
      "image/png": "[encoded data removed]",
      "text/plain": [
       "<Figure size 576x432 with 1 Axes>"
      ]
     },
     "metadata": {
      "needs_background": "light"
     },
     "output_type": "display_data"
    }
   ],
   "source": [
    "plt.figure(figsize=(8,6))\n",
    "plt.scatter(x=y_test,y=ad_pred,color='r')\n",
    "plt.plot(y_test,y_test,color='b')\n",
    "plt.title(\"AdaBoost Regressor\",fontsize=18)\n",
    "plt.show()"
   ]
  },
  {
   "cell_type": "code",
   "execution_count": 123,
   "metadata": {},
   "outputs": [
    {
     "name": "stdout",
     "output_type": "stream",
     "text": [
      "r2 score is : 86.87440699518781\n",
      "Cross value Score: 0.313143463353758\n"
     ]
    }
   ],
   "source": [
    "ETR=ExtraTreesRegressor(n_estimators=100)\n",
    "ETR.fit(x_train,y_train)\n",
    "\n",
    "ETR_pred= ETR.predict(x_test)\n",
    "ETRs = r2_score(y_test,ETR_pred)\n",
    "print(\"r2 score is :\",ETRs*100)\n",
    "\n",
    "ETRscore=cross_val_score(ETR,x_t,y,cv=3)\n",
    "ETRc=ETRscore.mean()\n",
    "print(\"Cross value Score:\",ETRc)"
   ]
  },
  {
   "cell_type": "code",
   "execution_count": 124,
   "metadata": {},
   "outputs": [
    {
     "name": "stdout",
     "output_type": "stream",
     "text": [
      "ETR Mean Absolute Error: 0.05\n",
      "\n",
      "ETR Mean Squared Error: 0.0\n",
      "\n",
      "ETR R^2 Score: 86.87\n",
      "\n",
      "ETR val Score: 0.3379\n",
      "\n"
     ]
    }
   ],
   "source": [
    "ETR_MAE = round(MAE(y_test, ETR_pred),2)\n",
    "ETR_MSE = round(MSE(y_test, ETR_pred),2)\n",
    "ETR_R_2 = round(r2_score(y_test, ETR_pred),4)\n",
    "ETR_CS  = round(cross_val_score(ETR,x_t,y,cv=3).mean(),4)\n",
    "\n",
    "print(f\"ETR Mean Absolute Error: {ETR_MAE}\\n\")\n",
    "print(f\"ETR Mean Squared Error: {ETR_MSE}\\n\")\n",
    "print(f\"ETR R^2 Score: {ETR_R_2*100}\\n\")\n",
    "print(f\"ETR val Score: {ETR_CS}\\n\")"
   ]
  },
  {
   "cell_type": "code",
   "execution_count": 125,
   "metadata": {},
   "outputs": [
    {
     "data": {
      "image/png": "[encoded data removed]",
      "text/plain": [
       "<Figure size 576x432 with 1 Axes>"
      ]
     },
     "metadata": {
      "needs_background": "light"
     },
     "output_type": "display_data"
    }
   ],
   "source": [
    "plt.figure(figsize=(8,6))\n",
    "plt.scatter(x=y_test,y=ETR_pred,color='r')\n",
    "plt.plot(y_test,y_test,color='b')\n",
    "plt.title(\"ExtraTree Regressor\",fontsize=18)\n",
    "plt.show()"
   ]
  },
  {
   "cell_type": "code",
   "execution_count": 110,
   "metadata": {},
   "outputs": [
    {
     "data": {
      "text/plain": [
       "ExtraTreesRegressor()"
      ]
     },
     "execution_count": 110,
     "metadata": {},
     "output_type": "execute_result"
    }
   ],
   "source": [
    "model= ExtraTreesRegressor(n_estimators=100)\n",
    "model.fit(x_train, y_train)"
   ]
  },
  {
   "cell_type": "code",
   "execution_count": 126,
   "metadata": {},
   "outputs": [
    {
     "data": {
      "text/html": [
       "<div>\n",
       "<style scoped>\n",
       "    .dataframe tbody tr th:only-of-type {\n",
       "        vertical-align: middle;\n",
       "    }\n",
       "\n",
       "    .dataframe tbody tr th {\n",
       "        vertical-align: top;\n",
       "    }\n",
       "\n",
       "    .dataframe thead th {\n",
       "        text-align: right;\n",
       "    }\n",
       "</style>\n",
       "<table border=\"1\" class=\"dataframe\">\n",
       "  <thead>\n",
       "    <tr style=\"text-align: right;\">\n",
       "      <th></th>\n",
       "      <th>Original</th>\n",
       "      <th>Predicted</th>\n",
       "    </tr>\n",
       "    <tr>\n",
       "      <th>Date</th>\n",
       "      <th></th>\n",
       "      <th></th>\n",
       "    </tr>\n",
       "  </thead>\n",
       "  <tbody>\n",
       "    <tr>\n",
       "      <th>2016-08-28</th>\n",
       "      <td>1.37</td>\n",
       "      <td>1.2944</td>\n",
       "    </tr>\n",
       "    <tr>\n",
       "      <th>2015-06-28</th>\n",
       "      <td>1.36</td>\n",
       "      <td>1.3310</td>\n",
       "    </tr>\n",
       "    <tr>\n",
       "      <th>2016-01-05</th>\n",
       "      <td>0.63</td>\n",
       "      <td>0.6464</td>\n",
       "    </tr>\n",
       "    <tr>\n",
       "      <th>2015-07-26</th>\n",
       "      <td>1.18</td>\n",
       "      <td>1.1568</td>\n",
       "    </tr>\n",
       "    <tr>\n",
       "      <th>2015-11-22</th>\n",
       "      <td>1.06</td>\n",
       "      <td>1.0492</td>\n",
       "    </tr>\n",
       "    <tr>\n",
       "      <th>...</th>\n",
       "      <td>...</td>\n",
       "      <td>...</td>\n",
       "    </tr>\n",
       "    <tr>\n",
       "      <th>2015-08-03</th>\n",
       "      <td>1.07</td>\n",
       "      <td>1.0958</td>\n",
       "    </tr>\n",
       "    <tr>\n",
       "      <th>2015-01-11</th>\n",
       "      <td>1.02</td>\n",
       "      <td>1.1449</td>\n",
       "    </tr>\n",
       "    <tr>\n",
       "      <th>2016-12-06</th>\n",
       "      <td>1.01</td>\n",
       "      <td>1.0175</td>\n",
       "    </tr>\n",
       "    <tr>\n",
       "      <th>2016-10-07</th>\n",
       "      <td>1.25</td>\n",
       "      <td>1.2768</td>\n",
       "    </tr>\n",
       "    <tr>\n",
       "      <th>2015-09-27</th>\n",
       "      <td>0.91</td>\n",
       "      <td>0.8796</td>\n",
       "    </tr>\n",
       "  </tbody>\n",
       "</table>\n",
       "<p>299 rows × 2 columns</p>\n",
       "</div>"
      ],
      "text/plain": [
       "            Original  Predicted\n",
       "Date                           \n",
       "2016-08-28      1.37     1.2944\n",
       "2015-06-28      1.36     1.3310\n",
       "2016-01-05      0.63     0.6464\n",
       "2015-07-26      1.18     1.1568\n",
       "2015-11-22      1.06     1.0492\n",
       "...              ...        ...\n",
       "2015-08-03      1.07     1.0958\n",
       "2015-01-11      1.02     1.1449\n",
       "2016-12-06      1.01     1.0175\n",
       "2016-10-07      1.25     1.2768\n",
       "2015-09-27      0.91     0.8796\n",
       "\n",
       "[299 rows x 2 columns]"
      ]
     },
     "execution_count": 126,
     "metadata": {},
     "output_type": "execute_result"
    }
   ],
   "source": [
    "df_pred=pd.DataFrame({\"Original\":y_test,\"Predicted\":ETR_pred})\n",
    "df_pred"
   ]
  },
  {
   "cell_type": "code",
   "execution_count": 111,
   "metadata": {},
   "outputs": [
    {
     "data": {
      "text/plain": [
       "['AvacadoPrice.pkl']"
      ]
     },
     "execution_count": 111,
     "metadata": {},
     "output_type": "execute_result"
    }
   ],
   "source": [
    "import joblib\n",
    "joblib.dump(model,\"AvacadoPrice.pkl\")"
   ]
  },
  {
   "cell_type": "raw",
   "metadata": {},
   "source": [
    "We have been able to achive a\n",
    "R2 Score of  86.87%\n",
    "Cross val Score: 33.79%\n",
    "Using ExtraTreesRegressor "
   ]
  },
  {
   "cell_type": "raw",
   "metadata": {},
   "source": [
    " we have prepered the Model for price prediction we can now build the Region Classifier Model "
   ]
  },
  {
   "cell_type": "code",
   "execution_count": 127,
   "metadata": {},
   "outputs": [],
   "source": [
    "y_r=df[\"region\"]\n",
    "x_r=df.drop(\"region\", axis=1)"
   ]
  },
  {
   "cell_type": "code",
   "execution_count": 88,
   "metadata": {},
   "outputs": [],
   "source": [
    "from sklearn.preprocessing import StandardScaler\n",
    "sc=StandardScaler()\n",
    "x_t=sc.fit_transform(x_r)\n",
    "from sklearn.model_selection import train_test_split\n",
    "from sklearn.model_selection import KFold, cross_val_score, GridSearchCV\n",
    "lr=LogisticRegression()\n",
    "from sklearn.metrics import accuracy_score,confusion_matrix,classification_report\n",
    "import warnings\n",
    "warnings.filterwarnings(\"ignore\")"
   ]
  },
  {
   "cell_type": "code",
   "execution_count": 89,
   "metadata": {},
   "outputs": [
    {
     "name": "stdout",
     "output_type": "stream",
     "text": [
      "At random state 30 The model Perfomes very well\n",
      "Training accuracy_score is: 59.43000838222967\n",
      "Testing accuracy_score is: 0.5785953177257525\n",
      "\n",
      "\n",
      "At random state 31 The model Perfomes very well\n",
      "Training accuracy_score is: 63.034367141659686\n",
      "Testing accuracy_score is: 0.5752508361204013\n",
      "\n",
      "\n",
      "At random state 34 The model Perfomes very well\n",
      "Training accuracy_score is: 61.60938809723386\n",
      "Testing accuracy_score is: 0.5819397993311036\n",
      "\n",
      "\n",
      "At random state 35 The model Perfomes very well\n",
      "Training accuracy_score is: 60.35205364626991\n",
      "Testing accuracy_score is: 0.5852842809364549\n",
      "\n",
      "\n",
      "At random state 36 The model Perfomes very well\n",
      "Training accuracy_score is: 61.52556580050293\n",
      "Testing accuracy_score is: 0.5785953177257525\n",
      "\n",
      "\n",
      "At random state 37 The model Perfomes very well\n",
      "Training accuracy_score is: 62.447611064543175\n",
      "Testing accuracy_score is: 0.5819397993311036\n",
      "\n",
      "\n",
      "At random state 38 The model Perfomes very well\n",
      "Training accuracy_score is: 62.86672254819782\n",
      "Testing accuracy_score is: 0.5953177257525084\n",
      "\n",
      "\n",
      "At random state 39 The model Perfomes very well\n",
      "Training accuracy_score is: 61.10645431684828\n",
      "Testing accuracy_score is: 0.5351170568561873\n",
      "\n",
      "\n",
      "At random state 40 The model Perfomes very well\n",
      "Training accuracy_score is: 62.447611064543175\n",
      "Testing accuracy_score is: 0.5585284280936454\n",
      "\n",
      "\n",
      "At random state 41 The model Perfomes very well\n",
      "Training accuracy_score is: 62.2799664710813\n",
      "Testing accuracy_score is: 0.5250836120401338\n",
      "\n",
      "\n",
      "At random state 43 The model Perfomes very well\n",
      "Training accuracy_score is: 62.11232187761945\n",
      "Testing accuracy_score is: 0.5217391304347826\n",
      "\n",
      "\n",
      "At random state 45 The model Perfomes very well\n",
      "Training accuracy_score is: 61.27409891031014\n",
      "Testing accuracy_score is: 0.5785953177257525\n",
      "\n",
      "\n",
      "At random state 46 The model Perfomes very well\n",
      "Training accuracy_score is: 60.43587594300084\n",
      "Testing accuracy_score is: 0.5886287625418061\n",
      "\n",
      "\n",
      "At random state 47 The model Perfomes very well\n",
      "Training accuracy_score is: 61.02263202011735\n",
      "Testing accuracy_score is: 0.6053511705685619\n",
      "\n",
      "\n",
      "At random state 48 The model Perfomes very well\n",
      "Training accuracy_score is: 58.4241408214585\n",
      "Testing accuracy_score is: 0.5451505016722408\n",
      "\n",
      "\n",
      "At random state 50 The model Perfomes very well\n",
      "Training accuracy_score is: 63.956412405699915\n",
      "Testing accuracy_score is: 0.5886287625418061\n",
      "\n",
      "\n",
      "At random state 51 The model Perfomes very well\n",
      "Training accuracy_score is: 60.016764459346184\n",
      "Testing accuracy_score is: 0.568561872909699\n",
      "\n",
      "\n",
      "At random state 54 The model Perfomes very well\n",
      "Training accuracy_score is: 61.19027661357921\n",
      "Testing accuracy_score is: 0.5418060200668896\n",
      "\n",
      "\n",
      "At random state 55 The model Perfomes very well\n",
      "Training accuracy_score is: 61.441743503772\n",
      "Testing accuracy_score is: 0.5919732441471572\n",
      "\n",
      "\n",
      "At random state 56 The model Perfomes very well\n",
      "Training accuracy_score is: 62.02849958088852\n",
      "Testing accuracy_score is: 0.5518394648829431\n",
      "\n",
      "\n",
      "At random state 57 The model Perfomes very well\n",
      "Training accuracy_score is: 61.27409891031014\n",
      "Testing accuracy_score is: 0.5852842809364549\n",
      "\n",
      "\n",
      "At random state 58 The model Perfomes very well\n",
      "Training accuracy_score is: 61.35792120704108\n",
      "Testing accuracy_score is: 0.5551839464882943\n",
      "\n",
      "\n",
      "At random state 59 The model Perfomes very well\n",
      "Training accuracy_score is: 61.77703269069572\n",
      "Testing accuracy_score is: 0.5083612040133779\n",
      "\n",
      "\n",
      "At random state 60 The model Perfomes very well\n",
      "Training accuracy_score is: 60.93880972338642\n",
      "Testing accuracy_score is: 0.5652173913043478\n",
      "\n",
      "\n",
      "At random state 62 The model Perfomes very well\n",
      "Training accuracy_score is: 63.285834031852474\n",
      "Testing accuracy_score is: 0.5719063545150501\n",
      "\n",
      "\n",
      "At random state 63 The model Perfomes very well\n",
      "Training accuracy_score is: 62.02849958088852\n",
      "Testing accuracy_score is: 0.5785953177257525\n",
      "\n",
      "\n",
      "At random state 64 The model Perfomes very well\n",
      "Training accuracy_score is: 61.441743503772\n",
      "Testing accuracy_score is: 0.48494983277591974\n",
      "\n",
      "\n",
      "At random state 65 The model Perfomes very well\n",
      "Training accuracy_score is: 61.02263202011735\n",
      "Testing accuracy_score is: 0.5852842809364549\n",
      "\n",
      "\n",
      "At random state 66 The model Perfomes very well\n",
      "Training accuracy_score is: 61.19027661357921\n",
      "Testing accuracy_score is: 0.568561872909699\n",
      "\n",
      "\n",
      "At random state 67 The model Perfomes very well\n",
      "Training accuracy_score is: 59.68147527242247\n",
      "Testing accuracy_score is: 0.5585284280936454\n",
      "\n",
      "\n",
      "At random state 69 The model Perfomes very well\n",
      "Training accuracy_score is: 62.2799664710813\n",
      "Testing accuracy_score is: 0.5652173913043478\n",
      "\n",
      "\n",
      "At random state 70 The model Perfomes very well\n",
      "Training accuracy_score is: 60.603520536462696\n",
      "Testing accuracy_score is: 0.5585284280936454\n",
      "\n",
      "\n",
      "At random state 71 The model Perfomes very well\n",
      "Training accuracy_score is: 61.77703269069572\n",
      "Testing accuracy_score is: 0.5518394648829431\n",
      "\n",
      "\n",
      "At random state 72 The model Perfomes very well\n",
      "Training accuracy_score is: 61.35792120704108\n",
      "Testing accuracy_score is: 0.5652173913043478\n",
      "\n",
      "\n",
      "At random state 73 The model Perfomes very well\n",
      "Training accuracy_score is: 61.27409891031014\n",
      "Testing accuracy_score is: 0.5953177257525084\n",
      "\n",
      "\n",
      "At random state 74 The model Perfomes very well\n",
      "Training accuracy_score is: 61.69321039396479\n",
      "Testing accuracy_score is: 0.6020066889632107\n",
      "\n",
      "\n",
      "At random state 75 The model Perfomes very well\n",
      "Training accuracy_score is: 60.77116512992456\n",
      "Testing accuracy_score is: 0.5451505016722408\n",
      "\n",
      "\n",
      "At random state 76 The model Perfomes very well\n",
      "Training accuracy_score is: 60.77116512992456\n",
      "Testing accuracy_score is: 0.5919732441471572\n",
      "\n",
      "\n",
      "At random state 77 The model Perfomes very well\n",
      "Training accuracy_score is: 61.69321039396479\n",
      "Testing accuracy_score is: 0.5652173913043478\n",
      "\n",
      "\n",
      "At random state 78 The model Perfomes very well\n",
      "Training accuracy_score is: 61.60938809723386\n",
      "Testing accuracy_score is: 0.5317725752508361\n",
      "\n",
      "\n",
      "At random state 79 The model Perfomes very well\n",
      "Training accuracy_score is: 61.94467728415759\n",
      "Testing accuracy_score is: 0.5752508361204013\n",
      "\n",
      "\n",
      "At random state 80 The model Perfomes very well\n",
      "Training accuracy_score is: 61.10645431684828\n",
      "Testing accuracy_score is: 0.5953177257525084\n",
      "\n",
      "\n",
      "At random state 81 The model Perfomes very well\n",
      "Training accuracy_score is: 62.36378876781223\n",
      "Testing accuracy_score is: 0.5384615384615384\n",
      "\n",
      "\n",
      "At random state 82 The model Perfomes very well\n",
      "Training accuracy_score is: 62.2799664710813\n",
      "Testing accuracy_score is: 0.5217391304347826\n",
      "\n",
      "\n",
      "At random state 83 The model Perfomes very well\n",
      "Training accuracy_score is: 60.687342833193625\n",
      "Testing accuracy_score is: 0.5451505016722408\n",
      "\n",
      "\n",
      "At random state 84 The model Perfomes very well\n",
      "Training accuracy_score is: 62.86672254819782\n",
      "Testing accuracy_score is: 0.5752508361204013\n",
      "\n",
      "\n",
      "At random state 86 The model Perfomes very well\n",
      "Training accuracy_score is: 60.93880972338642\n",
      "Testing accuracy_score is: 0.5919732441471572\n",
      "\n",
      "\n",
      "At random state 88 The model Perfomes very well\n",
      "Training accuracy_score is: 61.35792120704108\n",
      "Testing accuracy_score is: 0.5852842809364549\n",
      "\n",
      "\n",
      "At random state 89 The model Perfomes very well\n",
      "Training accuracy_score is: 59.5138306789606\n",
      "Testing accuracy_score is: 0.5819397993311036\n",
      "\n",
      "\n",
      "At random state 90 The model Perfomes very well\n",
      "Training accuracy_score is: 61.77703269069572\n",
      "Testing accuracy_score is: 0.568561872909699\n",
      "\n",
      "\n",
      "At random state 91 The model Perfomes very well\n",
      "Training accuracy_score is: 60.85498742665549\n",
      "Testing accuracy_score is: 0.5819397993311036\n",
      "\n",
      "\n",
      "At random state 92 The model Perfomes very well\n",
      "Training accuracy_score is: 59.7652975691534\n",
      "Testing accuracy_score is: 0.5852842809364549\n",
      "\n",
      "\n",
      "At random state 93 The model Perfomes very well\n",
      "Training accuracy_score is: 60.603520536462696\n",
      "Testing accuracy_score is: 0.5652173913043478\n",
      "\n",
      "\n",
      "At random state 95 The model Perfomes very well\n",
      "Training accuracy_score is: 60.93880972338642\n",
      "Testing accuracy_score is: 0.5652173913043478\n",
      "\n",
      "\n",
      "At random state 97 The model Perfomes very well\n",
      "Training accuracy_score is: 60.77116512992456\n",
      "Testing accuracy_score is: 0.5384615384615384\n",
      "\n",
      "\n",
      "At random state 98 The model Perfomes very well\n",
      "Training accuracy_score is: 61.77703269069572\n",
      "Testing accuracy_score is: 0.5852842809364549\n",
      "\n",
      "\n",
      "At random state 99 The model Perfomes very well\n",
      "Training accuracy_score is: 61.19027661357921\n",
      "Testing accuracy_score is: 0.6020066889632107\n",
      "\n",
      "\n"
     ]
    }
   ],
   "source": [
    "max_scr=0\n",
    "for i in range(30,100):\n",
    "    x_train,x_test,y_train,y_test=train_test_split(x_t,y_r,test_size=.20,random_state=i)\n",
    "    lr.fit(x_train,y_train)\n",
    "    pred_train=lr.predict(x_train)\n",
    "    pred_test=lr.predict(x_test)\n",
    "    if round(accuracy_score(y_train,pred_train)*100,2)>=round(accuracy_score(y_test,pred_test)*100,2):\n",
    "        print(\"At random state\",i,\"The model Perfomes very well\")\n",
    "        print(\"Training accuracy_score is:\",accuracy_score(y_train,pred_train)*100)\n",
    "        print(\"Testing accuracy_score is:\",accuracy_score(y_test,pred_test), end = \"\\n\\n\\n\")"
   ]
  },
  {
   "cell_type": "raw",
   "metadata": {},
   "source": [
    "At random state 31 The model Perfomes very well\n",
    "Training accuracy_score is: 63.034367141659686\n",
    "Testing accuracy_score is: 0.5752508361204013"
   ]
  },
  {
   "cell_type": "code",
   "execution_count": 128,
   "metadata": {},
   "outputs": [],
   "source": [
    "x_train,x_test,y_train,y_test=train_test_split(x_t,y_r,test_size=.20,random_state=31)  \n",
    "num_folds = 10\n",
    "seed = 31\n",
    "scoring = 'accuracy'"
   ]
  },
  {
   "cell_type": "code",
   "execution_count": 91,
   "metadata": {},
   "outputs": [],
   "source": [
    "models= [\n",
    "    (\"SVC\",SVC()),\n",
    "    (\"Logistic Regression\",LogisticRegression()),\n",
    "    (\"Decision Tree\", DecisionTreeClassifier()),\n",
    "    (\"Naive Bayes\",GaussianNB()),\n",
    "    (\"KNearest Neighbors\",KNeighborsClassifier(3)),\n",
    "    (\"RandomForestClassifier\",RandomForestClassifier())\n",
    "    ]"
   ]
  },
  {
   "cell_type": "code",
   "execution_count": 92,
   "metadata": {},
   "outputs": [
    {
     "name": "stdout",
     "output_type": "stream",
     "text": [
      "SVC: 0.496183 (0.031029)\n",
      "Logistic Regression: 0.585889 (0.034983)\n",
      "Decision Tree: 0.865077 (0.017935)\n",
      "Naive Bayes: 0.831604 (0.035032)\n",
      "KNearest Neighbors: 0.808817 (0.032350)\n",
      "RandomForestClassifier: 0.959769 (0.021401)\n"
     ]
    }
   ],
   "source": [
    "results = []\n",
    "names = []\n",
    "for name, model in models:\n",
    "    kfold = KFold(n_splits=num_folds, random_state=seed)\n",
    "    cv_results = cross_val_score(model, x_train, y_train, cv=kfold, scoring=scoring)\n",
    "    results.append(cv_results)\n",
    "    names.append(name)\n",
    "    msg = \"%s: %f (%f)\" % (name, cv_results.mean(), cv_results.std())\n",
    "    print(msg)\n"
   ]
  },
  {
   "cell_type": "raw",
   "metadata": {},
   "source": [
    "RandomForestClassifier: 0.959769 (0.021401)\n",
    "we have achived a accuracy score of 95.9% so we can go ahead with the following model for hyper parameter tuning "
   ]
  },
  {
   "cell_type": "code",
   "execution_count": 93,
   "metadata": {},
   "outputs": [],
   "source": [
    "#define models and parameters\n",
    "n_estimators = [10, 100]\n",
    "max_features = ['sqrt', 'log2']\n",
    "param_grid = dict(n_estimators=n_estimators,max_features=max_features)\n",
    "model = RandomForestClassifier()\n",
    "kfold = KFold(n_splits=num_folds, random_state=7)\n",
    "grid = GridSearchCV(estimator=model, param_grid=param_grid, scoring=scoring, cv=kfold)\n",
    "grid_result = grid.fit(x_train, y_train)"
   ]
  },
  {
   "cell_type": "code",
   "execution_count": 94,
   "metadata": {},
   "outputs": [
    {
     "name": "stdout",
     "output_type": "stream",
     "text": [
      "Best: 0.961464 using {'max_features': 'log2', 'n_estimators': 100}\n",
      "#3 0.943824 (0.023088) with: {'max_features': 'sqrt', 'n_estimators': 10}\n",
      "#2 0.958936 (0.018117) with: {'max_features': 'sqrt', 'n_estimators': 100}\n",
      "#4 0.928690 (0.027195) with: {'max_features': 'log2', 'n_estimators': 10}\n",
      "#1 0.961464 (0.021815) with: {'max_features': 'log2', 'n_estimators': 100}\n"
     ]
    }
   ],
   "source": [
    "print(\"Best: %f using %s\" % (grid_result.best_score_, grid_result.best_params_))\n",
    "means = grid_result.cv_results_['mean_test_score']\n",
    "stds = grid_result.cv_results_['std_test_score']\n",
    "params = grid_result.cv_results_['params']\n",
    "ranks = grid_result.cv_results_['rank_test_score']\n",
    "for mean, stdev, param, rank in zip(means, stds, params, ranks):\n",
    "    print(\"#%d %f (%f) with: %r\" % (rank, mean, stdev, param))"
   ]
  },
  {
   "cell_type": "markdown",
   "metadata": {},
   "source": [
    "Model has been perfoming Best: 0.964524 using {'max_features': 'sqrt', 'n_estimators': 100}\n",
    "#Let us Check for more Boosting Techniques and go for final model"
   ]
  },
  {
   "cell_type": "code",
   "execution_count": 130,
   "metadata": {
    "scrolled": true
   },
   "outputs": [
    {
     "name": "stdout",
     "output_type": "stream",
     "text": [
      "[AdaBoostClassifier()]:\n",
      "0.6287625418060201\n",
      "[[13  0  0 ...  0  0  0]\n",
      " [ 0 14  0 ...  0  0  0]\n",
      " [ 0  0 11 ...  0  0  0]\n",
      " ...\n",
      " [ 0  0  0 ...  3  0  0]\n",
      " [ 0  0  0 ...  0  7  0]\n",
      " [ 0  0  0 ...  0  0  6]]\n",
      "****************************************************************\n",
      "\n",
      "\n",
      "[AdaBoostClassifier(), GradientBoostingClassifier()]:\n",
      "0.979933110367893\n",
      "[[13  0  0 ...  0  0  0]\n",
      " [ 0 14  0 ...  0  0  0]\n",
      " [ 0  0 11 ...  0  0  0]\n",
      " ...\n",
      " [ 0  0  0 ...  3  0  0]\n",
      " [ 0  0  0 ...  0  7  0]\n",
      " [ 0  0  0 ...  0  0  6]]\n",
      "****************************************************************\n",
      "\n",
      "\n",
      "[AdaBoostClassifier(), GradientBoostingClassifier(), BaggingClassifier()]:\n",
      "0.9933110367892977\n",
      "[[13  0  0 ...  0  0  0]\n",
      " [ 0 14  0 ...  0  0  0]\n",
      " [ 0  0 11 ...  0  0  0]\n",
      " ...\n",
      " [ 0  0  0 ...  3  0  0]\n",
      " [ 0  0  0 ...  0  7  0]\n",
      " [ 0  0  0 ...  0  0  6]]\n",
      "****************************************************************\n",
      "\n",
      "\n",
      "[AdaBoostClassifier(), GradientBoostingClassifier(), BaggingClassifier(), ExtraTreesClassifier()]:\n",
      "1.0\n",
      "[[13  0  0 ...  0  0  0]\n",
      " [ 0 14  0 ...  0  0  0]\n",
      " [ 0  0 11 ...  0  0  0]\n",
      " ...\n",
      " [ 0  0  0 ...  3  0  0]\n",
      " [ 0  0  0 ...  0  7  0]\n",
      " [ 0  0  0 ...  0  0  6]]\n",
      "****************************************************************\n",
      "\n",
      "\n"
     ]
    }
   ],
   "source": [
    "models= [AdaBoostClassifier(),GradientBoostingClassifier(),BaggingClassifier(),ExtraTreesClassifier()]\n",
    "names = []\n",
    "\n",
    "for m in models:\n",
    "    m.fit(x_train, y_train)\n",
    "    m.score(x_train, y_train)\n",
    "    predm = m.predict(x_test)\n",
    "    names.append(m)\n",
    "    msg = \"%s:\" % (names)\n",
    "    print(msg)\n",
    "    print(accuracy_score(y_test, predm)) \n",
    "    print(confusion_matrix(y_test, predm))\n",
    "    print(\"****************************************************************\")\n",
    "    print(\"\\n\")"
   ]
  },
  {
   "cell_type": "code",
   "execution_count": 131,
   "metadata": {},
   "outputs": [
    {
     "data": {
      "text/plain": [
       "ExtraTreesClassifier()"
      ]
     },
     "execution_count": 131,
     "metadata": {},
     "output_type": "execute_result"
    }
   ],
   "source": [
    "model = ExtraTreesClassifier(n_estimators=100)\n",
    "model.fit(x_train, y_train)"
   ]
  },
  {
   "cell_type": "code",
   "execution_count": 132,
   "metadata": {},
   "outputs": [
    {
     "name": "stdout",
     "output_type": "stream",
     "text": [
      "1.0\n",
      "[[13  0  0 ...  0  0  0]\n",
      " [ 0 14  0 ...  0  0  0]\n",
      " [ 0  0 11 ...  0  0  0]\n",
      " ...\n",
      " [ 0  0  0 ...  3  0  0]\n",
      " [ 0  0  0 ...  0  7  0]\n",
      " [ 0  0  0 ...  0  0  6]]\n",
      "              precision    recall  f1-score   support\n",
      "\n",
      "           0       1.00      1.00      1.00        13\n",
      "           1       1.00      1.00      1.00        14\n",
      "           2       1.00      1.00      1.00        11\n",
      "           3       1.00      1.00      1.00        17\n",
      "           4       1.00      1.00      1.00         9\n",
      "           5       1.00      1.00      1.00        10\n",
      "           6       1.00      1.00      1.00        16\n",
      "           7       1.00      1.00      1.00         7\n",
      "           8       1.00      1.00      1.00         2\n",
      "           9       1.00      1.00      1.00        10\n",
      "          10       1.00      1.00      1.00         2\n",
      "          11       1.00      1.00      1.00         3\n",
      "          12       1.00      1.00      1.00        10\n",
      "          13       1.00      1.00      1.00         4\n",
      "          14       1.00      1.00      1.00         2\n",
      "          15       1.00      1.00      1.00         3\n",
      "          16       1.00      1.00      1.00         2\n",
      "          17       1.00      1.00      1.00         8\n",
      "          18       1.00      1.00      1.00         4\n",
      "          19       1.00      1.00      1.00         8\n",
      "          20       1.00      1.00      1.00         2\n",
      "          21       1.00      1.00      1.00         1\n",
      "          22       1.00      1.00      1.00         5\n",
      "          23       1.00      1.00      1.00         2\n",
      "          24       1.00      1.00      1.00         4\n",
      "          25       1.00      1.00      1.00         4\n",
      "          26       1.00      1.00      1.00         4\n",
      "          27       1.00      1.00      1.00         1\n",
      "          28       1.00      1.00      1.00         8\n",
      "          29       1.00      1.00      1.00         4\n",
      "          30       1.00      1.00      1.00         2\n",
      "          31       1.00      1.00      1.00         9\n",
      "          32       1.00      1.00      1.00         7\n",
      "          33       1.00      1.00      1.00         5\n",
      "          34       1.00      1.00      1.00         9\n",
      "          35       1.00      1.00      1.00         3\n",
      "          36       1.00      1.00      1.00         5\n",
      "          37       1.00      1.00      1.00         4\n",
      "          38       1.00      1.00      1.00         6\n",
      "          39       1.00      1.00      1.00         4\n",
      "          40       1.00      1.00      1.00         1\n",
      "          41       1.00      1.00      1.00         5\n",
      "          42       1.00      1.00      1.00         7\n",
      "          43       1.00      1.00      1.00         1\n",
      "          44       1.00      1.00      1.00        14\n",
      "          45       1.00      1.00      1.00         5\n",
      "          46       1.00      1.00      1.00         6\n",
      "          47       1.00      1.00      1.00         3\n",
      "          48       1.00      1.00      1.00         7\n",
      "          49       1.00      1.00      1.00         6\n",
      "\n",
      "    accuracy                           1.00       299\n",
      "   macro avg       1.00      1.00      1.00       299\n",
      "weighted avg       1.00      1.00      1.00       299\n",
      "\n"
     ]
    }
   ],
   "source": [
    "predictions = model.predict(x_test)\n",
    "print(accuracy_score(y_test, predictions)) \n",
    "print(confusion_matrix(y_test, predictions))\n",
    "print(classification_report(y_test, predictions))"
   ]
  },
  {
   "cell_type": "code",
   "execution_count": 133,
   "metadata": {},
   "outputs": [
    {
     "data": {
      "text/html": [
       "<div>\n",
       "<style scoped>\n",
       "    .dataframe tbody tr th:only-of-type {\n",
       "        vertical-align: middle;\n",
       "    }\n",
       "\n",
       "    .dataframe tbody tr th {\n",
       "        vertical-align: top;\n",
       "    }\n",
       "\n",
       "    .dataframe thead th {\n",
       "        text-align: right;\n",
       "    }\n",
       "</style>\n",
       "<table border=\"1\" class=\"dataframe\">\n",
       "  <thead>\n",
       "    <tr style=\"text-align: right;\">\n",
       "      <th></th>\n",
       "      <th>Original Region</th>\n",
       "      <th>Predicted Region</th>\n",
       "    </tr>\n",
       "    <tr>\n",
       "      <th>Date</th>\n",
       "      <th></th>\n",
       "      <th></th>\n",
       "    </tr>\n",
       "  </thead>\n",
       "  <tbody>\n",
       "    <tr>\n",
       "      <th>2015-06-12</th>\n",
       "      <td>31</td>\n",
       "      <td>31</td>\n",
       "    </tr>\n",
       "    <tr>\n",
       "      <th>2015-08-23</th>\n",
       "      <td>3</td>\n",
       "      <td>3</td>\n",
       "    </tr>\n",
       "    <tr>\n",
       "      <th>2016-11-27</th>\n",
       "      <td>7</td>\n",
       "      <td>7</td>\n",
       "    </tr>\n",
       "    <tr>\n",
       "      <th>2015-11-29</th>\n",
       "      <td>2</td>\n",
       "      <td>2</td>\n",
       "    </tr>\n",
       "    <tr>\n",
       "      <th>2015-06-21</th>\n",
       "      <td>28</td>\n",
       "      <td>28</td>\n",
       "    </tr>\n",
       "    <tr>\n",
       "      <th>...</th>\n",
       "      <td>...</td>\n",
       "      <td>...</td>\n",
       "    </tr>\n",
       "    <tr>\n",
       "      <th>2015-05-04</th>\n",
       "      <td>3</td>\n",
       "      <td>3</td>\n",
       "    </tr>\n",
       "    <tr>\n",
       "      <th>2015-06-21</th>\n",
       "      <td>12</td>\n",
       "      <td>12</td>\n",
       "    </tr>\n",
       "    <tr>\n",
       "      <th>2015-07-19</th>\n",
       "      <td>8</td>\n",
       "      <td>8</td>\n",
       "    </tr>\n",
       "    <tr>\n",
       "      <th>2015-03-15</th>\n",
       "      <td>46</td>\n",
       "      <td>46</td>\n",
       "    </tr>\n",
       "    <tr>\n",
       "      <th>2015-10-05</th>\n",
       "      <td>8</td>\n",
       "      <td>8</td>\n",
       "    </tr>\n",
       "  </tbody>\n",
       "</table>\n",
       "<p>299 rows × 2 columns</p>\n",
       "</div>"
      ],
      "text/plain": [
       "            Original Region  Predicted Region\n",
       "Date                                         \n",
       "2015-06-12               31                31\n",
       "2015-08-23                3                 3\n",
       "2016-11-27                7                 7\n",
       "2015-11-29                2                 2\n",
       "2015-06-21               28                28\n",
       "...                     ...               ...\n",
       "2015-05-04                3                 3\n",
       "2015-06-21               12                12\n",
       "2015-07-19                8                 8\n",
       "2015-03-15               46                46\n",
       "2015-10-05                8                 8\n",
       "\n",
       "[299 rows x 2 columns]"
      ]
     },
     "execution_count": 133,
     "metadata": {},
     "output_type": "execute_result"
    }
   ],
   "source": [
    "df_pred=pd.DataFrame({\"Original Region\":y_test,\"Predicted Region\":predictions})\n",
    "df_pred"
   ]
  },
  {
   "cell_type": "markdown",
   "metadata": {},
   "source": [
    "#Model has achived a Accuracy Score of 97.9%"
   ]
  },
  {
   "cell_type": "code",
   "execution_count": 112,
   "metadata": {},
   "outputs": [
    {
     "data": {
      "text/plain": [
       "['Avacadoregion.pkl']"
      ]
     },
     "execution_count": 112,
     "metadata": {},
     "output_type": "execute_result"
    }
   ],
   "source": [
    "import joblib\n",
    "joblib.dump(model,\"Avacadoregion.pkl\")"
   ]
  },
  {
   "cell_type": "markdown",
   "metadata": {},
   "source": [
    "# Concluding Remarks"
   ]
  },
  {
   "cell_type": "code",
   "execution_count": 135,
   "metadata": {},
   "outputs": [],
   "source": [
    "#AveragePrice of Avacaods\n",
    "#We have been able to achive a\n",
    "#R2 Score of  86.87%\n",
    "#Cross val Score: 33.79%\n",
    "#Using ExtraTreesRegressor for predicting the Average Price of Avacados\n",
    "\n",
    "\n",
    "#\\\\\\\\\\\\\\\\\\\\\\\\\\\\\\\\\\\\\\\\\\\\\\\\\\\\\\\\\\\\\\\\\\\\\\\\\\\\\\\\\\\\\\\\\\\\\\\\\\\\\\\\\\\\\\\\\\\\\\\\\n",
    "\n",
    "#Region Avacados Belong\n",
    "#We have been able to achive a\n",
    "#Accuracy Score of 100%\n",
    "#Using ExtraTreesClassifier for Predicting the region the Avacados belong to \n",
    "\n",
    "#\\\\\\\\\\\\\\\\\\\\\\\\\\\\\\\\\\\\\\\\\\\\\\\\\\\\\\\\\\\\\\\\\\\\\\\\\\\\\\\\\\\\\\\\\\\\\\\\\\\\\\\\\\\\\\\\\\\\\\\\\\\n",
    "\n",
    "#Correlation of Attributes with Target Variable \n",
    "\n",
    "#Correlation of Attributes with that of Average Price \n",
    "\n",
    "#Positive  Correlation with Target\n",
    "#year - \"18%\"\n",
    "\n",
    "#Negative Correlation with Target\n",
    "\n",
    "#Total Volume - \"-26%\"\n",
    "#4046    - \"-36%\"\n",
    "#4225    - \"-13%\"\n",
    "#4770    - \"-12%\" \n",
    "#Total Bags- \"-15%\"\n",
    "#region-\"-22%\"\n",
    "\n",
    "\n",
    "#\\\\\\\\\\\\\\\\\\\\\\\\\\\\\\\\\\\\\\\\\\\\\\\\\\\\\\\\\\\\\\\\\\\\\\\\\\\\\\\\\\\\\\\\\\\\\\\\\\\\\\\\\\\\\\\\\\\\\\\\\\\n",
    "\n",
    "#Correlation of attributes with that of region \n",
    "\n",
    "#Positive Correlation with Target\n",
    "\n",
    "#Total Volume - \"10%\"\n",
    "#4046    - \"18%\"\n",
    "#4225    - \"4%\"\n",
    "\n",
    "#Negative Correlation with Target\n",
    "#year - \"-47%\"\n",
    "#4770    - \"-9%\" \n",
    "#Average Price - \"-22%\""
   ]
  },
  {
   "cell_type": "code",
   "execution_count": null,
   "metadata": {},
   "outputs": [],
   "source": []
  }
 ],
 "metadata": {
  "kernelspec": {
   "display_name": "Python 3",
   "language": "python",
   "name": "python3"
  },
  "language_info": {
   "codemirror_mode": {
    "name": "ipython",
    "version": 3
   },
   "file_extension": ".py",
   "mimetype": "text/x-python",
   "name": "python",
   "nbconvert_exporter": "python",
   "pygments_lexer": "ipython3",
   "version": "3.8.3"
  }
 },
 "nbformat": 4,
 "nbformat_minor": 4
}
